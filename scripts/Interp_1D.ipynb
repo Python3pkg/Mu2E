{
 "cells": [
  {
   "cell_type": "code",
   "execution_count": 40,
   "metadata": {
    "collapsed": false
   },
   "outputs": [],
   "source": [
    "import numpy as np\n",
    "from scipy.interpolate import Rbf\n",
    "import plotly.plotly as py\n",
    "import plotly.graph_objs as go\n",
    "from mu2e.dataframeprod import DataFrameMaker\n",
    "from mu2e.src.fiteval_c2 import FitFunctionMaker2\n",
    "from interp_studies import interp_phi\n",
    "from mu2e import mu2e_ext_path"
   ]
  },
  {
   "cell_type": "code",
   "execution_count": 23,
   "metadata": {
    "collapsed": false
   },
   "outputs": [
    {
     "name": "stdout",
     "output_type": "stream",
     "text": [
      "-1.02214e-14\r\n",
      "7000370\r\n"
     ]
    }
   ],
   "source": [
    "df = DataFrameMaker(mu2e_ext_path+'datafiles/Mau10/Standard_Maps/Mu2e_DSMap',use_pickle = True).data_frame\n",
    "ffm = FitFunctionMaker2('../mu2e/src/Mau10_800mm_long.csv')"
   ]
  },
  {
   "cell_type": "code",
   "execution_count": 24,
   "metadata": {
    "collapsed": true
   },
   "outputs": [],
   "source": [
    "z = 6571\n",
    "y = 100\n",
    "xs = np.linspace(0,700,701)\n",
    "buffer = 100 # for rbf\n",
    "df_subset = df.query('{0}<=X<={1} and {2}<=Y<={3} and {4}<=Z<={5}'.format(\n",
    "    xs[0]-100, xs[-1]+100, y-100, y+100, z-100, z+100))"
   ]
  },
  {
   "cell_type": "code",
   "execution_count": 43,
   "metadata": {
    "collapsed": false,
    "scrolled": true
   },
   "outputs": [
    {
     "name": "stdout",
     "output_type": "stream",
     "text": [
      "0.0\n",
      "10.0\n",
      "20.0\n",
      "30.0\n",
      "40.0\n",
      "50.0\n",
      "60.0\n",
      "70.0\n",
      "80.0\n",
      "90.0\n",
      "100.0\n",
      "110.0\n",
      "120.0\n",
      "130.0\n",
      "140.0\n",
      "150.0\n",
      "160.0\n",
      "170.0\n",
      "180.0\n",
      "190.0\n",
      "200.0\n",
      "210.0\n",
      "220.0\n",
      "230.0\n",
      "240.0\n",
      "250.0\n",
      "260.0\n",
      "270.0\n",
      "280.0\n",
      "290.0\n",
      "300.0\n",
      "310.0\n",
      "320.0\n",
      "330.0\n",
      "340.0\n",
      "350.0\n",
      "360.0\n",
      "370.0\n",
      "380.0\n",
      "390.0\n",
      "400.0\n",
      "410.0\n",
      "420.0\n",
      "430.0\n",
      "440.0\n",
      "450.0\n",
      "460.0\n",
      "470.0\n",
      "480.0\n",
      "490.0\n",
      "500.0\n",
      "510.0\n",
      "520.0\n",
      "530.0\n",
      "540.0\n",
      "550.0\n",
      "560.0\n",
      "570.0\n",
      "580.0\n",
      "590.0\n",
      "600.0\n",
      "610.0\n",
      "620.0\n",
      "630.0\n",
      "640.0\n",
      "650.0\n",
      "660.0\n",
      "670.0\n",
      "680.0\n",
      "690.0\n",
      "700.0\n"
     ]
    }
   ],
   "source": [
    "bx_rbf = []\n",
    "by_rbf = []\n",
    "bz_rbf = []\n",
    "\n",
    "bx_lacey = []\n",
    "by_lacey = []\n",
    "bz_lacey = []\n",
    "\n",
    "bx_map = []\n",
    "by_map = []\n",
    "bz_map = []\n",
    "\n",
    "for x in xs:\n",
    "    if x%10==0: print x\n",
    "    # RBF mode\n",
    "    df_tmp = df_subset.query('{0}<=X<={1}'.format(x-100,x+100))\n",
    "    rbf_bx = Rbf(df_tmp.X, df_tmp.Y, df_tmp.Z, df_tmp.Bx, function='linear')\n",
    "    rbf_by = Rbf(df_tmp.X, df_tmp.Y, df_tmp.Z, df_tmp.By, function='linear')\n",
    "    rbf_bz = Rbf(df_tmp.X, df_tmp.Y, df_tmp.Z, df_tmp.Bz, function='linear')\n",
    "    bx_rbf.append(float(rbf_bx(x,y,z)))\n",
    "    by_rbf.append(float(rbf_by(x,y,z)))\n",
    "    bz_rbf.append(float(rbf_bz(x,y,z)))\n",
    "    \n",
    "    # Lacey mode\n",
    "    _, b_lacey = interp_phi(df_tmp, x, y, z, plot=False)\n",
    "    bx_lacey.append(b_lacey[0])\n",
    "    by_lacey.append(b_lacey[1])\n",
    "    bz_lacey.append(b_lacey[2])\n",
    "    \n",
    "    # Field Map mode\n",
    "    b_map = ffm.mag_field_function(x,y,z, True)\n",
    "    bx_map.append(b_map[0])\n",
    "    by_map.append(b_map[1])\n",
    "    bz_map.append(b_map[2])"
   ]
  },
  {
   "cell_type": "code",
   "execution_count": 44,
   "metadata": {
    "collapsed": false
   },
   "outputs": [
    {
     "data": {
      "text/html": [
       "<iframe id=\"igraph\" scrolling=\"no\" style=\"border:none;\" seamless=\"seamless\" src=\"https://plot.ly/~BroverCleveland/85.embed\" height=\"525px\" width=\"100%\"></iframe>"
      ],
      "text/plain": [
       "<plotly.tools.PlotlyDisplay object>"
      ]
     },
     "execution_count": 44,
     "metadata": {},
     "output_type": "execute_result"
    }
   ],
   "source": [
    "layout = dict(title = 'Bz v X, Y={0}, Z={1}'.format(y,z),\n",
    "              xaxis = dict(title = 'X (mm)'),\n",
    "              yaxis = dict(title = 'Bz (T)'),\n",
    "              showlegend=True,\n",
    "              )\n",
    "trace_map = go.Scatter(\n",
    "    x = xs,\n",
    "    y = bz_map,\n",
    "    name = 'fit map'\n",
    ")\n",
    "trace_rbf = go.Scatter(\n",
    "    x = xs,\n",
    "    y = bz_rbf,\n",
    "    name = 'rbf'\n",
    ")\n",
    "trace_lacey = go.Scatter(\n",
    "    x = xs,\n",
    "    y = bz_lacey,\n",
    "    name = 'lacey'\n",
    ")\n",
    "data = [trace_map, trace_rbf, trace_lacey]\n",
    "fig = dict(data=data, layout=layout)\n",
    "py.iplot(fig)"
   ]
  },
  {
   "cell_type": "code",
   "execution_count": 49,
   "metadata": {
    "collapsed": false
   },
   "outputs": [
    {
     "data": {
      "text/html": [
       "<iframe id=\"igraph\" scrolling=\"no\" style=\"border:none;\" seamless=\"seamless\" src=\"https://plot.ly/~BroverCleveland/87.embed\" height=\"525px\" width=\"100%\"></iframe>"
      ],
      "text/plain": [
       "<plotly.tools.PlotlyDisplay object>"
      ]
     },
     "execution_count": 49,
     "metadata": {},
     "output_type": "execute_result"
    }
   ],
   "source": [
    "layout = dict(title = 'Bx v X, Y={0}, Z={1}'.format(y,z),\n",
    "              xaxis = dict(title = 'X (mm)'),\n",
    "              yaxis = dict(title = 'Bx (T)'),\n",
    "              showlegend=True,\n",
    "              )\n",
    "trace_map = go.Scatter(\n",
    "    x = xs,\n",
    "    y = bx_map,\n",
    "    name = 'fit map'\n",
    ")\n",
    "trace_rbf = go.Scatter(\n",
    "    x = xs,\n",
    "    y = bx_rbf,\n",
    "    name = 'rbf'\n",
    ")\n",
    "trace_lacey = go.Scatter(\n",
    "    x = xs,\n",
    "    y = bx_lacey,\n",
    "    name = 'lacey'\n",
    ")\n",
    "data = [trace_map, trace_rbf, trace_lacey]\n",
    "fig = dict(data=data, layout=layout)\n",
    "py.iplot(fig)"
   ]
  },
  {
   "cell_type": "code",
   "execution_count": 50,
   "metadata": {
    "collapsed": false
   },
   "outputs": [
    {
     "data": {
      "text/html": [
       "<iframe id=\"igraph\" scrolling=\"no\" style=\"border:none;\" seamless=\"seamless\" src=\"https://plot.ly/~BroverCleveland/89.embed\" height=\"525px\" width=\"100%\"></iframe>"
      ],
      "text/plain": [
       "<plotly.tools.PlotlyDisplay object>"
      ]
     },
     "execution_count": 50,
     "metadata": {},
     "output_type": "execute_result"
    }
   ],
   "source": [
    "layout = dict(title = 'By v X, Y={0}, Z={1}'.format(y,z),\n",
    "              xaxis = dict(title = 'X (mm)'),\n",
    "              yaxis = dict(title = 'By (T)'),\n",
    "              showlegend=True,\n",
    "              )\n",
    "trace_map = go.Scatter(\n",
    "    x = xs,\n",
    "    y = by_map,\n",
    "    name = 'fit map'\n",
    ")\n",
    "trace_rbf = go.Scatter(\n",
    "    x = xs,\n",
    "    y = by_rbf,\n",
    "    name = 'rbf'\n",
    ")\n",
    "trace_lacey = go.Scatter(\n",
    "    x = xs,\n",
    "    y = by_lacey,\n",
    "    name = 'lacey'\n",
    ")\n",
    "data = [trace_map, trace_rbf, trace_lacey]\n",
    "fig = dict(data=data, layout=layout)\n",
    "py.iplot(fig)"
   ]
  },
  {
   "cell_type": "code",
   "execution_count": 51,
   "metadata": {
    "collapsed": false
   },
   "outputs": [
    {
     "ename": "ImportError",
     "evalue": "No module named tdqm",
     "output_type": "error",
     "traceback": [
      "\u001b[0;31m\u001b[0m",
      "\u001b[0;31mImportError\u001b[0mTraceback (most recent call last)",
      "\u001b[0;32m<ipython-input-51-99671e6abf5c>\u001b[0m in \u001b[0;36m<module>\u001b[0;34m()\u001b[0m\n\u001b[0;32m----> 1\u001b[0;31m \u001b[0;32mimport\u001b[0m \u001b[0mtdqm\u001b[0m\u001b[0;34m\u001b[0m\u001b[0m\n\u001b[0m",
      "\u001b[0;32m/usr/local/Cellar/root6/6.06.06/lib/root/ROOT.pyc\u001b[0m in \u001b[0;36m_importhook\u001b[0;34m(name, *args, **kwds)\u001b[0m\n\u001b[1;32m    301\u001b[0m       \u001b[0;32mexcept\u001b[0m \u001b[0mException\u001b[0m\u001b[0;34m:\u001b[0m\u001b[0;34m\u001b[0m\u001b[0m\n\u001b[1;32m    302\u001b[0m          \u001b[0;32mpass\u001b[0m\u001b[0;34m\u001b[0m\u001b[0m\n\u001b[0;32m--> 303\u001b[0;31m    \u001b[0;32mreturn\u001b[0m \u001b[0m_orig_ihook\u001b[0m\u001b[0;34m(\u001b[0m \u001b[0mname\u001b[0m\u001b[0;34m,\u001b[0m \u001b[0;34m*\u001b[0m\u001b[0margs\u001b[0m\u001b[0;34m,\u001b[0m \u001b[0;34m**\u001b[0m\u001b[0mkwds\u001b[0m \u001b[0;34m)\u001b[0m\u001b[0;34m\u001b[0m\u001b[0m\n\u001b[0m\u001b[1;32m    304\u001b[0m \u001b[0;34m\u001b[0m\u001b[0m\n\u001b[1;32m    305\u001b[0m \u001b[0m__builtin__\u001b[0m\u001b[0;34m.\u001b[0m\u001b[0m__import__\u001b[0m \u001b[0;34m=\u001b[0m \u001b[0m_importhook\u001b[0m\u001b[0;34m\u001b[0m\u001b[0m\n",
      "\u001b[0;31mImportError\u001b[0m: No module named tdqm"
     ]
    }
   ],
   "source": [
    "import tdqm"
   ]
  },
  {
   "cell_type": "code",
   "execution_count": null,
   "metadata": {
    "collapsed": true
   },
   "outputs": [],
   "source": []
  }
 ],
 "metadata": {
  "kernelspec": {
   "display_name": "Python 2",
   "language": "python",
   "name": "python2"
  },
  "language_info": {
   "codemirror_mode": {
    "name": "ipython",
    "version": 2
   },
   "file_extension": ".py",
   "mimetype": "text/x-python",
   "name": "python",
   "nbconvert_exporter": "python",
   "pygments_lexer": "ipython2",
   "version": "2.7.12"
  }
 },
 "nbformat": 4,
 "nbformat_minor": 0
}
