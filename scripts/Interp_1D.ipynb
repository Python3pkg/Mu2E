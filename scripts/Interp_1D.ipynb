{
 "cells": [
  {
   "cell_type": "code",
   "execution_count": 1,
   "metadata": {
    "collapsed": false
   },
   "outputs": [],
   "source": [
    "import numpy as np\n",
    "from scipy.interpolate import Rbf\n",
    "import plotly.plotly as py\n",
    "import plotly.graph_objs as go\n",
    "from mu2e.dataframeprod import DataFrameMaker\n",
    "from mu2e.src.fiteval_c2 import FitFunctionMaker2\n",
    "from interp_studies import interp_phi\n",
    "from mu2e import mu2e_ext_path\n",
    "import tqdm"
   ]
  },
  {
   "cell_type": "code",
   "execution_count": 2,
   "metadata": {
    "collapsed": false
   },
   "outputs": [],
   "source": [
    "df = DataFrameMaker(mu2e_ext_path+'datafiles/Mau10/Standard_Maps/Mu2e_DSMap',use_pickle = True).data_frame\n",
    "ffm = FitFunctionMaker2('../mu2e/src/Mau10_800mm_long.csv')"
   ]
  },
  {
   "cell_type": "code",
   "execution_count": 3,
   "metadata": {
    "collapsed": true
   },
   "outputs": [],
   "source": [
    "#z = 6571\n",
    "#y = 100\n",
    "y = 100\n",
    "z = 6521\n",
    "xs = np.linspace(0,700,701)\n",
    "buffer = 100 # for rbf\n",
    "df_subset = df.query('{0}<=X<={1} and {2}<=Y<={3} and {4}<=Z<={5}'.format(\n",
    "    xs[0]-100, xs[-1]+100, y-100, y+100, z-100, z+100))"
   ]
  },
  {
   "cell_type": "code",
   "execution_count": 4,
   "metadata": {
    "collapsed": false,
    "scrolled": true
   },
   "outputs": [
    {
     "name": "stderr",
     "output_type": "stream",
     "text": [
      "100%|██████████| 701/701 [00:51<00:00, 13.70it/s]\n"
     ]
    }
   ],
   "source": [
    "bx_rbf = []\n",
    "by_rbf = []\n",
    "bz_rbf = []\n",
    "\n",
    "bx_lacey = []\n",
    "by_lacey = []\n",
    "bz_lacey = []\n",
    "\n",
    "bx_map = []\n",
    "by_map = []\n",
    "bz_map = []\n",
    "\n",
    "for x in tqdm.tqdm(xs):\n",
    "    # RBF mode\n",
    "    df_tmp = df_subset.query('{0}<=X<={1}'.format(x-100,x+100))\n",
    "    rbf_bx = Rbf(df_tmp.X, df_tmp.Y, df_tmp.Z, df_tmp.Bx, function='linear')\n",
    "    rbf_by = Rbf(df_tmp.X, df_tmp.Y, df_tmp.Z, df_tmp.By, function='linear')\n",
    "    rbf_bz = Rbf(df_tmp.X, df_tmp.Y, df_tmp.Z, df_tmp.Bz, function='linear')\n",
    "    bx_rbf.append(float(rbf_bx(x,y,z)))\n",
    "    by_rbf.append(float(rbf_by(x,y,z)))\n",
    "    bz_rbf.append(float(rbf_bz(x,y,z)))\n",
    "    \n",
    "    # Lacey mode\n",
    "    _, b_lacey = interp_phi(df_tmp, x, y, z, plot=False)\n",
    "    bx_lacey.append(b_lacey[0])\n",
    "    by_lacey.append(b_lacey[1])\n",
    "    bz_lacey.append(b_lacey[2])\n",
    "    \n",
    "    # Field Map mode\n",
    "    b_map = ffm.mag_field_function(x,y,z, True)\n",
    "    bx_map.append(b_map[0])\n",
    "    by_map.append(b_map[1])\n",
    "    bz_map.append(b_map[2])"
   ]
  },
  {
   "cell_type": "code",
   "execution_count": 5,
   "metadata": {
    "collapsed": false
   },
   "outputs": [
    {
     "data": {
      "text/html": [
       "<iframe id=\"igraph\" scrolling=\"no\" style=\"border:none;\" seamless=\"seamless\" src=\"https://plot.ly/~BroverCleveland/137.embed\" height=\"525px\" width=\"100%\"></iframe>"
      ],
      "text/plain": [
       "<plotly.tools.PlotlyDisplay object>"
      ]
     },
     "execution_count": 5,
     "metadata": {},
     "output_type": "execute_result"
    }
   ],
   "source": [
    "layout = dict(title = 'Bz v X, Y={0}, Z={1}'.format(y,z),\n",
    "              xaxis = dict(title = 'X (mm)'),\n",
    "              yaxis = dict(title = 'Bz (T)'),\n",
    "              showlegend=True,\n",
    "              )\n",
    "trace_map = go.Scatter(\n",
    "    x = xs,\n",
    "    y = bz_map,\n",
    "    name = 'fit map'\n",
    ")\n",
    "trace_rbf = go.Scatter(\n",
    "    x = xs,\n",
    "    y = bz_rbf,\n",
    "    name = 'rbf'\n",
    ")\n",
    "trace_lacey = go.Scatter(\n",
    "    x = xs,\n",
    "    y = bz_lacey,\n",
    "    name = 'lacey'\n",
    ")\n",
    "data = [trace_map, trace_rbf, trace_lacey]\n",
    "fig = dict(data=data, layout=layout)\n",
    "py.iplot(fig)"
   ]
  },
  {
   "cell_type": "code",
   "execution_count": 6,
   "metadata": {
    "collapsed": false
   },
   "outputs": [
    {
     "data": {
      "text/html": [
       "<iframe id=\"igraph\" scrolling=\"no\" style=\"border:none;\" seamless=\"seamless\" src=\"https://plot.ly/~BroverCleveland/139.embed\" height=\"525px\" width=\"100%\"></iframe>"
      ],
      "text/plain": [
       "<plotly.tools.PlotlyDisplay object>"
      ]
     },
     "execution_count": 6,
     "metadata": {},
     "output_type": "execute_result"
    }
   ],
   "source": [
    "layout = dict(title = 'Bx v X, Y={0}, Z={1}'.format(y,z),\n",
    "              xaxis = dict(title = 'X (mm)'),\n",
    "              yaxis = dict(title = 'Bx (T)'),\n",
    "              showlegend=True,\n",
    "              )\n",
    "trace_map = go.Scatter(\n",
    "    x = xs,\n",
    "    y = bx_map,\n",
    "    name = 'fit map'\n",
    ")\n",
    "trace_rbf = go.Scatter(\n",
    "    x = xs,\n",
    "    y = bx_rbf,\n",
    "    name = 'rbf'\n",
    ")\n",
    "trace_lacey = go.Scatter(\n",
    "    x = xs,\n",
    "    y = bx_lacey,\n",
    "    name = 'lacey'\n",
    ")\n",
    "data = [trace_map, trace_rbf, trace_lacey]\n",
    "fig = dict(data=data, layout=layout)\n",
    "py.iplot(fig)"
   ]
  },
  {
   "cell_type": "code",
   "execution_count": 7,
   "metadata": {
    "collapsed": false
   },
   "outputs": [
    {
     "data": {
      "text/html": [
       "<iframe id=\"igraph\" scrolling=\"no\" style=\"border:none;\" seamless=\"seamless\" src=\"https://plot.ly/~BroverCleveland/141.embed\" height=\"525px\" width=\"100%\"></iframe>"
      ],
      "text/plain": [
       "<plotly.tools.PlotlyDisplay object>"
      ]
     },
     "execution_count": 7,
     "metadata": {},
     "output_type": "execute_result"
    }
   ],
   "source": [
    "layout = dict(title = 'By v X, Y={0}, Z={1}'.format(y,z),\n",
    "              xaxis = dict(title = 'X (mm)'),\n",
    "              yaxis = dict(title = 'By (T)'),\n",
    "              showlegend=True,\n",
    "              )\n",
    "trace_map = go.Scatter(\n",
    "    x = xs,\n",
    "    y = by_map,\n",
    "    name = 'fit map'\n",
    ")\n",
    "trace_rbf = go.Scatter(\n",
    "    x = xs,\n",
    "    y = by_rbf,\n",
    "    name = 'rbf'\n",
    ")\n",
    "trace_lacey = go.Scatter(\n",
    "    x = xs,\n",
    "    y = by_lacey,\n",
    "    name = 'lacey'\n",
    ")\n",
    "data = [trace_map, trace_rbf, trace_lacey]\n",
    "fig = dict(data=data, layout=layout)\n",
    "py.iplot(fig)"
   ]
  },
  {
   "cell_type": "code",
   "execution_count": null,
   "metadata": {
    "collapsed": true
   },
   "outputs": [],
   "source": []
  }
 ],
 "metadata": {
  "kernelspec": {
   "display_name": "Python 2",
   "language": "python",
   "name": "python2"
  },
  "language_info": {
   "codemirror_mode": {
    "name": "ipython",
    "version": 2
   },
   "file_extension": ".py",
   "mimetype": "text/x-python",
   "name": "python",
   "nbconvert_exporter": "python",
   "pygments_lexer": "ipython2",
   "version": "2.7.12"
  }
 },
 "nbformat": 4,
 "nbformat_minor": 0
}
