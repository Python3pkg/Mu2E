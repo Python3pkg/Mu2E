{
 "cells": [
  {
   "cell_type": "markdown",
   "metadata": {},
   "source": [
    "# 3D Interpolation with Scipy"
   ]
  },
  {
   "cell_type": "markdown",
   "metadata": {},
   "source": [
    "The hall probe measurement simulation software is hamstrung by the sparseness of the available field grid data.  The Mau10 and GA05 field grids are given in Cartesian coordinates, with 25 mm spacing on the X, Y, and Z axes.  The hall probe measurement device will work most naturally in cylindrical coordinates.  In order to sample regular cylindrically symmetric data from the field grids, one must either cherry pick values that coincide with the 25x25x25 mm spacing, or generate data through interpolation.\n",
    "\n",
    "The current interpolation method employed in the Mu2E organization for doing this is a linear 3D method.  This leads to can lead to fairly large errors in regions of large magnetic gradient, which would be unsuitable for further analysis.  We will attempt to use a more robust interpolate method and compare those results with random field data (provided in a separate file for validation purposes)."
   ]
  },
  {
   "cell_type": "code",
   "execution_count": 1,
   "metadata": {
    "collapsed": false
   },
   "outputs": [
    {
     "data": {
      "application/javascript": [
       "require(['codemirror/mode/clike/clike'], function(Clike) { console.log('ROOTaaS - C++ CodeMirror module loaded'); });"
      ]
     },
     "metadata": {},
     "output_type": "display_data"
    },
    {
     "data": {
      "application/javascript": [
       "IPython.CodeCell.config_defaults.highlight_modes['magic_text/x-c++src'] = {'reg':[/^%%cpp/]};"
      ]
     },
     "metadata": {},
     "output_type": "display_data"
    },
    {
     "name": "stdout",
     "output_type": "stream",
     "text": [
      "Welcome to ROOTaaS 6.06/06\n"
     ]
    }
   ],
   "source": [
    "from mu2e.dataframeprod import DataFrameMaker\n",
    "from mu2e import mu2e_ext_path\n",
    "import numpy as np"
   ]
  },
  {
   "cell_type": "code",
   "execution_count": 2,
   "metadata": {
    "collapsed": true
   },
   "outputs": [],
   "source": [
    "df = DataFrameMaker(mu2e_ext_path+'datafiles/Mau10/Standard_Maps/Mu2e_DSMap',use_pickle = True).data_frame"
   ]
  },
  {
   "cell_type": "code",
   "execution_count": 4,
   "metadata": {
    "collapsed": false
   },
   "outputs": [
    {
     "data": {
      "text/html": [
       "<div>\n",
       "<table border=\"1\" class=\"dataframe\">\n",
       "  <thead>\n",
       "    <tr style=\"text-align: right;\">\n",
       "      <th></th>\n",
       "      <th>X</th>\n",
       "      <th>Y</th>\n",
       "      <th>Z</th>\n",
       "      <th>Bx</th>\n",
       "      <th>By</th>\n",
       "      <th>Bz</th>\n",
       "      <th>R</th>\n",
       "      <th>Phi</th>\n",
       "      <th>Bphi</th>\n",
       "      <th>Br</th>\n",
       "    </tr>\n",
       "  </thead>\n",
       "  <tbody>\n",
       "    <tr>\n",
       "      <th>0</th>\n",
       "      <td>-1200.0</td>\n",
       "      <td>-1200.0</td>\n",
       "      <td>3071.0</td>\n",
       "      <td>0.129282</td>\n",
       "      <td>0.132041</td>\n",
       "      <td>0.044331</td>\n",
       "      <td>1697.056275</td>\n",
       "      <td>-2.356194</td>\n",
       "      <td>-0.001951</td>\n",
       "      <td>-0.184783</td>\n",
       "    </tr>\n",
       "    <tr>\n",
       "      <th>1</th>\n",
       "      <td>-1200.0</td>\n",
       "      <td>-1200.0</td>\n",
       "      <td>3096.0</td>\n",
       "      <td>0.132108</td>\n",
       "      <td>0.134881</td>\n",
       "      <td>0.041163</td>\n",
       "      <td>1697.056275</td>\n",
       "      <td>-2.356194</td>\n",
       "      <td>-0.001960</td>\n",
       "      <td>-0.188790</td>\n",
       "    </tr>\n",
       "    <tr>\n",
       "      <th>2</th>\n",
       "      <td>-1200.0</td>\n",
       "      <td>-1200.0</td>\n",
       "      <td>3121.0</td>\n",
       "      <td>0.134887</td>\n",
       "      <td>0.137672</td>\n",
       "      <td>0.037731</td>\n",
       "      <td>1697.056275</td>\n",
       "      <td>-2.356194</td>\n",
       "      <td>-0.001969</td>\n",
       "      <td>-0.192728</td>\n",
       "    </tr>\n",
       "    <tr>\n",
       "      <th>3</th>\n",
       "      <td>-1200.0</td>\n",
       "      <td>-1200.0</td>\n",
       "      <td>3146.0</td>\n",
       "      <td>0.137602</td>\n",
       "      <td>0.140399</td>\n",
       "      <td>0.034029</td>\n",
       "      <td>1697.056275</td>\n",
       "      <td>-2.356194</td>\n",
       "      <td>-0.001977</td>\n",
       "      <td>-0.196576</td>\n",
       "    </tr>\n",
       "    <tr>\n",
       "      <th>4</th>\n",
       "      <td>-1200.0</td>\n",
       "      <td>-1200.0</td>\n",
       "      <td>3171.0</td>\n",
       "      <td>0.140237</td>\n",
       "      <td>0.143045</td>\n",
       "      <td>0.030050</td>\n",
       "      <td>1697.056275</td>\n",
       "      <td>-2.356194</td>\n",
       "      <td>-0.001985</td>\n",
       "      <td>-0.200311</td>\n",
       "    </tr>\n",
       "  </tbody>\n",
       "</table>\n",
       "</div>"
      ],
      "text/plain": [
       "        X       Y       Z        Bx        By        Bz            R  \\\n",
       "0 -1200.0 -1200.0  3071.0  0.129282  0.132041  0.044331  1697.056275   \n",
       "1 -1200.0 -1200.0  3096.0  0.132108  0.134881  0.041163  1697.056275   \n",
       "2 -1200.0 -1200.0  3121.0  0.134887  0.137672  0.037731  1697.056275   \n",
       "3 -1200.0 -1200.0  3146.0  0.137602  0.140399  0.034029  1697.056275   \n",
       "4 -1200.0 -1200.0  3171.0  0.140237  0.143045  0.030050  1697.056275   \n",
       "\n",
       "        Phi      Bphi        Br  \n",
       "0 -2.356194 -0.001951 -0.184783  \n",
       "1 -2.356194 -0.001960 -0.188790  \n",
       "2 -2.356194 -0.001969 -0.192728  \n",
       "3 -2.356194 -0.001977 -0.196576  \n",
       "4 -2.356194 -0.001985 -0.200311  "
      ]
     },
     "execution_count": 4,
     "metadata": {},
     "output_type": "execute_result"
    }
   ],
   "source": [
    "df.head()"
   ]
  },
  {
   "cell_type": "code",
   "execution_count": 3,
   "metadata": {
    "collapsed": true
   },
   "outputs": [],
   "source": [
    "df_rand = DataFrameMaker(mu2e_ext_path+'datafiles/Mau10/Standard_Maps/Mu2e_DSMap_rand1mil',use_pickle = True).data_frame"
   ]
  },
  {
   "cell_type": "code",
   "execution_count": 6,
   "metadata": {
    "collapsed": false
   },
   "outputs": [
    {
     "data": {
      "text/html": [
       "<div>\n",
       "<table border=\"1\" class=\"dataframe\">\n",
       "  <thead>\n",
       "    <tr style=\"text-align: right;\">\n",
       "      <th></th>\n",
       "      <th>X</th>\n",
       "      <th>Y</th>\n",
       "      <th>Z</th>\n",
       "      <th>Bx</th>\n",
       "      <th>By</th>\n",
       "      <th>Bz</th>\n",
       "      <th>R</th>\n",
       "      <th>Phi</th>\n",
       "      <th>Bphi</th>\n",
       "      <th>Br</th>\n",
       "    </tr>\n",
       "  </thead>\n",
       "  <tbody>\n",
       "    <tr>\n",
       "      <th>0</th>\n",
       "      <td>-1007.9996</td>\n",
       "      <td>-0.708404</td>\n",
       "      <td>12190.6920</td>\n",
       "      <td>-0.005847</td>\n",
       "      <td>-0.000004</td>\n",
       "      <td>0.993192</td>\n",
       "      <td>1007.999849</td>\n",
       "      <td>-3.140890</td>\n",
       "      <td>-1.790000e-07</td>\n",
       "      <td>0.005847</td>\n",
       "    </tr>\n",
       "    <tr>\n",
       "      <th>1</th>\n",
       "      <td>-1007.9966</td>\n",
       "      <td>-1.116473</td>\n",
       "      <td>7536.1132</td>\n",
       "      <td>-0.564179</td>\n",
       "      <td>-0.000629</td>\n",
       "      <td>1.455297</td>\n",
       "      <td>1007.997218</td>\n",
       "      <td>-3.140485</td>\n",
       "      <td>4.159000e-06</td>\n",
       "      <td>0.564180</td>\n",
       "    </tr>\n",
       "    <tr>\n",
       "      <th>2</th>\n",
       "      <td>-1007.9943</td>\n",
       "      <td>-1.397842</td>\n",
       "      <td>5638.5763</td>\n",
       "      <td>0.147173</td>\n",
       "      <td>0.000207</td>\n",
       "      <td>1.172049</td>\n",
       "      <td>1007.995269</td>\n",
       "      <td>-3.140206</td>\n",
       "      <td>-3.246000e-06</td>\n",
       "      <td>-0.147173</td>\n",
       "    </tr>\n",
       "    <tr>\n",
       "      <th>3</th>\n",
       "      <td>-1007.9935</td>\n",
       "      <td>-1.022141</td>\n",
       "      <td>7750.8171</td>\n",
       "      <td>-0.221387</td>\n",
       "      <td>-0.000226</td>\n",
       "      <td>0.703601</td>\n",
       "      <td>1007.994018</td>\n",
       "      <td>-3.140579</td>\n",
       "      <td>1.061000e-06</td>\n",
       "      <td>0.221387</td>\n",
       "    </tr>\n",
       "    <tr>\n",
       "      <th>4</th>\n",
       "      <td>-1007.9879</td>\n",
       "      <td>-1.502013</td>\n",
       "      <td>8048.6632</td>\n",
       "      <td>0.059701</td>\n",
       "      <td>0.000091</td>\n",
       "      <td>1.010066</td>\n",
       "      <td>1007.989019</td>\n",
       "      <td>-3.140103</td>\n",
       "      <td>-1.725000e-06</td>\n",
       "      <td>-0.059701</td>\n",
       "    </tr>\n",
       "  </tbody>\n",
       "</table>\n",
       "</div>"
      ],
      "text/plain": [
       "           X         Y           Z        Bx        By        Bz            R  \\\n",
       "0 -1007.9996 -0.708404  12190.6920 -0.005847 -0.000004  0.993192  1007.999849   \n",
       "1 -1007.9966 -1.116473   7536.1132 -0.564179 -0.000629  1.455297  1007.997218   \n",
       "2 -1007.9943 -1.397842   5638.5763  0.147173  0.000207  1.172049  1007.995269   \n",
       "3 -1007.9935 -1.022141   7750.8171 -0.221387 -0.000226  0.703601  1007.994018   \n",
       "4 -1007.9879 -1.502013   8048.6632  0.059701  0.000091  1.010066  1007.989019   \n",
       "\n",
       "        Phi          Bphi        Br  \n",
       "0 -3.140890 -1.790000e-07  0.005847  \n",
       "1 -3.140485  4.159000e-06  0.564180  \n",
       "2 -3.140206 -3.246000e-06 -0.147173  \n",
       "3 -3.140579  1.061000e-06  0.221387  \n",
       "4 -3.140103 -1.725000e-06 -0.059701  "
      ]
     },
     "execution_count": 6,
     "metadata": {},
     "output_type": "execute_result"
    }
   ],
   "source": [
    "df_rand.head()"
   ]
  },
  {
   "cell_type": "code",
   "execution_count": 7,
   "metadata": {
    "collapsed": false
   },
   "outputs": [
    {
     "data": {
      "text/plain": [
       "999.95324000000005"
      ]
     },
     "execution_count": 7,
     "metadata": {},
     "output_type": "execute_result"
    }
   ],
   "source": [
    "df_rand.Y.max()"
   ]
  },
  {
   "cell_type": "code",
   "execution_count": 4,
   "metadata": {
    "collapsed": true
   },
   "outputs": [],
   "source": [
    "df_rand_subset = df_rand.query('-800<=X<=800 and -800<=Y<=800 and 4200<=Z<=13000')"
   ]
  },
  {
   "cell_type": "markdown",
   "metadata": {},
   "source": [
    "We have our dataframes queued up.  We will attempt to interpolate a regular grid from `df`, and test values from `df_rand` to determine our accuracy.  Let's try to use scipy.interpolate.Rbf in a simple case, first:"
   ]
  },
  {
   "cell_type": "code",
   "execution_count": 5,
   "metadata": {
    "collapsed": true
   },
   "outputs": [],
   "source": [
    "from scipy.interpolate import Rbf"
   ]
  },
  {
   "cell_type": "code",
   "execution_count": 6,
   "metadata": {
    "collapsed": true
   },
   "outputs": [],
   "source": [
    "x, y, z, d = np.random.rand(4, 50)\n",
    "rbfi = Rbf(x, y, z, d)\n",
    "xi = yi = zi = np.linspace(0, 1, 20)\n",
    "di = rbfi(xi, yi, zi)"
   ]
  },
  {
   "cell_type": "code",
   "execution_count": 7,
   "metadata": {
    "collapsed": false
   },
   "outputs": [
    {
     "name": "stdout",
     "output_type": "stream",
     "text": [
      "[ 0.09790102  0.15664449  0.2462196   0.381434    0.56512296  0.77834237\n",
      "  0.97383241  1.07885549  1.04508479  0.91029727  0.76698539  0.64418499\n",
      "  0.46331124  0.20230294 -0.00359683 -0.04662047  0.04660403  0.19832145\n",
      "  0.35334717  0.48787137]\n"
     ]
    }
   ],
   "source": [
    "print di"
   ]
  },
  {
   "cell_type": "code",
   "execution_count": 8,
   "metadata": {
    "collapsed": false
   },
   "outputs": [],
   "source": [
    "def cylindrical_norm(x1,x2):\n",
    "    return np.sqrt(\n",
    "        (x1[0,:]*np.cos(x1[1,:])-x2[0,:]*np.cos(x2[1,:]))**2 +\n",
    "        (x1[0,:]*np.sin(x1[1,:])-x2[0,:]*np.sin(x2[1,:]))**2 +\n",
    "        (x1[2,:]-x2[2,:])**2)"
   ]
  },
  {
   "cell_type": "code",
   "execution_count": 9,
   "metadata": {
    "collapsed": false
   },
   "outputs": [],
   "source": [
    "my_rand = df_rand_subset.sample(1)"
   ]
  },
  {
   "cell_type": "code",
   "execution_count": 10,
   "metadata": {
    "collapsed": false
   },
   "outputs": [
    {
     "data": {
      "text/plain": [
       "array([-577.5064])"
      ]
     },
     "execution_count": 10,
     "metadata": {},
     "output_type": "execute_result"
    }
   ],
   "source": [
    "my_rand.X.values"
   ]
  },
  {
   "cell_type": "code",
   "execution_count": 11,
   "metadata": {
    "collapsed": false
   },
   "outputs": [],
   "source": [
    "df_subset = df.query('{0}<=X<={1} and {2}<=Y<={3} and {4}<=Z<={5}'.format(\n",
    "    my_rand.X.values-50, my_rand.X.values+50, my_rand.Y.values-50, my_rand.Y.values+50, my_rand.Z.values-50, my_rand.Z.values+50))"
   ]
  },
  {
   "cell_type": "code",
   "execution_count": 12,
   "metadata": {
    "collapsed": true
   },
   "outputs": [],
   "source": [
    "x = df_subset.X\n",
    "y = df_subset.Y\n",
    "z = df_subset.Z\n",
    "r = df_subset.R\n",
    "phi = df_subset.Phi\n",
    "bz = df_subset.Bz\n",
    "br = df_subset.Br\n",
    "bphi = df_subset.Bphi\n",
    "\n"
   ]
  },
  {
   "cell_type": "code",
   "execution_count": 18,
   "metadata": {
    "collapsed": false
   },
   "outputs": [],
   "source": [
    "rbf_bz = Rbf(r, phi, z, bz,function='linear', norm=cylindrical_norm)\n",
    "rbf_br = Rbf(r, phi, z, br,function='linear', norm=cylindrical_norm)"
   ]
  },
  {
   "cell_type": "code",
   "execution_count": 14,
   "metadata": {
    "collapsed": false
   },
   "outputs": [],
   "source": [
    "i_bz = rbf_bz(my_rand.R, my_rand.Phi, my_rand.Z)\n",
    "t_bz = my_rand.Bz"
   ]
  },
  {
   "cell_type": "code",
   "execution_count": 15,
   "metadata": {
    "collapsed": false
   },
   "outputs": [],
   "source": [
    "res =abs(i_bz-t_bz)"
   ]
  },
  {
   "cell_type": "code",
   "execution_count": 16,
   "metadata": {
    "collapsed": false
   },
   "outputs": [
    {
     "data": {
      "text/plain": [
       "7.6403455988138802e-05"
      ]
     },
     "execution_count": 16,
     "metadata": {},
     "output_type": "execute_result"
    }
   ],
   "source": [
    "max(res)"
   ]
  },
  {
   "cell_type": "code",
   "execution_count": 23,
   "metadata": {
    "collapsed": false,
    "scrolled": false
   },
   "outputs": [
    {
     "name": "stdout",
     "output_type": "stream",
     "text": [
      "[  6.55961570e-06]\n",
      "[  1.35325646e-05]\n",
      "[  9.54488972e-06]\n",
      "[  1.61405731e-05]\n",
      "[  1.61176621e-05]\n",
      "[  1.46837251e-05]\n",
      "[  1.69284015e-05]\n",
      "[  3.84124519e-05]\n",
      "[  1.77232320e-05]\n",
      "[  2.09387690e-06]\n",
      "[  1.48291022e-05]\n",
      "[  4.90008976e-05]\n",
      "[  4.22863263e-06]\n",
      "[  5.50250170e-05]\n",
      "[  2.09724114e-05]\n",
      "[  1.31417269e-05]\n",
      "[  7.46238260e-06]\n",
      "[  1.20105919e-05]\n",
      "[  1.00106109e-05]\n",
      "[  6.59056459e-06]\n",
      "[  2.32124953e-06]\n",
      "[  2.04700809e-06]\n",
      "[  5.38651632e-06]\n",
      "[  2.52862800e-05]\n",
      "[  2.00886663e-05]\n",
      "[  2.46545714e-05]\n",
      "[  2.11654759e-05]\n",
      "[  5.84377312e-06]\n",
      "[  2.62918198e-05]\n",
      "[  9.21297218e-06]\n",
      "[  2.84631281e-05]\n",
      "[  1.71382513e-05]\n",
      "[  3.47427623e-06]\n",
      "[  2.95162789e-06]\n",
      "[  5.28918301e-05]\n",
      "[  3.36116119e-06]\n",
      "[  4.86566465e-06]\n",
      "[  2.29497200e-05]\n",
      "[  4.42148448e-05]\n",
      "[  1.82738924e-05]\n",
      "[  3.49650993e-06]\n",
      "[  1.09377174e-05]\n",
      "[  1.85129528e-05]\n",
      "[  2.44935131e-05]\n",
      "[  1.92260382e-05]\n",
      "[  3.26790220e-05]\n",
      "[  1.26690171e-05]\n",
      "[  4.84334218e-06]\n",
      "[  2.45729161e-05]\n",
      "[  1.63687039e-05]\n",
      "[  1.55581293e-05]\n",
      "[  1.94867640e-05]\n",
      "[  3.62791866e-06]\n",
      "[  2.27236250e-05]\n",
      "[  6.77279512e-06]\n",
      "[  1.58644513e-05]\n",
      "[  7.41625971e-06]\n",
      "[  2.27493279e-06]\n",
      "[  1.16807503e-05]\n",
      "[  1.56673897e-05]\n",
      "[  2.91418202e-05]\n",
      "[  3.63350033e-06]\n",
      "[  3.78573639e-06]\n",
      "[  8.67981112e-06]\n",
      "[  3.06326117e-05]\n",
      "[  2.20062245e-05]\n",
      "[  1.61034134e-05]\n",
      "[  1.43165067e-05]\n",
      "[  9.20282030e-06]\n",
      "[  5.70549517e-06]\n",
      "[  2.57541637e-05]\n",
      "[  3.00778543e-06]\n",
      "[  2.29252623e-05]\n",
      "[  1.59697197e-05]\n",
      "[  3.09428795e-06]\n",
      "[  1.78312142e-06]\n",
      "[  4.76604659e-06]\n",
      "[  1.07455602e-05]\n",
      "[  7.38419829e-06]\n",
      "[  2.07224152e-05]\n",
      "[  2.16126947e-06]\n",
      "[  2.34230047e-05]\n",
      "[  1.86551706e-05]\n",
      "[  9.67419461e-06]\n",
      "[  1.70333772e-05]\n",
      "[  1.78780123e-05]\n",
      "[  5.42032016e-06]\n",
      "[  1.42689713e-05]\n",
      "[  1.20765438e-05]\n",
      "[  6.60521252e-06]\n",
      "[  2.79732112e-05]\n",
      "[  1.13577535e-05]\n",
      "[  1.52066290e-05]\n",
      "[  7.02036433e-06]\n",
      "[  1.00582632e-05]\n",
      "[  2.01118097e-05]\n",
      "[  1.10344735e-05]\n",
      "[  7.58083204e-06]\n",
      "[  1.58285956e-05]\n",
      "[  5.72928524e-05]\n",
      "bads: 0\n"
     ]
    }
   ],
   "source": [
    "buffer = 100\n",
    "counter = 0\n",
    "for i in xrange(100):\n",
    "#for i in xrange(13,14):\n",
    "    my_rand = df_rand_subset.sample(1,random_state=i+10)\n",
    "    df_subset = df.query('{0}<=X<={1} and {2}<=Y<={3} and {4}<=Z<={5}'.format(\n",
    "        my_rand.X.values-buffer, my_rand.X.values+buffer, my_rand.Y.values-buffer, my_rand.Y.values+buffer, my_rand.Z.values-buffer, my_rand.Z.values+buffer))\n",
    "    x = df_subset.X\n",
    "    y = df_subset.Y\n",
    "    z = df_subset.Z\n",
    "    r = df_subset.R\n",
    "    phi = df_subset.Phi\n",
    "    bz = df_subset.Bz\n",
    "    br = df_subset.Br\n",
    "    bphi = df_subset.Bphi\n",
    "    rbf_br = Rbf(r, phi, z, br,function='linear', norm=cylindrical_norm, epsilon=20)\n",
    "    i_br = rbf_br(my_rand.R, my_rand.Phi, my_rand.Z)\n",
    "    t_br = my_rand.Br\n",
    "    res = abs(i_br-t_br).values\n",
    "    if res>1e-4:\n",
    "        print res[0], i\n",
    "        print my_rand\n",
    "        print '',i_br[0]\n",
    "        counter +=1\n",
    "    else: print res\n",
    "print 'bads:', counter"
   ]
  },
  {
   "cell_type": "code",
   "execution_count": null,
   "metadata": {
    "collapsed": false
   },
   "outputs": [],
   "source": [
    "print np.asarray(res_lin)-np.asarray(res_quin)"
   ]
  },
  {
   "cell_type": "code",
   "execution_count": null,
   "metadata": {
    "collapsed": false
   },
   "outputs": [],
   "source": [
    "rbf_br = Rbf(r, phi, z, br,function='gaussian', norm=cylindrical_norm)\n",
    "i_br = rbf_br(df_rand_subset.R, df_rand_subset.Phi, df_rand_subset.Z)\n",
    "t_br = df_rand_subset.Br\n",
    "res =abs(i_br-t_br)\n",
    "max(res)"
   ]
  },
  {
   "cell_type": "code",
   "execution_count": null,
   "metadata": {
    "collapsed": false
   },
   "outputs": [],
   "source": [
    "rbf_bphi = Rbf(r, phi, z, bphi,function='quintic', norm=cylindrical_norm)\n",
    "i_bphi = rbf_bphi(df_rand_subset.R, df_rand_subset.Phi, df_rand_subset.Z)\n",
    "t_bphi = df_rand_subset.Bphi\n",
    "res =abs(i_bphi-t_bphi)\n",
    "max(res)"
   ]
  },
  {
   "cell_type": "code",
   "execution_count": null,
   "metadata": {
    "collapsed": true
   },
   "outputs": [],
   "source": []
  }
 ],
 "metadata": {
  "kernelspec": {
   "display_name": "Python 2",
   "language": "python",
   "name": "python2"
  },
  "language_info": {
   "codemirror_mode": {
    "name": "ipython",
    "version": 2
   },
   "file_extension": ".py",
   "mimetype": "text/x-python",
   "name": "python",
   "nbconvert_exporter": "python",
   "pygments_lexer": "ipython2",
   "version": "2.7.12"
  }
 },
 "nbformat": 4,
 "nbformat_minor": 0
}
