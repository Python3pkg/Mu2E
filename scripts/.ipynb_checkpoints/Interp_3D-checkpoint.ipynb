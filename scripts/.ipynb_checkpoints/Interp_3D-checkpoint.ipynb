{
 "cells": [
  {
   "cell_type": "markdown",
   "metadata": {},
   "source": [
    "# 3D Interpolation with Scipy"
   ]
  },
  {
   "cell_type": "markdown",
   "metadata": {},
   "source": [
    "The hall probe measurement simulation software is hamstrung by the sparseness of the available field grid data.  The Mau10 and GA05 field grids are given in Cartesian coordinates, with 25 mm spacing on the X, Y, and Z axes.  The hall probe measurement device will work most naturally in cylindrical coordinates.  In order to sample regular cylindrically symmetric data from the field grids, one must either cherry pick values that coincide with the 25x25x25 mm spacing, or generate data through interpolation.\n",
    "\n",
    "The current interpolation method employed in the Mu2E organization for doing this is a linear 3D method.  This leads to can lead to fairly large errors in regions of large magnetic gradient, which would be unsuitable for further analysis.  We will attempt to use a more robust interpolate method and compare those results with random field data (provided in a separate file for validation purposes)."
   ]
  },
  {
   "cell_type": "code",
   "execution_count": 3,
   "metadata": {
    "collapsed": true
   },
   "outputs": [],
   "source": [
    "from mu2e.datafileprod import DataFileMaker\n",
    "import numpy as np"
   ]
  },
  {
   "cell_type": "code",
   "execution_count": 4,
   "metadata": {
    "collapsed": true
   },
   "outputs": [],
   "source": [
    "df = DataFileMaker('../datafiles/Mau10/Standard_Maps/Mu2e_DSMap',use_pickle = True).data_frame"
   ]
  },
  {
   "cell_type": "code",
   "execution_count": 5,
   "metadata": {
    "collapsed": false
   },
   "outputs": [
    {
     "data": {
      "text/html": [
       "<div>\n",
       "<table border=\"1\" class=\"dataframe\">\n",
       "  <thead>\n",
       "    <tr style=\"text-align: right;\">\n",
       "      <th></th>\n",
       "      <th>X</th>\n",
       "      <th>Y</th>\n",
       "      <th>Z</th>\n",
       "      <th>Bx</th>\n",
       "      <th>By</th>\n",
       "      <th>Bz</th>\n",
       "      <th>R</th>\n",
       "      <th>Phi</th>\n",
       "      <th>Bphi</th>\n",
       "      <th>Br</th>\n",
       "    </tr>\n",
       "  </thead>\n",
       "  <tbody>\n",
       "    <tr>\n",
       "      <th>0</th>\n",
       "      <td>-1200.0</td>\n",
       "      <td>-1200.0</td>\n",
       "      <td>3071.0</td>\n",
       "      <td>0.129282</td>\n",
       "      <td>0.132041</td>\n",
       "      <td>0.044331</td>\n",
       "      <td>1697.056275</td>\n",
       "      <td>-2.356194</td>\n",
       "      <td>-0.001951</td>\n",
       "      <td>-0.184783</td>\n",
       "    </tr>\n",
       "    <tr>\n",
       "      <th>1</th>\n",
       "      <td>-1200.0</td>\n",
       "      <td>-1200.0</td>\n",
       "      <td>3096.0</td>\n",
       "      <td>0.132108</td>\n",
       "      <td>0.134881</td>\n",
       "      <td>0.041163</td>\n",
       "      <td>1697.056275</td>\n",
       "      <td>-2.356194</td>\n",
       "      <td>-0.001960</td>\n",
       "      <td>-0.188790</td>\n",
       "    </tr>\n",
       "    <tr>\n",
       "      <th>2</th>\n",
       "      <td>-1200.0</td>\n",
       "      <td>-1200.0</td>\n",
       "      <td>3121.0</td>\n",
       "      <td>0.134887</td>\n",
       "      <td>0.137672</td>\n",
       "      <td>0.037731</td>\n",
       "      <td>1697.056275</td>\n",
       "      <td>-2.356194</td>\n",
       "      <td>-0.001969</td>\n",
       "      <td>-0.192728</td>\n",
       "    </tr>\n",
       "    <tr>\n",
       "      <th>3</th>\n",
       "      <td>-1200.0</td>\n",
       "      <td>-1200.0</td>\n",
       "      <td>3146.0</td>\n",
       "      <td>0.137602</td>\n",
       "      <td>0.140399</td>\n",
       "      <td>0.034029</td>\n",
       "      <td>1697.056275</td>\n",
       "      <td>-2.356194</td>\n",
       "      <td>-0.001977</td>\n",
       "      <td>-0.196576</td>\n",
       "    </tr>\n",
       "    <tr>\n",
       "      <th>4</th>\n",
       "      <td>-1200.0</td>\n",
       "      <td>-1200.0</td>\n",
       "      <td>3171.0</td>\n",
       "      <td>0.140237</td>\n",
       "      <td>0.143045</td>\n",
       "      <td>0.030050</td>\n",
       "      <td>1697.056275</td>\n",
       "      <td>-2.356194</td>\n",
       "      <td>-0.001985</td>\n",
       "      <td>-0.200311</td>\n",
       "    </tr>\n",
       "  </tbody>\n",
       "</table>\n",
       "</div>"
      ],
      "text/plain": [
       "        X       Y       Z        Bx        By        Bz            R  \\\n",
       "0 -1200.0 -1200.0  3071.0  0.129282  0.132041  0.044331  1697.056275   \n",
       "1 -1200.0 -1200.0  3096.0  0.132108  0.134881  0.041163  1697.056275   \n",
       "2 -1200.0 -1200.0  3121.0  0.134887  0.137672  0.037731  1697.056275   \n",
       "3 -1200.0 -1200.0  3146.0  0.137602  0.140399  0.034029  1697.056275   \n",
       "4 -1200.0 -1200.0  3171.0  0.140237  0.143045  0.030050  1697.056275   \n",
       "\n",
       "        Phi      Bphi        Br  \n",
       "0 -2.356194 -0.001951 -0.184783  \n",
       "1 -2.356194 -0.001960 -0.188790  \n",
       "2 -2.356194 -0.001969 -0.192728  \n",
       "3 -2.356194 -0.001977 -0.196576  \n",
       "4 -2.356194 -0.001985 -0.200311  "
      ]
     },
     "execution_count": 5,
     "metadata": {},
     "output_type": "execute_result"
    }
   ],
   "source": [
    "df.head()"
   ]
  },
  {
   "cell_type": "code",
   "execution_count": 6,
   "metadata": {
    "collapsed": true
   },
   "outputs": [],
   "source": [
    "df_rand = DataFileMaker('../datafiles/Mau10/Standard_Maps/Mu2e_DSMap_rand1mil',use_pickle = True).data_frame"
   ]
  },
  {
   "cell_type": "code",
   "execution_count": 7,
   "metadata": {
    "collapsed": false
   },
   "outputs": [
    {
     "data": {
      "text/html": [
       "<div>\n",
       "<table border=\"1\" class=\"dataframe\">\n",
       "  <thead>\n",
       "    <tr style=\"text-align: right;\">\n",
       "      <th></th>\n",
       "      <th>X</th>\n",
       "      <th>Y</th>\n",
       "      <th>Z</th>\n",
       "      <th>Bx</th>\n",
       "      <th>By</th>\n",
       "      <th>Bz</th>\n",
       "      <th>R</th>\n",
       "      <th>Phi</th>\n",
       "      <th>Bphi</th>\n",
       "      <th>Br</th>\n",
       "    </tr>\n",
       "  </thead>\n",
       "  <tbody>\n",
       "    <tr>\n",
       "      <th>0</th>\n",
       "      <td>-1007.9996</td>\n",
       "      <td>-0.708404</td>\n",
       "      <td>12190.6920</td>\n",
       "      <td>-0.005847</td>\n",
       "      <td>-0.000004</td>\n",
       "      <td>0.993192</td>\n",
       "      <td>1007.999849</td>\n",
       "      <td>-3.140890</td>\n",
       "      <td>-1.790000e-07</td>\n",
       "      <td>0.005847</td>\n",
       "    </tr>\n",
       "    <tr>\n",
       "      <th>1</th>\n",
       "      <td>-1007.9966</td>\n",
       "      <td>-1.116473</td>\n",
       "      <td>7536.1132</td>\n",
       "      <td>-0.564179</td>\n",
       "      <td>-0.000629</td>\n",
       "      <td>1.455297</td>\n",
       "      <td>1007.997218</td>\n",
       "      <td>-3.140485</td>\n",
       "      <td>4.159000e-06</td>\n",
       "      <td>0.564180</td>\n",
       "    </tr>\n",
       "    <tr>\n",
       "      <th>2</th>\n",
       "      <td>-1007.9943</td>\n",
       "      <td>-1.397842</td>\n",
       "      <td>5638.5763</td>\n",
       "      <td>0.147173</td>\n",
       "      <td>0.000207</td>\n",
       "      <td>1.172049</td>\n",
       "      <td>1007.995269</td>\n",
       "      <td>-3.140206</td>\n",
       "      <td>-3.246000e-06</td>\n",
       "      <td>-0.147173</td>\n",
       "    </tr>\n",
       "    <tr>\n",
       "      <th>3</th>\n",
       "      <td>-1007.9935</td>\n",
       "      <td>-1.022141</td>\n",
       "      <td>7750.8171</td>\n",
       "      <td>-0.221387</td>\n",
       "      <td>-0.000226</td>\n",
       "      <td>0.703601</td>\n",
       "      <td>1007.994018</td>\n",
       "      <td>-3.140579</td>\n",
       "      <td>1.061000e-06</td>\n",
       "      <td>0.221387</td>\n",
       "    </tr>\n",
       "    <tr>\n",
       "      <th>4</th>\n",
       "      <td>-1007.9879</td>\n",
       "      <td>-1.502013</td>\n",
       "      <td>8048.6632</td>\n",
       "      <td>0.059701</td>\n",
       "      <td>0.000091</td>\n",
       "      <td>1.010066</td>\n",
       "      <td>1007.989019</td>\n",
       "      <td>-3.140103</td>\n",
       "      <td>-1.725000e-06</td>\n",
       "      <td>-0.059701</td>\n",
       "    </tr>\n",
       "  </tbody>\n",
       "</table>\n",
       "</div>"
      ],
      "text/plain": [
       "           X         Y           Z        Bx        By        Bz            R  \\\n",
       "0 -1007.9996 -0.708404  12190.6920 -0.005847 -0.000004  0.993192  1007.999849   \n",
       "1 -1007.9966 -1.116473   7536.1132 -0.564179 -0.000629  1.455297  1007.997218   \n",
       "2 -1007.9943 -1.397842   5638.5763  0.147173  0.000207  1.172049  1007.995269   \n",
       "3 -1007.9935 -1.022141   7750.8171 -0.221387 -0.000226  0.703601  1007.994018   \n",
       "4 -1007.9879 -1.502013   8048.6632  0.059701  0.000091  1.010066  1007.989019   \n",
       "\n",
       "        Phi          Bphi        Br  \n",
       "0 -3.140890 -1.790000e-07  0.005847  \n",
       "1 -3.140485  4.159000e-06  0.564180  \n",
       "2 -3.140206 -3.246000e-06 -0.147173  \n",
       "3 -3.140579  1.061000e-06  0.221387  \n",
       "4 -3.140103 -1.725000e-06 -0.059701  "
      ]
     },
     "execution_count": 7,
     "metadata": {},
     "output_type": "execute_result"
    }
   ],
   "source": [
    "df_rand.head()"
   ]
  },
  {
   "cell_type": "code",
   "execution_count": 8,
   "metadata": {
    "collapsed": false
   },
   "outputs": [
    {
     "data": {
      "text/plain": [
       "999.95324000000005"
      ]
     },
     "execution_count": 8,
     "metadata": {},
     "output_type": "execute_result"
    }
   ],
   "source": [
    "df_rand.Y.max()"
   ]
  },
  {
   "cell_type": "code",
   "execution_count": 9,
   "metadata": {
    "collapsed": true
   },
   "outputs": [],
   "source": [
    "df_rand_subset = df_rand.query('-800<=X<=800 and -800<=Y<=800 and 4200<=Z<=13000')"
   ]
  },
  {
   "cell_type": "markdown",
   "metadata": {},
   "source": [
    "We have our dataframes queued up.  We will attempt to interpolate a regular grid from `df`, and test values from `df_rand` to determine our accuracy.  Let's try to use scipy.interpolate.Rbf in a simple case, first:"
   ]
  },
  {
   "cell_type": "code",
   "execution_count": 10,
   "metadata": {
    "collapsed": true
   },
   "outputs": [],
   "source": [
    "from scipy.interpolate import Rbf"
   ]
  },
  {
   "cell_type": "code",
   "execution_count": 11,
   "metadata": {
    "collapsed": true
   },
   "outputs": [],
   "source": [
    "x, y, z, d = np.random.rand(4, 50)\n",
    "rbfi = Rbf(x, y, z, d)\n",
    "xi = yi = zi = np.linspace(0, 1, 20)\n",
    "di = rbfi(xi, yi, zi)"
   ]
  },
  {
   "cell_type": "code",
   "execution_count": 12,
   "metadata": {
    "collapsed": false
   },
   "outputs": [
    {
     "name": "stdout",
     "output_type": "stream",
     "text": [
      "[-0.10788364 -0.07250454  0.03084329  0.22134198  0.48480312  0.73299262\n",
      "  0.79913346  0.5505275   0.16142126  0.08149677  0.30907622  0.41944791\n",
      "  0.37196802  0.36956221  0.47557465  0.62562607  0.72681228  0.7334735\n",
      "  0.68295693  0.64476414]\n"
     ]
    }
   ],
   "source": [
    "print di"
   ]
  },
  {
   "cell_type": "code",
   "execution_count": 13,
   "metadata": {
    "collapsed": false
   },
   "outputs": [],
   "source": [
    "def cylindrical_norm(x1,x2):\n",
    "    return np.sqrt(\n",
    "        (x1[0,:]*np.cos(x1[1,:])-x2[0,:]*np.cos(x2[1,:]))**2 +\n",
    "        (x1[0,:]*np.sin(x1[1,:])-x2[0,:]*np.sin(x2[1,:]))**2 +\n",
    "        (x1[2,:]-x2[2,:])**2)"
   ]
  },
  {
   "cell_type": "code",
   "execution_count": 14,
   "metadata": {
    "collapsed": false
   },
   "outputs": [],
   "source": [
    "my_rand = df_rand_subset.sample(1)"
   ]
  },
  {
   "cell_type": "code",
   "execution_count": 15,
   "metadata": {
    "collapsed": false
   },
   "outputs": [
    {
     "data": {
      "text/plain": [
       "array([-55.0372])"
      ]
     },
     "execution_count": 15,
     "metadata": {},
     "output_type": "execute_result"
    }
   ],
   "source": [
    "my_rand.X.values"
   ]
  },
  {
   "cell_type": "code",
   "execution_count": 16,
   "metadata": {
    "collapsed": false
   },
   "outputs": [],
   "source": [
    "df_subset = df.query('{0}<=X<={1} and {2}<=Y<={3} and {4}<=Z<={5}'.format(\n",
    "    my_rand.X.values-150, my_rand.X.values+150, my_rand.Y.values-150, my_rand.Y.values+150, my_rand.Z.values-150, my_rand.Z.values+150))"
   ]
  },
  {
   "cell_type": "code",
   "execution_count": 17,
   "metadata": {
    "collapsed": true
   },
   "outputs": [],
   "source": [
    "x = df_subset.X\n",
    "y = df_subset.Y\n",
    "z = df_subset.Z\n",
    "r = df_subset.R\n",
    "phi = df_subset.Phi\n",
    "bz = df_subset.Bz\n",
    "br = df_subset.Br\n",
    "bphi = df_subset.Bphi\n",
    "\n"
   ]
  },
  {
   "cell_type": "code",
   "execution_count": 18,
   "metadata": {
    "collapsed": false
   },
   "outputs": [],
   "source": [
    "rbf_bz = Rbf(r, phi, z, bz,function='quintic', norm=cylindrical_norm)"
   ]
  },
  {
   "cell_type": "code",
   "execution_count": 19,
   "metadata": {
    "collapsed": false
   },
   "outputs": [],
   "source": [
    "i_bz = rbf_bz(my_rand.R, my_rand.Phi, my_rand.Z)\n",
    "t_bz = my_rand.Bz"
   ]
  },
  {
   "cell_type": "code",
   "execution_count": 20,
   "metadata": {
    "collapsed": false
   },
   "outputs": [],
   "source": [
    "res =abs(i_bz-t_bz)"
   ]
  },
  {
   "cell_type": "code",
   "execution_count": 21,
   "metadata": {
    "collapsed": false
   },
   "outputs": [
    {
     "data": {
      "text/plain": [
       "2.7891396714219141e-05"
      ]
     },
     "execution_count": 21,
     "metadata": {},
     "output_type": "execute_result"
    }
   ],
   "source": [
    "max(res)"
   ]
  },
  {
   "cell_type": "code",
   "execution_count": 30,
   "metadata": {
    "collapsed": false,
    "scrolled": false
   },
   "outputs": [
    {
     "name": "stdout",
     "output_type": "stream",
     "text": [
      "[  2.08174588e-05]\n",
      "[  8.04521984e-05]\n",
      "0.000100954754576 2\n",
      "               X          Y          Z        Bx        By        Bz  \\\n",
      "635451  264.1328 -283.81358  5837.7141  0.034361 -0.037335  1.493423   \n",
      "\n",
      "                 R     Phi      Bphi       Br  \n",
      "635451  387.706441 -0.8213 -0.000282  0.05074  \n",
      " 1.49352425475\n",
      "[  2.43515520e-05]\n",
      "[  2.52167782e-05]\n",
      "[  8.68045716e-05]\n",
      "[  7.50682972e-05]\n",
      "[  2.45199346e-05]\n",
      "[  4.31718199e-06]\n",
      "[  1.00690092e-05]\n",
      "[  2.47187832e-05]\n",
      "[  5.92368843e-05]\n",
      "[  7.53580856e-07]\n",
      "0.000227479275214 13\n",
      "               X          Y          Z        Bx        By        Bz  \\\n",
      "123356 -761.6438 -601.08817  10006.513 -0.001967 -0.001196  1.016388   \n",
      "\n",
      "                 R       Phi     Bphi        Br  \n",
      "123356  970.261958 -2.473473 -0.00028  0.002285  \n",
      " 1.01661587928\n",
      "[  4.06592015e-05]\n",
      "[  8.70518898e-06]\n",
      "[  1.85968704e-05]\n",
      "[  2.73090162e-05]\n",
      "[  4.67420998e-05]\n",
      "[  1.71237743e-07]\n",
      "[  6.68671641e-05]\n",
      "0.00011039891139 21\n",
      "               X          Y         Z      Bx        By      Bz           R  \\\n",
      "900135  792.1051  217.62806  9725.687  0.0032  0.001036  1.0159  821.457523   \n",
      "\n",
      "            Phi      Bphi       Br  \n",
      "900135  0.26813  0.000152  0.00336  \n",
      " 1.01601039891\n",
      "[  1.05011403e-05]\n",
      "[  7.52778759e-06]\n",
      "[  3.83416270e-05]\n",
      "[  4.27881836e-05]\n",
      "[  1.54799839e-05]\n",
      "[  9.11236346e-05]\n",
      "[  8.38147257e-05]\n",
      "[  6.85106047e-07]\n",
      "[  3.61419874e-05]\n",
      "[  7.54328296e-05]\n",
      "[  7.72632626e-05]\n",
      "[  6.21120057e-05]\n",
      "[  1.16368443e-05]\n",
      "[  5.45566095e-05]\n",
      "[  6.69445277e-05]\n",
      "0.000118418129256 37\n",
      "               X          Y          Z        Bx        By        Bz  \\\n",
      "108280 -791.5224  596.89745  8331.4896  0.006519 -0.005467  1.032335   \n",
      "\n",
      "                 R       Phi      Bphi        Br  \n",
      "108280  991.359811  2.495464  0.000439 -0.008496  \n",
      " 1.03245351813\n",
      "[  2.84849769e-05]\n",
      "[  9.76982466e-05]\n",
      "[  5.58999239e-05]\n",
      "[  9.50705225e-05]\n",
      "[  1.84870766e-05]\n",
      "[  5.05520745e-05]\n",
      "[  2.02661259e-05]\n",
      "[  1.53464523e-05]\n",
      "[  4.25445665e-06]\n",
      "[  1.79503178e-05]\n",
      "[  1.47451098e-05]\n",
      "[  1.98778756e-05]\n",
      "[  5.40279307e-05]\n",
      "[  7.41926066e-05]\n",
      "[  5.50979473e-05]\n",
      "[  7.47593193e-05]\n",
      "[  2.63604192e-05]\n",
      "[  2.92580489e-05]\n",
      "[  2.22349213e-06]\n",
      "0.000106176975732 57\n",
      "               X          Y          Z      Bx        By        Bz          R  \\\n",
      "645638  284.4252  277.91362  5433.1288  0.0365  0.036226  1.597507  397.66025   \n",
      "\n",
      "             Phi      Bphi        Br  \n",
      "645638  0.773819  0.000402  0.051424  \n",
      " 1.59761347698\n",
      "[  2.33107591e-05]\n",
      "[  4.67226259e-06]\n",
      "[  1.85736529e-05]\n",
      "[  5.65171167e-05]\n",
      "[  9.35281045e-05]\n",
      "[  1.77631710e-05]\n",
      "[  1.23086634e-05]\n",
      "[  4.09744309e-05]\n",
      "[  4.02143237e-05]\n",
      "[  4.39042898e-05]\n",
      "[  5.20864748e-07]\n",
      "[  3.74188983e-05]\n",
      "[  5.41250655e-05]\n",
      "[  2.02508844e-05]\n",
      "[  4.14875213e-05]\n",
      "[  3.11507191e-05]\n",
      "[  5.16241551e-05]\n",
      "[  2.28129629e-05]\n",
      "[  8.84407990e-05]\n",
      "[  1.39866807e-05]\n",
      "[  3.54796412e-05]\n",
      "[  8.78859681e-06]\n",
      "[  9.66468559e-05]\n",
      "0.000150052374793 81\n",
      "               X          Y         Z        Bx        By        Bz  \\\n",
      "902163  796.1533  546.69869  12158.65  0.003916  0.002911  0.993747   \n",
      "\n",
      "                 R       Phi      Bphi        Br  \n",
      "902163  965.784414  0.601727  0.000183  0.004876  \n",
      " 0.993896922375\n",
      "[  6.47002777e-05]\n",
      "[  6.67900143e-05]\n",
      "[  6.48728833e-05]\n",
      "[  8.11572123e-06]\n",
      "[  9.61037186e-07]\n",
      "[  4.28579870e-05]\n",
      "[  9.51490433e-05]\n",
      "[  7.24016104e-06]\n",
      "[  3.01480789e-05]\n",
      "[  5.56000050e-05]\n",
      "0.000444406801429 92\n",
      "               X          Y          Z        Bx        By        Bz  \\\n",
      "188434 -630.9275  761.09892  12900.232  0.002791 -0.003743  0.983012   \n",
      "\n",
      "                 R       Phi     Bphi        Br  \n",
      "188434  988.605622  2.262953  0.00024 -0.004663  \n",
      " 0.982567163199\n",
      "[  9.23623090e-05]\n",
      "[  1.53639296e-05]\n",
      "[  2.02335542e-05]\n",
      "[  5.19837929e-05]\n",
      "[  1.65291941e-05]\n",
      "[  3.50192782e-06]\n",
      "[  5.04721122e-06]\n",
      "bads: 7\n"
     ]
    }
   ],
   "source": [
    "buffer = 100\n",
    "counter = 0\n",
    "for i in xrange(100):\n",
    "#for i in xrange(13,14):\n",
    "    my_rand = df_rand_subset.sample(1,random_state=i+10)\n",
    "    df_subset = df.query('{0}<=X<={1} and {2}<=Y<={3} and {4}<=Z<={5}'.format(\n",
    "        my_rand.X.values-buffer, my_rand.X.values+buffer, my_rand.Y.values-buffer, my_rand.Y.values+buffer, my_rand.Z.values-buffer, my_rand.Z.values+buffer))\n",
    "    x = df_subset.X\n",
    "    y = df_subset.Y\n",
    "    z = df_subset.Z\n",
    "    r = df_subset.R\n",
    "    phi = df_subset.Phi\n",
    "    bz = df_subset.Bz\n",
    "    br = df_subset.Br\n",
    "    bphi = df_subset.Bphi\n",
    "    rbf_bz = Rbf(r, phi, z, bz,function='multiquadric', norm=cylindrical_norm)\n",
    "    i_bz = rbf_bz(my_rand.R, my_rand.Phi, my_rand.Z)\n",
    "    t_bz = my_rand.Bz\n",
    "    res = abs(i_bz-t_bz).values\n",
    "    if res>1e-4:\n",
    "        print res[0], i\n",
    "        print my_rand\n",
    "        print '',i_bz[0]\n",
    "        counter +=1\n",
    "    else: print res\n",
    "print 'bads:', counter"
   ]
  },
  {
   "cell_type": "code",
   "execution_count": null,
   "metadata": {
    "collapsed": false
   },
   "outputs": [],
   "source": [
    "print np.asarray(res_lin)-np.asarray(res_quin)"
   ]
  },
  {
   "cell_type": "code",
   "execution_count": null,
   "metadata": {
    "collapsed": false
   },
   "outputs": [],
   "source": [
    "rbf_br = Rbf(r, phi, z, br,function='gaussian', norm=cylindrical_norm)\n",
    "i_br = rbf_br(df_rand_subset.R, df_rand_subset.Phi, df_rand_subset.Z)\n",
    "t_br = df_rand_subset.Br\n",
    "res =abs(i_br-t_br)\n",
    "max(res)"
   ]
  },
  {
   "cell_type": "code",
   "execution_count": null,
   "metadata": {
    "collapsed": false
   },
   "outputs": [],
   "source": [
    "rbf_bphi = Rbf(r, phi, z, bphi,function='quintic', norm=cylindrical_norm)\n",
    "i_bphi = rbf_bphi(df_rand_subset.R, df_rand_subset.Phi, df_rand_subset.Z)\n",
    "t_bphi = df_rand_subset.Bphi\n",
    "res =abs(i_bphi-t_bphi)\n",
    "max(res)"
   ]
  },
  {
   "cell_type": "code",
   "execution_count": null,
   "metadata": {
    "collapsed": true
   },
   "outputs": [],
   "source": []
  }
 ],
 "metadata": {
  "kernelspec": {
   "display_name": "Python 2",
   "language": "python",
   "name": "python2"
  }
 },
 "nbformat": 4,
 "nbformat_minor": 0
}
