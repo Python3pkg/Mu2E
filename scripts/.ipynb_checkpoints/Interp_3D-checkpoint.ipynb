{
 "cells": [
  {
   "cell_type": "markdown",
   "metadata": {},
   "source": [
    "# 3D Interpolation with Scipy"
   ]
  },
  {
   "cell_type": "markdown",
   "metadata": {},
   "source": [
    "The hall probe measurement simulation software is hamstrung by the sparseness of the available field grid data.  The Mau10 and GA05 field grids are given in Cartesian coordinates, with 25 mm spacing on the X, Y, and Z axes.  The hall probe measurement device will work most naturally in cylindrical coordinates.  In order to sample regular cylindrically symmetric data from the field grids, one must either cherry pick values that coincide with the 25x25x25 mm spacing, or generate data through interpolation.\n",
    "\n",
    "The current interpolation method employed in the Mu2E organization for doing this is a linear 3D method.  This leads to can lead to fairly large errors in regions of large magnetic gradient, which would be unsuitable for further analysis.  We will attempt to use a more robust interpolate method and compare those results with random field data (provided in a separate file for validation purposes)."
   ]
  },
  {
   "cell_type": "code",
   "execution_count": 1,
   "metadata": {
    "collapsed": false
   },
   "outputs": [],
   "source": [
    "from mu2e.dataframeprod import DataFrameMaker\n",
    "from mu2e import mu2e_ext_path\n",
    "import numpy as np\n",
    "from scipy.interpolate import Rbf\n",
    "from IPython.display import HTML\n"
   ]
  },
  {
   "cell_type": "code",
   "execution_count": 2,
   "metadata": {
    "collapsed": true
   },
   "outputs": [],
   "source": [
    "df = DataFrameMaker(mu2e_ext_path+'datafiles/Mau10/Standard_Maps/Mu2e_DSMap',use_pickle = True).data_frame"
   ]
  },
  {
   "cell_type": "code",
   "execution_count": 4,
   "metadata": {
    "collapsed": false
   },
   "outputs": [
    {
     "data": {
      "text/html": [
       "<div>\n",
       "<table border=\"1\" class=\"dataframe\">\n",
       "  <thead>\n",
       "    <tr style=\"text-align: right;\">\n",
       "      <th></th>\n",
       "      <th>X</th>\n",
       "      <th>Y</th>\n",
       "      <th>Z</th>\n",
       "      <th>Bx</th>\n",
       "      <th>By</th>\n",
       "      <th>Bz</th>\n",
       "      <th>R</th>\n",
       "      <th>Phi</th>\n",
       "      <th>Bphi</th>\n",
       "      <th>Br</th>\n",
       "    </tr>\n",
       "  </thead>\n",
       "  <tbody>\n",
       "    <tr>\n",
       "      <th>0</th>\n",
       "      <td>-1200.0</td>\n",
       "      <td>-1200.0</td>\n",
       "      <td>3071.0</td>\n",
       "      <td>0.129282</td>\n",
       "      <td>0.132041</td>\n",
       "      <td>0.044331</td>\n",
       "      <td>1697.056275</td>\n",
       "      <td>-2.356194</td>\n",
       "      <td>-0.001951</td>\n",
       "      <td>-0.184783</td>\n",
       "    </tr>\n",
       "    <tr>\n",
       "      <th>1</th>\n",
       "      <td>-1200.0</td>\n",
       "      <td>-1200.0</td>\n",
       "      <td>3096.0</td>\n",
       "      <td>0.132108</td>\n",
       "      <td>0.134881</td>\n",
       "      <td>0.041163</td>\n",
       "      <td>1697.056275</td>\n",
       "      <td>-2.356194</td>\n",
       "      <td>-0.001960</td>\n",
       "      <td>-0.188790</td>\n",
       "    </tr>\n",
       "    <tr>\n",
       "      <th>2</th>\n",
       "      <td>-1200.0</td>\n",
       "      <td>-1200.0</td>\n",
       "      <td>3121.0</td>\n",
       "      <td>0.134887</td>\n",
       "      <td>0.137672</td>\n",
       "      <td>0.037731</td>\n",
       "      <td>1697.056275</td>\n",
       "      <td>-2.356194</td>\n",
       "      <td>-0.001969</td>\n",
       "      <td>-0.192728</td>\n",
       "    </tr>\n",
       "    <tr>\n",
       "      <th>3</th>\n",
       "      <td>-1200.0</td>\n",
       "      <td>-1200.0</td>\n",
       "      <td>3146.0</td>\n",
       "      <td>0.137602</td>\n",
       "      <td>0.140399</td>\n",
       "      <td>0.034029</td>\n",
       "      <td>1697.056275</td>\n",
       "      <td>-2.356194</td>\n",
       "      <td>-0.001977</td>\n",
       "      <td>-0.196576</td>\n",
       "    </tr>\n",
       "    <tr>\n",
       "      <th>4</th>\n",
       "      <td>-1200.0</td>\n",
       "      <td>-1200.0</td>\n",
       "      <td>3171.0</td>\n",
       "      <td>0.140237</td>\n",
       "      <td>0.143045</td>\n",
       "      <td>0.030050</td>\n",
       "      <td>1697.056275</td>\n",
       "      <td>-2.356194</td>\n",
       "      <td>-0.001985</td>\n",
       "      <td>-0.200311</td>\n",
       "    </tr>\n",
       "  </tbody>\n",
       "</table>\n",
       "</div>"
      ],
      "text/plain": [
       "        X       Y       Z        Bx        By        Bz            R  \\\n",
       "0 -1200.0 -1200.0  3071.0  0.129282  0.132041  0.044331  1697.056275   \n",
       "1 -1200.0 -1200.0  3096.0  0.132108  0.134881  0.041163  1697.056275   \n",
       "2 -1200.0 -1200.0  3121.0  0.134887  0.137672  0.037731  1697.056275   \n",
       "3 -1200.0 -1200.0  3146.0  0.137602  0.140399  0.034029  1697.056275   \n",
       "4 -1200.0 -1200.0  3171.0  0.140237  0.143045  0.030050  1697.056275   \n",
       "\n",
       "        Phi      Bphi        Br  \n",
       "0 -2.356194 -0.001951 -0.184783  \n",
       "1 -2.356194 -0.001960 -0.188790  \n",
       "2 -2.356194 -0.001969 -0.192728  \n",
       "3 -2.356194 -0.001977 -0.196576  \n",
       "4 -2.356194 -0.001985 -0.200311  "
      ]
     },
     "execution_count": 4,
     "metadata": {},
     "output_type": "execute_result"
    }
   ],
   "source": [
    "df.head()"
   ]
  },
  {
   "cell_type": "code",
   "execution_count": 3,
   "metadata": {
    "collapsed": true
   },
   "outputs": [],
   "source": [
    "df_rand = DataFrameMaker(mu2e_ext_path+'datafiles/Mau10/Standard_Maps/Mu2e_DSMap_rand1mil',use_pickle = True).data_frame"
   ]
  },
  {
   "cell_type": "code",
   "execution_count": 17,
   "metadata": {
    "collapsed": false
   },
   "outputs": [
    {
     "data": {
      "text/html": [
       "<div>\n",
       "<table border=\"1\" class=\"dataframe\">\n",
       "  <thead>\n",
       "    <tr style=\"text-align: right;\">\n",
       "      <th></th>\n",
       "      <th>X</th>\n",
       "      <th>Y</th>\n",
       "      <th>Z</th>\n",
       "      <th>Bx</th>\n",
       "      <th>By</th>\n",
       "      <th>Bz</th>\n",
       "      <th>R</th>\n",
       "      <th>Phi</th>\n",
       "      <th>Bphi</th>\n",
       "      <th>Br</th>\n",
       "    </tr>\n",
       "  </thead>\n",
       "  <tbody>\n",
       "    <tr>\n",
       "      <th>0</th>\n",
       "      <td>-1007.9996</td>\n",
       "      <td>-0.708404</td>\n",
       "      <td>12190.6920</td>\n",
       "      <td>-0.005847</td>\n",
       "      <td>-0.000004</td>\n",
       "      <td>0.993192</td>\n",
       "      <td>1007.999849</td>\n",
       "      <td>-3.140890</td>\n",
       "      <td>-1.790000e-07</td>\n",
       "      <td>0.005847</td>\n",
       "    </tr>\n",
       "    <tr>\n",
       "      <th>1</th>\n",
       "      <td>-1007.9966</td>\n",
       "      <td>-1.116473</td>\n",
       "      <td>7536.1132</td>\n",
       "      <td>-0.564179</td>\n",
       "      <td>-0.000629</td>\n",
       "      <td>1.455297</td>\n",
       "      <td>1007.997218</td>\n",
       "      <td>-3.140485</td>\n",
       "      <td>4.159000e-06</td>\n",
       "      <td>0.564180</td>\n",
       "    </tr>\n",
       "    <tr>\n",
       "      <th>2</th>\n",
       "      <td>-1007.9943</td>\n",
       "      <td>-1.397842</td>\n",
       "      <td>5638.5763</td>\n",
       "      <td>0.147173</td>\n",
       "      <td>0.000207</td>\n",
       "      <td>1.172049</td>\n",
       "      <td>1007.995269</td>\n",
       "      <td>-3.140206</td>\n",
       "      <td>-3.246000e-06</td>\n",
       "      <td>-0.147173</td>\n",
       "    </tr>\n",
       "    <tr>\n",
       "      <th>3</th>\n",
       "      <td>-1007.9935</td>\n",
       "      <td>-1.022141</td>\n",
       "      <td>7750.8171</td>\n",
       "      <td>-0.221387</td>\n",
       "      <td>-0.000226</td>\n",
       "      <td>0.703601</td>\n",
       "      <td>1007.994018</td>\n",
       "      <td>-3.140579</td>\n",
       "      <td>1.061000e-06</td>\n",
       "      <td>0.221387</td>\n",
       "    </tr>\n",
       "    <tr>\n",
       "      <th>4</th>\n",
       "      <td>-1007.9879</td>\n",
       "      <td>-1.502013</td>\n",
       "      <td>8048.6632</td>\n",
       "      <td>0.059701</td>\n",
       "      <td>0.000091</td>\n",
       "      <td>1.010066</td>\n",
       "      <td>1007.989019</td>\n",
       "      <td>-3.140103</td>\n",
       "      <td>-1.725000e-06</td>\n",
       "      <td>-0.059701</td>\n",
       "    </tr>\n",
       "  </tbody>\n",
       "</table>\n",
       "</div>"
      ],
      "text/plain": [
       "           X         Y           Z        Bx        By        Bz            R  \\\n",
       "0 -1007.9996 -0.708404  12190.6920 -0.005847 -0.000004  0.993192  1007.999849   \n",
       "1 -1007.9966 -1.116473   7536.1132 -0.564179 -0.000629  1.455297  1007.997218   \n",
       "2 -1007.9943 -1.397842   5638.5763  0.147173  0.000207  1.172049  1007.995269   \n",
       "3 -1007.9935 -1.022141   7750.8171 -0.221387 -0.000226  0.703601  1007.994018   \n",
       "4 -1007.9879 -1.502013   8048.6632  0.059701  0.000091  1.010066  1007.989019   \n",
       "\n",
       "        Phi          Bphi        Br  \n",
       "0 -3.140890 -1.790000e-07  0.005847  \n",
       "1 -3.140485  4.159000e-06  0.564180  \n",
       "2 -3.140206 -3.246000e-06 -0.147173  \n",
       "3 -3.140579  1.061000e-06  0.221387  \n",
       "4 -3.140103 -1.725000e-06 -0.059701  "
      ]
     },
     "execution_count": 17,
     "metadata": {},
     "output_type": "execute_result"
    }
   ],
   "source": [
    "df_rand.head()"
   ]
  },
  {
   "cell_type": "code",
   "execution_count": 7,
   "metadata": {
    "collapsed": false
   },
   "outputs": [
    {
     "data": {
      "text/plain": [
       "999.95324000000005"
      ]
     },
     "execution_count": 7,
     "metadata": {},
     "output_type": "execute_result"
    }
   ],
   "source": [
    "df_rand.Y.max()"
   ]
  },
  {
   "cell_type": "code",
   "execution_count": 4,
   "metadata": {
    "collapsed": true
   },
   "outputs": [],
   "source": [
    "df_rand_subset = df_rand.query('-800<=X<=800 and -800<=Y<=800 and 4200<=Z<=13000')"
   ]
  },
  {
   "cell_type": "markdown",
   "metadata": {},
   "source": [
    "We have our dataframes queued up.  We will attempt to interpolate a regular grid from `df`, and test values from `df_rand` to determine our accuracy.  Let's try to use scipy.interpolate.Rbf in a simple case, first:"
   ]
  },
  {
   "cell_type": "code",
   "execution_count": 6,
   "metadata": {
    "collapsed": true
   },
   "outputs": [],
   "source": [
    "x, y, z, d = np.random.rand(4, 50)\n",
    "rbfi = Rbf(x, y, z, d)\n",
    "xi = yi = zi = np.linspace(0, 1, 20)\n",
    "di = rbfi(xi, yi, zi)"
   ]
  },
  {
   "cell_type": "code",
   "execution_count": 7,
   "metadata": {
    "collapsed": false
   },
   "outputs": [
    {
     "name": "stdout",
     "output_type": "stream",
     "text": [
      "[ 0.09790102  0.15664449  0.2462196   0.381434    0.56512296  0.77834237\n",
      "  0.97383241  1.07885549  1.04508479  0.91029727  0.76698539  0.64418499\n",
      "  0.46331124  0.20230294 -0.00359683 -0.04662047  0.04660403  0.19832145\n",
      "  0.35334717  0.48787137]\n"
     ]
    }
   ],
   "source": [
    "print di"
   ]
  },
  {
   "cell_type": "code",
   "execution_count": 7,
   "metadata": {
    "collapsed": false
   },
   "outputs": [],
   "source": [
    "def cylindrical_norm(x1,x2):\n",
    "    return np.sqrt(\n",
    "        (x1[0,:]*np.cos(x1[1,:])-x2[0,:]*np.cos(x2[1,:]))**2 +\n",
    "        (x1[0,:]*np.sin(x1[1,:])-x2[0,:]*np.sin(x2[1,:]))**2 +\n",
    "        (x1[2,:]-x2[2,:])**2)"
   ]
  },
  {
   "cell_type": "code",
   "execution_count": 8,
   "metadata": {
    "collapsed": false
   },
   "outputs": [],
   "source": [
    "my_rand = df_rand_subset.sample(1)"
   ]
  },
  {
   "cell_type": "code",
   "execution_count": 9,
   "metadata": {
    "collapsed": false
   },
   "outputs": [
    {
     "data": {
      "text/plain": [
       "array([-616.9342])"
      ]
     },
     "execution_count": 9,
     "metadata": {},
     "output_type": "execute_result"
    }
   ],
   "source": [
    "my_rand.X.values"
   ]
  },
  {
   "cell_type": "code",
   "execution_count": 10,
   "metadata": {
    "collapsed": false
   },
   "outputs": [],
   "source": [
    "df_subset = df.query('{0}<=X<={1} and {2}<=Y<={3} and {4}<=Z<={5}'.format(\n",
    "    my_rand.X.values-50, my_rand.X.values+50, my_rand.Y.values-50, my_rand.Y.values+50, my_rand.Z.values-50, my_rand.Z.values+50))"
   ]
  },
  {
   "cell_type": "code",
   "execution_count": 12,
   "metadata": {
    "collapsed": true
   },
   "outputs": [],
   "source": [
    "x = df_subset.X\n",
    "y = df_subset.Y\n",
    "z = df_subset.Z\n",
    "r = df_subset.R\n",
    "phi = df_subset.Phi\n",
    "bz = df_subset.Bz\n",
    "br = df_subset.Br\n",
    "bphi = df_subset.Bphi\n",
    "\n"
   ]
  },
  {
   "cell_type": "code",
   "execution_count": 18,
   "metadata": {
    "collapsed": false
   },
   "outputs": [],
   "source": [
    "rbf_bz = Rbf(r, phi, z, bz,function='linear', norm=cylindrical_norm)\n",
    "rbf_br = Rbf(r, phi, z, br,function='linear', norm=cylindrical_norm)"
   ]
  },
  {
   "cell_type": "code",
   "execution_count": 14,
   "metadata": {
    "collapsed": false
   },
   "outputs": [],
   "source": [
    "i_bz = rbf_bz(my_rand.R, my_rand.Phi, my_rand.Z)\n",
    "t_bz = my_rand.Bz"
   ]
  },
  {
   "cell_type": "code",
   "execution_count": 15,
   "metadata": {
    "collapsed": false
   },
   "outputs": [],
   "source": [
    "res =abs(i_bz-t_bz)"
   ]
  },
  {
   "cell_type": "code",
   "execution_count": 90,
   "metadata": {
    "collapsed": false
   },
   "outputs": [],
   "source": [
    "class color:\n",
    "   PURPLE = '\\033[95m'\n",
    "   CYAN = '\\033[96m'\n",
    "   DARKCYAN = '\\033[36m'\n",
    "   BLUE = '\\033[94m'\n",
    "   GREEN = '\\033[92m'\n",
    "   YELLOW = '\\033[93m'\n",
    "   RED = '\\033[91m'\n",
    "   BOLD = '\\033[1m'\n",
    "   UNDERLINE = '\\033[4m'\n",
    "   END = '\\033[0m'\n",
    "def one_o_r2(r):\n",
    "    return (r**2)"
   ]
  },
  {
   "cell_type": "code",
   "execution_count": 18,
   "metadata": {
    "collapsed": false,
    "scrolled": false
   },
   "outputs": [
    {
     "name": "stdout",
     "output_type": "stream",
     "text": [
      "\tBx\t\t\tBy\t\t\tBz\n",
      "bads: 4\n"
     ]
    },
    {
     "data": {
      "text/html": [
       "<p>Quad&emsp;&emsp;&emsp;Lin&emsp;&emsp;&emsp;RBF&emsp;&emsp;&emsp;&emsp;&emsp;&emsp;&emsp;&emsp;&emsp;&emsp;Quad&emsp;&emsp;&emsp;Lin&emsp;&emsp;&emsp;RBF&emsp;&emsp;&emsp;&emsp;&emsp;&emsp;&emsp;&emsp;&emsp;&emsp;Quad&emsp;&emsp;&emsp;Lin&emsp;&emsp;&emsp;RBF</p><p><b>1.61e-07</b> 1.97e-07 2.07e-07&emsp;&emsp;&emsp;&emsp;&emsp;&emsp;&emsp;&emsp;<b>6.50e-06</b> 6.86e-06 6.56e-06&emsp;&emsp;&emsp;&emsp;&emsp;&emsp;&emsp;&emsp;5.53e-07 <b>4.46e-07</b> 1.11e-06</p><p>1.48e-05 1.91e-05 <b>1.34e-05</b>&emsp;&emsp;&emsp;&emsp;&emsp;&emsp;&emsp;&emsp;2.59e-06 5.38e-06 <b>2.09e-06</b>&emsp;&emsp;&emsp;&emsp;&emsp;&emsp;&emsp;&emsp;5.02e-05 <b>2.26e-05</b> 5.61e-05</p><p>7.44e-06 6.75e-06 <b>6.65e-06</b>&emsp;&emsp;&emsp;&emsp;&emsp;&emsp;&emsp;&emsp;7.66e-06 7.03e-06 <b>6.88e-06</b>&emsp;&emsp;&emsp;&emsp;&emsp;&emsp;&emsp;&emsp;<b>6.78e-05</b> 6.86e-05 6.95e-05</p><p>7.55e-06 <b>7.02e-06</b> 7.55e-06&emsp;&emsp;&emsp;&emsp;&emsp;&emsp;&emsp;&emsp;1.40e-05 <b>1.25e-05</b> 1.43e-05&emsp;&emsp;&emsp;&emsp;&emsp;&emsp;&emsp;&emsp;1.47e-05 <b>7.99e-06</b> 1.39e-05</p><p>1.62e-05 <b>1.50e-05</b> 1.61e-05&emsp;&emsp;&emsp;&emsp;&emsp;&emsp;&emsp;&emsp;3.35e-07 <b>3.15e-07</b> 3.39e-07&emsp;&emsp;&emsp;&emsp;&emsp;&emsp;&emsp;&emsp;<b>2.81e-06</b> 5.40e-06 4.27e-06</p><p><b>5.99e-06</b> 1.21e-05 7.98e-06&emsp;&emsp;&emsp;&emsp;&emsp;&emsp;&emsp;&emsp;<b>9.62e-06</b> 1.07e-05 1.23e-05&emsp;&emsp;&emsp;&emsp;&emsp;&emsp;&emsp;&emsp;7.06e-05 <b>2.68e-05</b> 5.88e-05</p><p><b>6.76e-07</b> 2.24e-05 1.11e-05&emsp;&emsp;&emsp;&emsp;&emsp;&emsp;&emsp;&emsp;<b>4.68e-06</b> 5.63e-06 1.27e-05&emsp;&emsp;&emsp;&emsp;&emsp;&emsp;&emsp;&emsp;6.91e-05 <b>4.71e-05</b> 5.53e-05</p><p><b>1.89e-05</b> 2.02e-05 2.62e-05&emsp;&emsp;&emsp;&emsp;&emsp;&emsp;&emsp;&emsp;2.23e-05 <b>6.41e-06</b> 2.81e-05&emsp;&emsp;&emsp;&emsp;&emsp;&emsp;&emsp;&emsp;2.52e-05 8.69e-05 <b>1.64e-05</b></p><p>1.40e-07 <b>1.39e-07</b> 1.46e-07&emsp;&emsp;&emsp;&emsp;&emsp;&emsp;&emsp;&emsp;1.77e-05 1.78e-05 <b>1.77e-05</b>&emsp;&emsp;&emsp;&emsp;&emsp;&emsp;&emsp;&emsp;<b>6.65e-06</b> 6.92e-06 7.49e-06</p><p>1.88e-06 <b>1.13e-07</b> 2.05e-06&emsp;&emsp;&emsp;&emsp;&emsp;&emsp;&emsp;&emsp;1.63e-07 <b>6.91e-08</b> 7.68e-08&emsp;&emsp;&emsp;&emsp;&emsp;&emsp;&emsp;&emsp;1.91e-05 <b>1.01e-05</b> 2.01e-05</p><p>1.49e-05 1.50e-05 <b>1.48e-05</b>&emsp;&emsp;&emsp;&emsp;&emsp;&emsp;&emsp;&emsp;<b>7.52e-07</b> 7.62e-07 7.58e-07&emsp;&emsp;&emsp;&emsp;&emsp;&emsp;&emsp;&emsp;1.37e-05 1.37e-05 <b>1.32e-05</b></p><p><b>3.63e-05</b> 2.05e-04 4.53e-05&emsp;&emsp;&emsp;&emsp;&emsp;&emsp;&emsp;&emsp;<b>1.73e-05</b> 7.19e-05 1.87e-05&emsp;&emsp;&emsp;&emsp;&emsp;&emsp;&emsp;&emsp;1.22e-04 4.93e-04 <b>5.15e-05</b></p><p>1.53e-06 2.54e-06 <b>1.37e-06</b>&emsp;&emsp;&emsp;&emsp;&emsp;&emsp;&emsp;&emsp;4.35e-06 8.15e-06 <b>3.99e-06</b>&emsp;&emsp;&emsp;&emsp;&emsp;&emsp;&emsp;&emsp;<b>1.62e-05</b> 2.39e-05 1.73e-05</p><p>4.34e-05 <b>4.23e-05</b> 4.30e-05&emsp;&emsp;&emsp;&emsp;&emsp;&emsp;&emsp;&emsp;3.46e-05 <b>3.40e-05</b> 3.43e-05&emsp;&emsp;&emsp;&emsp;&emsp;&emsp;&emsp;&emsp;3.87e-05 <b>3.64e-05</b> 1.50e-04</p><p><b>5.42e-07</b> 1.22e-05 1.99e-06&emsp;&emsp;&emsp;&emsp;&emsp;&emsp;&emsp;&emsp;<b>9.53e-06</b> 1.72e-04 2.09e-05&emsp;&emsp;&emsp;&emsp;&emsp;&emsp;&emsp;&emsp;<b>1.76e-06</b> 2.02e-05 2.60e-05</p><p>3.75e-06 7.66e-06 <b>3.20e-06</b>&emsp;&emsp;&emsp;&emsp;&emsp;&emsp;&emsp;&emsp;1.39e-05 2.88e-05 <b>1.27e-05</b>&emsp;&emsp;&emsp;&emsp;&emsp;&emsp;&emsp;&emsp;<b>2.01e-05</b> 2.08e-05 2.19e-05</p><p>1.46e-06 4.18e-06 <b>1.38e-06</b>&emsp;&emsp;&emsp;&emsp;&emsp;&emsp;&emsp;&emsp;7.94e-06 2.31e-05 <b>7.33e-06</b>&emsp;&emsp;&emsp;&emsp;&emsp;&emsp;&emsp;&emsp;1.02e-05 1.81e-05 <b>8.79e-06</b></p><p>8.34e-06 <b>8.17e-06</b> 8.34e-06&emsp;&emsp;&emsp;&emsp;&emsp;&emsp;&emsp;&emsp;8.62e-06 <b>8.61e-06</b> 8.65e-06&emsp;&emsp;&emsp;&emsp;&emsp;&emsp;&emsp;&emsp;1.86e-05 1.87e-05 <b>1.63e-05</b></p><p>5.58e-06 <b>5.48e-06</b> 5.59e-06&emsp;&emsp;&emsp;&emsp;&emsp;&emsp;&emsp;&emsp;8.29e-06 <b>8.14e-06</b> 8.30e-06&emsp;&emsp;&emsp;&emsp;&emsp;&emsp;&emsp;&emsp;2.88e-05 2.91e-05 <b>2.86e-05</b></p><p>2.79e-06 2.60e-06 <b>2.27e-06</b>&emsp;&emsp;&emsp;&emsp;&emsp;&emsp;&emsp;&emsp;7.07e-06 6.74e-06 <b>6.19e-06</b>&emsp;&emsp;&emsp;&emsp;&emsp;&emsp;&emsp;&emsp;<b>1.59e-05</b> 1.67e-05 1.75e-05</p><p>2.90e-05 1.06e-05 <b>1.92e-06</b>&emsp;&emsp;&emsp;&emsp;&emsp;&emsp;&emsp;&emsp;1.93e-05 7.78e-06 <b>1.32e-06</b>&emsp;&emsp;&emsp;&emsp;&emsp;&emsp;&emsp;&emsp;7.16e-05 7.25e-05 <b>4.47e-05</b></p><p>1.37e-06 <b>1.23e-06</b> 1.98e-06&emsp;&emsp;&emsp;&emsp;&emsp;&emsp;&emsp;&emsp;3.69e-07 <b>3.35e-07</b> 5.36e-07&emsp;&emsp;&emsp;&emsp;&emsp;&emsp;&emsp;&emsp;9.88e-05 <b>9.47e-05</b> 9.73e-05</p><p>6.56e-07 <b>5.38e-07</b> 6.72e-07&emsp;&emsp;&emsp;&emsp;&emsp;&emsp;&emsp;&emsp;5.23e-06 <b>4.94e-06</b> 5.35e-06&emsp;&emsp;&emsp;&emsp;&emsp;&emsp;&emsp;&emsp;<b>4.02e-06</b> 4.39e-06 5.72e-06</p><p>4.52e-06 9.86e-06 <b>3.53e-06</b>&emsp;&emsp;&emsp;&emsp;&emsp;&emsp;&emsp;&emsp;2.82e-05 6.12e-05 <b>2.51e-05</b>&emsp;&emsp;&emsp;&emsp;&emsp;&emsp;&emsp;&emsp;<b>9.64e-06</b> 2.05e-05 1.90e-05</p><p><b>1.53e-06</b> 1.64e-06 1.55e-06&emsp;&emsp;&emsp;&emsp;&emsp;&emsp;&emsp;&emsp;<b>2.00e-05</b> 2.14e-05 2.00e-05&emsp;&emsp;&emsp;&emsp;&emsp;&emsp;&emsp;&emsp;4.84e-05 <b>4.81e-05</b> 4.96e-05</p><p>2.14e-05 <b>2.08e-05</b> 2.14e-05&emsp;&emsp;&emsp;&emsp;&emsp;&emsp;&emsp;&emsp;1.23e-05 <b>1.22e-05</b> 1.23e-05&emsp;&emsp;&emsp;&emsp;&emsp;&emsp;&emsp;&emsp;3.92e-05 3.98e-05 <b>3.50e-05</b></p><p>9.02e-06 <b>9.01e-06</b> 9.02e-06&emsp;&emsp;&emsp;&emsp;&emsp;&emsp;&emsp;&emsp;1.92e-05 <b>1.91e-05</b> 1.91e-05&emsp;&emsp;&emsp;&emsp;&emsp;&emsp;&emsp;&emsp;8.25e-07 7.65e-07 <b>2.26e-08</b></p><p><b>4.98e-06</b> 1.17e-05 5.48e-06&emsp;&emsp;&emsp;&emsp;&emsp;&emsp;&emsp;&emsp;<b>1.88e-06</b> 4.27e-06 1.96e-06&emsp;&emsp;&emsp;&emsp;&emsp;&emsp;&emsp;&emsp;7.84e-05 8.10e-05 <b>7.31e-05</b></p><p><b>1.94e-05</b> 3.69e-04 2.63e-05&emsp;&emsp;&emsp;&emsp;&emsp;&emsp;&emsp;&emsp;2.28e-06 2.58e-06 <b>3.71e-07</b>&emsp;&emsp;&emsp;&emsp;&emsp;&emsp;&emsp;&emsp;<b>1.61e-05</b> 1.39e-04 4.05e-05</p><p><b>8.89e-06</b> 8.89e-06 8.89e-06&emsp;&emsp;&emsp;&emsp;&emsp;&emsp;&emsp;&emsp;<b>2.43e-06</b> 2.44e-06 2.44e-06&emsp;&emsp;&emsp;&emsp;&emsp;&emsp;&emsp;&emsp;2.42e-05 2.42e-05 <b>2.24e-05</b></p><p>9.09e-06 <b>9.08e-06</b> 9.09e-06&emsp;&emsp;&emsp;&emsp;&emsp;&emsp;&emsp;&emsp;2.70e-05 <b>2.70e-05</b> 2.70e-05&emsp;&emsp;&emsp;&emsp;&emsp;&emsp;&emsp;&emsp;2.74e-05 2.73e-05 <b>2.65e-05</b></p><p>8.21e-06 <b>4.88e-06</b> 6.80e-06&emsp;&emsp;&emsp;&emsp;&emsp;&emsp;&emsp;&emsp;1.89e-05 <b>1.17e-05</b> 1.57e-05&emsp;&emsp;&emsp;&emsp;&emsp;&emsp;&emsp;&emsp;5.94e-05 <b>1.60e-05</b> 5.16e-05</p><p>3.05e-06 3.04e-06 <b>2.83e-06</b>&emsp;&emsp;&emsp;&emsp;&emsp;&emsp;&emsp;&emsp;2.17e-06 2.19e-06 <b>2.01e-06</b>&emsp;&emsp;&emsp;&emsp;&emsp;&emsp;&emsp;&emsp;6.79e-05 6.95e-05 <b>6.59e-05</b></p><p><b>1.31e-07</b> 1.32e-07 1.33e-07&emsp;&emsp;&emsp;&emsp;&emsp;&emsp;&emsp;&emsp;<b>2.94e-06</b> 2.96e-06 2.95e-06&emsp;&emsp;&emsp;&emsp;&emsp;&emsp;&emsp;&emsp;<b>4.12e-05</b> 4.13e-05 4.17e-05</p><p>6.04e-05 1.38e-04 <b>3.38e-05</b>&emsp;&emsp;&emsp;&emsp;&emsp;&emsp;&emsp;&emsp;8.61e-05 1.84e-04 <b>4.07e-05</b>&emsp;&emsp;&emsp;&emsp;&emsp;&emsp;&emsp;&emsp;3.86e-06 3.14e-04 <b>1.26e-06</b></p><p>2.82e-06 2.91e-06 <b>2.80e-06</b>&emsp;&emsp;&emsp;&emsp;&emsp;&emsp;&emsp;&emsp;1.87e-06 1.90e-06 <b>1.86e-06</b>&emsp;&emsp;&emsp;&emsp;&emsp;&emsp;&emsp;&emsp;4.07e-05 4.09e-05 <b>3.85e-05</b></p><p>1.21e-06 <b>1.04e-06</b> 1.10e-06&emsp;&emsp;&emsp;&emsp;&emsp;&emsp;&emsp;&emsp;5.28e-06 5.37e-06 <b>4.92e-06</b>&emsp;&emsp;&emsp;&emsp;&emsp;&emsp;&emsp;&emsp;4.64e-05 4.61e-05 <b>4.46e-05</b></p><p><b>1.74e-05</b> 2.34e-05 1.83e-05&emsp;&emsp;&emsp;&emsp;&emsp;&emsp;&emsp;&emsp;<b>1.30e-05</b> 1.81e-05 1.39e-05&emsp;&emsp;&emsp;&emsp;&emsp;&emsp;&emsp;&emsp;<b>3.58e-06</b> 9.92e-06 8.78e-04</p><p>2.78e-05 1.11e-04 <b>2.56e-05</b>&emsp;&emsp;&emsp;&emsp;&emsp;&emsp;&emsp;&emsp;3.76e-05 1.51e-04 <b>3.61e-05</b>&emsp;&emsp;&emsp;&emsp;&emsp;&emsp;&emsp;&emsp;<b>3.36e-05</b> 6.40e-04 3.02e-04</p><p><b>1.09e-05</b> 5.77e-05 1.82e-05&emsp;&emsp;&emsp;&emsp;&emsp;&emsp;&emsp;&emsp;<b>1.08e-06</b> 8.30e-06 2.39e-06&emsp;&emsp;&emsp;&emsp;&emsp;&emsp;&emsp;&emsp;8.67e-05 8.69e-05 <b>8.24e-05</b></p><p>4.93e-05 3.76e-05 <b>3.33e-06</b>&emsp;&emsp;&emsp;&emsp;&emsp;&emsp;&emsp;&emsp;1.48e-05 8.53e-06 <b>1.02e-06</b>&emsp;&emsp;&emsp;&emsp;&emsp;&emsp;&emsp;&emsp;<b>3.58e-05</b> 4.31e-04 4.33e-05</p><p><b>1.47e-06</b> 2.23e-06 5.14e-06&emsp;&emsp;&emsp;&emsp;&emsp;&emsp;&emsp;&emsp;<b>2.22e-06</b> 7.51e-06 9.64e-06&emsp;&emsp;&emsp;&emsp;&emsp;&emsp;&emsp;&emsp;<b>6.83e-05</b> 6.83e-05 6.94e-05</p><p>3.05e-05 8.76e-05 <b>1.78e-05</b>&emsp;&emsp;&emsp;&emsp;&emsp;&emsp;&emsp;&emsp;8.90e-06 2.45e-05 <b>5.02e-06</b>&emsp;&emsp;&emsp;&emsp;&emsp;&emsp;&emsp;&emsp;<b>3.13e-05</b> 5.27e-05 3.31e-05</p><p><b>1.06e-06</b> 2.02e-04 2.18e-05&emsp;&emsp;&emsp;&emsp;&emsp;&emsp;&emsp;&emsp;<b>7.87e-07</b> 1.10e-04 1.12e-05&emsp;&emsp;&emsp;&emsp;&emsp;&emsp;&emsp;&emsp;5.41e-05 8.97e-05 <b>3.85e-05</b></p><p>1.91e-05 <b>1.91e-05</b> 1.91e-05&emsp;&emsp;&emsp;&emsp;&emsp;&emsp;&emsp;&emsp;2.01e-06 <b>2.01e-06</b> 2.02e-06&emsp;&emsp;&emsp;&emsp;&emsp;&emsp;&emsp;&emsp;8.88e-07 <b>5.45e-07</b> 3.62e-06</p><p><b>1.96e-05</b> 1.74e-04 3.26e-05&emsp;&emsp;&emsp;&emsp;&emsp;&emsp;&emsp;&emsp;<b>7.69e-07</b> 1.08e-05 2.41e-06&emsp;&emsp;&emsp;&emsp;&emsp;&emsp;&emsp;&emsp;<b>3.46e-06</b> 1.65e-04 2.63e-05</p><p>2.98e-06 <b>2.96e-06</b> 2.98e-06&emsp;&emsp;&emsp;&emsp;&emsp;&emsp;&emsp;&emsp;1.23e-05 <b>1.22e-05</b> 1.23e-05&emsp;&emsp;&emsp;&emsp;&emsp;&emsp;&emsp;&emsp;<b>1.12e-05</b> 1.13e-05 1.24e-05</p><p>3.87e-06 3.87e-06 <b>3.87e-06</b>&emsp;&emsp;&emsp;&emsp;&emsp;&emsp;&emsp;&emsp;2.91e-06 2.91e-06 <b>2.90e-06</b>&emsp;&emsp;&emsp;&emsp;&emsp;&emsp;&emsp;&emsp;<b>9.32e-07</b> 1.15e-06 2.13e-06</p><p>2.38e-05 2.38e-05 <b>2.37e-05</b>&emsp;&emsp;&emsp;&emsp;&emsp;&emsp;&emsp;&emsp;6.36e-06 6.38e-06 <b>6.36e-06</b>&emsp;&emsp;&emsp;&emsp;&emsp;&emsp;&emsp;&emsp;<b>2.10e-05</b> 2.14e-05 2.27e-05</p><p>1.62e-05 <b>1.49e-05</b> 1.50e-05&emsp;&emsp;&emsp;&emsp;&emsp;&emsp;&emsp;&emsp;6.71e-06 <b>4.79e-06</b> 6.45e-06&emsp;&emsp;&emsp;&emsp;&emsp;&emsp;&emsp;&emsp;<b>8.35e-06</b> 1.21e-05 8.45e-06</p><p>1.06e-05 1.13e-05 <b>1.06e-05</b>&emsp;&emsp;&emsp;&emsp;&emsp;&emsp;&emsp;&emsp;1.14e-05 1.20e-05 <b>1.14e-05</b>&emsp;&emsp;&emsp;&emsp;&emsp;&emsp;&emsp;&emsp;4.66e-05 4.66e-05 <b>4.33e-05</b></p><p>9.78e-06 <b>4.06e-06</b> 1.00e-05&emsp;&emsp;&emsp;&emsp;&emsp;&emsp;&emsp;&emsp;1.67e-05 <b>9.26e-06</b> 1.67e-05&emsp;&emsp;&emsp;&emsp;&emsp;&emsp;&emsp;&emsp;4.49e-05 <b>6.53e-06</b> 5.74e-05</p><p>3.48e-06 <b>3.24e-06</b> 3.51e-06&emsp;&emsp;&emsp;&emsp;&emsp;&emsp;&emsp;&emsp;9.16e-07 <b>8.68e-07</b> 9.27e-07&emsp;&emsp;&emsp;&emsp;&emsp;&emsp;&emsp;&emsp;4.61e-05 4.57e-05 <b>4.33e-05</b></p><p><b>1.60e-05</b> 2.26e-05 1.71e-05&emsp;&emsp;&emsp;&emsp;&emsp;&emsp;&emsp;&emsp;1.52e-05 1.74e-05 <b>1.50e-05</b>&emsp;&emsp;&emsp;&emsp;&emsp;&emsp;&emsp;&emsp;4.53e-05 <b>1.22e-05</b> 4.51e-05</p><p>3.52e-06 <b>3.44e-06</b> 3.54e-06&emsp;&emsp;&emsp;&emsp;&emsp;&emsp;&emsp;&emsp;<b>5.73e-06</b> 5.78e-06 5.78e-06&emsp;&emsp;&emsp;&emsp;&emsp;&emsp;&emsp;&emsp;6.72e-06 6.74e-06 <b>6.65e-06</b></p><p><b>1.15e-05</b> 1.17e-05 1.18e-05&emsp;&emsp;&emsp;&emsp;&emsp;&emsp;&emsp;&emsp;<b>1.03e-05</b> 1.19e-05 1.07e-05&emsp;&emsp;&emsp;&emsp;&emsp;&emsp;&emsp;&emsp;1.87e-05 2.01e-05 <b>1.70e-05</b></p><p>5.27e-06 <b>2.70e-07</b> 5.15e-06&emsp;&emsp;&emsp;&emsp;&emsp;&emsp;&emsp;&emsp;4.34e-06 <b>3.55e-06</b> 5.32e-06&emsp;&emsp;&emsp;&emsp;&emsp;&emsp;&emsp;&emsp;2.31e-05 <b>1.63e-05</b> 2.10e-05</p><p><b>1.09e-06</b> 3.08e-06 1.61e-06&emsp;&emsp;&emsp;&emsp;&emsp;&emsp;&emsp;&emsp;<b>1.20e-06</b> 3.88e-06 1.66e-06&emsp;&emsp;&emsp;&emsp;&emsp;&emsp;&emsp;&emsp;7.94e-05 <b>7.75e-05</b> 7.76e-05</p><p>2.41e-06 2.43e-06 <b>2.40e-06</b>&emsp;&emsp;&emsp;&emsp;&emsp;&emsp;&emsp;&emsp;1.15e-05 1.16e-05 <b>1.14e-05</b>&emsp;&emsp;&emsp;&emsp;&emsp;&emsp;&emsp;&emsp;4.10e-05 4.11e-05 <b>4.01e-05</b></p><p>5.41e-06 <b>5.40e-06</b> 5.42e-06&emsp;&emsp;&emsp;&emsp;&emsp;&emsp;&emsp;&emsp;<b>1.47e-05</b> 1.47e-05 1.47e-05&emsp;&emsp;&emsp;&emsp;&emsp;&emsp;&emsp;&emsp;1.15e-05 1.16e-05 <b>1.13e-05</b></p><p>3.97e-05 8.87e-05 <b>2.84e-05</b>&emsp;&emsp;&emsp;&emsp;&emsp;&emsp;&emsp;&emsp;9.19e-06 2.05e-05 <b>6.44e-06</b>&emsp;&emsp;&emsp;&emsp;&emsp;&emsp;&emsp;&emsp;1.91e-05 1.07e-04 <b>7.94e-06</b></p><p><b>2.62e-06</b> 2.65e-06 2.62e-06&emsp;&emsp;&emsp;&emsp;&emsp;&emsp;&emsp;&emsp;<b>2.51e-06</b> 2.60e-06 2.53e-06&emsp;&emsp;&emsp;&emsp;&emsp;&emsp;&emsp;&emsp;4.27e-05 4.28e-05 <b>4.11e-05</b></p><p>8.87e-07 <b>3.67e-07</b> 8.14e-07&emsp;&emsp;&emsp;&emsp;&emsp;&emsp;&emsp;&emsp;2.61e-06 <b>4.01e-07</b> 3.66e-06&emsp;&emsp;&emsp;&emsp;&emsp;&emsp;&emsp;&emsp;6.21e-05 <b>5.86e-05</b> 6.27e-05</p><p>5.02e-06 <b>1.43e-06</b> 5.41e-06&emsp;&emsp;&emsp;&emsp;&emsp;&emsp;&emsp;&emsp;6.37e-06 <b>2.94e-06</b> 6.79e-06&emsp;&emsp;&emsp;&emsp;&emsp;&emsp;&emsp;&emsp;7.29e-06 7.68e-06 <b>5.19e-06</b></p><p>2.27e-04 3.80e-04 <b>2.45e-05</b>&emsp;&emsp;&emsp;&emsp;&emsp;&emsp;&emsp;&emsp;1.76e-04 4.14e-04 <b>1.86e-05</b>&emsp;&emsp;&emsp;&emsp;&emsp;&emsp;&emsp;&emsp;1.13e-04 9.07e-04 <b>3.28e-05</b></p><p><b>2.74e-06</b> 2.74e-06 2.74e-06&emsp;&emsp;&emsp;&emsp;&emsp;&emsp;&emsp;&emsp;2.18e-05 <b>2.16e-05</b> 2.18e-05&emsp;&emsp;&emsp;&emsp;&emsp;&emsp;&emsp;&emsp;3.59e-05 3.61e-05 <b>3.32e-05</b></p><p>8.89e-06 8.89e-06 <b>8.89e-06</b>&emsp;&emsp;&emsp;&emsp;&emsp;&emsp;&emsp;&emsp;1.34e-05 <b>1.34e-05</b> 1.34e-05&emsp;&emsp;&emsp;&emsp;&emsp;&emsp;&emsp;&emsp;<b>2.06e-05</b> 2.06e-05 2.21e-05</p><p><b>1.34e-05</b> 1.36e-05 1.34e-05&emsp;&emsp;&emsp;&emsp;&emsp;&emsp;&emsp;&emsp;<b>5.06e-06</b> 5.15e-06 5.07e-06&emsp;&emsp;&emsp;&emsp;&emsp;&emsp;&emsp;&emsp;3.41e-05 3.40e-05 <b>3.24e-05</b></p><p>6.98e-06 <b>6.68e-06</b> 6.91e-06&emsp;&emsp;&emsp;&emsp;&emsp;&emsp;&emsp;&emsp;6.13e-06 <b>5.84e-06</b> 6.07e-06&emsp;&emsp;&emsp;&emsp;&emsp;&emsp;&emsp;&emsp;6.54e-06 <b>5.41e-06</b> 1.01e-05</p><p>9.60e-06 3.50e-05 <b>5.55e-06</b>&emsp;&emsp;&emsp;&emsp;&emsp;&emsp;&emsp;&emsp;1.90e-06 7.91e-06 <b>1.32e-06</b>&emsp;&emsp;&emsp;&emsp;&emsp;&emsp;&emsp;&emsp;3.59e-05 <b>1.06e-05</b> 4.57e-05</p><p>2.57e-05 <b>2.57e-05</b> 2.57e-05&emsp;&emsp;&emsp;&emsp;&emsp;&emsp;&emsp;&emsp;1.29e-06 <b>1.28e-06</b> 1.29e-06&emsp;&emsp;&emsp;&emsp;&emsp;&emsp;&emsp;&emsp;2.13e-05 2.08e-05 <b>2.02e-05</b></p><p>1.85e-06 <b>1.33e-06</b> 1.59e-06&emsp;&emsp;&emsp;&emsp;&emsp;&emsp;&emsp;&emsp;2.77e-06 <b>1.37e-06</b> 2.55e-06&emsp;&emsp;&emsp;&emsp;&emsp;&emsp;&emsp;&emsp;2.75e-05 <b>2.42e-05</b> 2.93e-05</p><p>1.92e-05 1.96e-05 <b>1.92e-05</b>&emsp;&emsp;&emsp;&emsp;&emsp;&emsp;&emsp;&emsp;1.26e-05 1.28e-05 <b>1.26e-05</b>&emsp;&emsp;&emsp;&emsp;&emsp;&emsp;&emsp;&emsp;<b>1.15e-05</b> 1.17e-05 1.22e-05</p><p>6.91e-06 <b>4.92e-06</b> 6.70e-06&emsp;&emsp;&emsp;&emsp;&emsp;&emsp;&emsp;&emsp;1.53e-05 <b>1.37e-05</b> 1.45e-05&emsp;&emsp;&emsp;&emsp;&emsp;&emsp;&emsp;&emsp;2.15e-05 2.11e-05 <b>2.07e-05</b></p><p><b>2.38e-06</b> 2.46e-06 2.39e-06&emsp;&emsp;&emsp;&emsp;&emsp;&emsp;&emsp;&emsp;1.98e-06 2.12e-06 <b>1.97e-06</b>&emsp;&emsp;&emsp;&emsp;&emsp;&emsp;&emsp;&emsp;<b>5.74e-05</b> 5.81e-05 6.10e-05</p><p><b>6.34e-07</b> 6.84e-07 7.20e-07&emsp;&emsp;&emsp;&emsp;&emsp;&emsp;&emsp;&emsp;1.74e-06 1.86e-06 <b>1.64e-06</b>&emsp;&emsp;&emsp;&emsp;&emsp;&emsp;&emsp;&emsp;<b>7.20e-06</b> 7.85e-06 7.56e-06</p><p><b>4.08e-06</b> 6.70e-06 4.77e-06&emsp;&emsp;&emsp;&emsp;&emsp;&emsp;&emsp;&emsp;8.17e-08 <b>3.13e-08</b> 1.05e-07&emsp;&emsp;&emsp;&emsp;&emsp;&emsp;&emsp;&emsp;<b>3.77e-05</b> 5.00e-05 3.92e-05</p><p><b>9.63e-06</b> 9.67e-06 9.85e-06&emsp;&emsp;&emsp;&emsp;&emsp;&emsp;&emsp;&emsp;4.22e-06 <b>4.20e-06</b> 4.29e-06&emsp;&emsp;&emsp;&emsp;&emsp;&emsp;&emsp;&emsp;4.65e-07 1.04e-06 <b>3.95e-07</b></p><p>7.24e-06 <b>6.64e-06</b> 7.35e-06&emsp;&emsp;&emsp;&emsp;&emsp;&emsp;&emsp;&emsp;6.82e-07 <b>6.47e-07</b> 6.83e-07&emsp;&emsp;&emsp;&emsp;&emsp;&emsp;&emsp;&emsp;6.30e-05 <b>6.16e-05</b> 6.49e-05</p><p><b>1.54e-05</b> 1.54e-05 1.54e-05&emsp;&emsp;&emsp;&emsp;&emsp;&emsp;&emsp;&emsp;1.39e-05 1.39e-05 <b>1.39e-05</b>&emsp;&emsp;&emsp;&emsp;&emsp;&emsp;&emsp;&emsp;5.37e-06 5.18e-06 <b>3.41e-06</b></p><p>5.45e-07 <b>5.19e-07</b> 5.47e-07&emsp;&emsp;&emsp;&emsp;&emsp;&emsp;&emsp;&emsp;5.40e-07 <b>3.92e-07</b> 4.16e-07&emsp;&emsp;&emsp;&emsp;&emsp;&emsp;&emsp;&emsp;6.92e-05 6.94e-05 <b>6.61e-05</b></p><p>1.94e-05 2.01e-05 <b>1.94e-05</b>&emsp;&emsp;&emsp;&emsp;&emsp;&emsp;&emsp;&emsp;1.32e-05 1.37e-05 <b>1.32e-05</b>&emsp;&emsp;&emsp;&emsp;&emsp;&emsp;&emsp;&emsp;<b>1.07e-05</b> 1.11e-05 6.25e-05</p><p><b>4.52e-07</b> 2.23e-06 1.28e-06&emsp;&emsp;&emsp;&emsp;&emsp;&emsp;&emsp;&emsp;<b>1.19e-05</b> 3.66e-05 1.86e-05&emsp;&emsp;&emsp;&emsp;&emsp;&emsp;&emsp;&emsp;6.11e-05 <b>4.74e-05</b> 4.92e-05</p><p>6.17e-06 <b>5.51e-06</b> 6.16e-06&emsp;&emsp;&emsp;&emsp;&emsp;&emsp;&emsp;&emsp;7.42e-06 <b>6.66e-06</b> 7.46e-06&emsp;&emsp;&emsp;&emsp;&emsp;&emsp;&emsp;&emsp;5.41e-05 5.31e-05 <b>5.26e-05</b></p><p>1.24e-06 2.52e-07 <b>1.79e-07</b>&emsp;&emsp;&emsp;&emsp;&emsp;&emsp;&emsp;&emsp;<b>1.20e-05</b> 1.34e-05 1.71e-05&emsp;&emsp;&emsp;&emsp;&emsp;&emsp;&emsp;&emsp;6.42e-05 4.91e-05 <b>4.50e-05</b></p><p>1.78e-05 <b>1.77e-05</b> 1.78e-05&emsp;&emsp;&emsp;&emsp;&emsp;&emsp;&emsp;&emsp;1.60e-06 <b>1.60e-06</b> 1.60e-06&emsp;&emsp;&emsp;&emsp;&emsp;&emsp;&emsp;&emsp;1.39e-06 <b>8.96e-07</b> 3.09e-06</p><p>1.46e-06 2.42e-06 <b>1.28e-06</b>&emsp;&emsp;&emsp;&emsp;&emsp;&emsp;&emsp;&emsp;<b>3.20e-06</b> 1.02e-05 5.27e-06&emsp;&emsp;&emsp;&emsp;&emsp;&emsp;&emsp;&emsp;2.25e-05 2.81e-05 <b>2.12e-05</b></p><p>9.91e-06 <b>6.91e-06</b> 1.39e-05&emsp;&emsp;&emsp;&emsp;&emsp;&emsp;&emsp;&emsp;<b>2.65e-06</b> 2.95e-06 3.41e-06&emsp;&emsp;&emsp;&emsp;&emsp;&emsp;&emsp;&emsp;3.23e-05 <b>1.20e-05</b> 2.72e-05</p><p>1.51e-05 1.71e-05 <b>1.09e-05</b>&emsp;&emsp;&emsp;&emsp;&emsp;&emsp;&emsp;&emsp;7.07e-06 7.50e-06 <b>5.20e-06</b>&emsp;&emsp;&emsp;&emsp;&emsp;&emsp;&emsp;&emsp;7.84e-05 9.82e-05 <b>7.23e-05</b></p><p>6.58e-06 <b>6.56e-06</b> 6.58e-06&emsp;&emsp;&emsp;&emsp;&emsp;&emsp;&emsp;&emsp;5.98e-07 <b>5.97e-07</b> 6.01e-07&emsp;&emsp;&emsp;&emsp;&emsp;&emsp;&emsp;&emsp;7.30e-06 7.30e-06 <b>6.47e-06</b></p><p><b>2.31e-05</b> 2.31e-05 2.31e-05&emsp;&emsp;&emsp;&emsp;&emsp;&emsp;&emsp;&emsp;<b>1.57e-05</b> 1.57e-05 1.57e-05&emsp;&emsp;&emsp;&emsp;&emsp;&emsp;&emsp;&emsp;1.97e-05 1.99e-05 <b>1.87e-05</b></p><p><b>7.76e-06</b> 2.82e-05 8.64e-06&emsp;&emsp;&emsp;&emsp;&emsp;&emsp;&emsp;&emsp;<b>7.17e-06</b> 2.12e-05 7.35e-06&emsp;&emsp;&emsp;&emsp;&emsp;&emsp;&emsp;&emsp;3.39e-05 <b>2.73e-05</b> 3.73e-05</p><p>9.65e-06 <b>6.57e-06</b> 9.63e-06&emsp;&emsp;&emsp;&emsp;&emsp;&emsp;&emsp;&emsp;1.17e-05 <b>7.68e-06</b> 1.18e-05&emsp;&emsp;&emsp;&emsp;&emsp;&emsp;&emsp;&emsp;1.37e-05 <b>1.05e-05</b> 1.14e-03</p><p><b>2.63e-07</b> 5.01e-07 3.07e-07&emsp;&emsp;&emsp;&emsp;&emsp;&emsp;&emsp;&emsp;7.37e-06 1.26e-05 <b>7.07e-06</b>&emsp;&emsp;&emsp;&emsp;&emsp;&emsp;&emsp;&emsp;7.39e-05 <b>7.02e-05</b> 7.05e-05</p><p>5.87e-06 <b>5.85e-06</b> 5.86e-06&emsp;&emsp;&emsp;&emsp;&emsp;&emsp;&emsp;&emsp;8.18e-06 <b>8.15e-06</b> 8.17e-06&emsp;&emsp;&emsp;&emsp;&emsp;&emsp;&emsp;&emsp;8.43e-06 <b>8.28e-06</b> 5.23e-05</p><p>3.59e-05 2.29e-05 <b>1.39e-05</b>&emsp;&emsp;&emsp;&emsp;&emsp;&emsp;&emsp;&emsp;3.65e-05 2.33e-05 <b>1.46e-05</b>&emsp;&emsp;&emsp;&emsp;&emsp;&emsp;&emsp;&emsp;6.58e-05 <b>5.89e-05</b> 6.32e-05</p><p>1.24e-05 3.37e-05 <b>1.10e-05</b>&emsp;&emsp;&emsp;&emsp;&emsp;&emsp;&emsp;&emsp;1.39e-06 3.14e-06 <b>1.15e-06</b>&emsp;&emsp;&emsp;&emsp;&emsp;&emsp;&emsp;&emsp;4.33e-05 <b>2.76e-05</b> 3.66e-05</p><p>5.30e-06 <b>5.30e-06</b> 5.30e-06&emsp;&emsp;&emsp;&emsp;&emsp;&emsp;&emsp;&emsp;5.42e-06 <b>5.42e-06</b> 5.42e-06&emsp;&emsp;&emsp;&emsp;&emsp;&emsp;&emsp;&emsp;<b>2.76e-06</b> 2.78e-06 3.01e-06</p><p><b>2.25e-06</b> 2.30e-06 2.32e-06&emsp;&emsp;&emsp;&emsp;&emsp;&emsp;&emsp;&emsp;<b>1.54e-05</b> 1.58e-05 1.57e-05&emsp;&emsp;&emsp;&emsp;&emsp;&emsp;&emsp;&emsp;1.04e-05 <b>8.37e-06</b> 1.04e-05</p><p><b>4.90e-05</b> 1.34e-04 4.95e-05&emsp;&emsp;&emsp;&emsp;&emsp;&emsp;&emsp;&emsp;<b>2.78e-05</b> 9.09e-05 2.89e-05&emsp;&emsp;&emsp;&emsp;&emsp;&emsp;&emsp;&emsp;4.09e-05 2.95e-04 <b>1.29e-05</b></p><p></p><p>0.33&emsp;0.37&emsp;0.30&emsp;&emsp;&emsp;&emsp;&emsp;&emsp;&emsp;&emsp;&emsp;&emsp;&emsp;&emsp;&emsp;&emsp;0.29&emsp;0.37&emsp;0.34&emsp;&emsp;&emsp;&emsp;&emsp;&emsp;&emsp;&emsp;&emsp;&emsp;&emsp;&emsp;&emsp;&emsp;0.28&emsp;0.30&emsp;0.42</p>"
      ],
      "text/plain": [
       "<IPython.core.display.HTML object>"
      ]
     },
     "execution_count": 18,
     "metadata": {},
     "output_type": "execute_result"
    }
   ],
   "source": [
    "%run interp_studies.py\n",
    "header = 'Quad&emsp;&emsp;&emsp;Lin&emsp;&emsp;&emsp;RBF'\n",
    "spaces = '&emsp;&emsp;&emsp;&emsp;&emsp;&emsp;&emsp;&emsp;&emsp;&emsp;'\n",
    "out='<p>'+header+spaces+header+spaces+header+'</p>'\n",
    "buffer = 100\n",
    "counter = 0\n",
    "print '\\tBx\\t\\t\\tBy\\t\\t\\tBz'\n",
    "samples = 100\n",
    "wins_bx = [0,0,0]\n",
    "wins_by = [0,0,0]\n",
    "wins_bz = [0,0,0]\n",
    "for i in xrange(samples):\n",
    "#for i in xrange(13,14):\n",
    "    my_rand = df_rand_subset.sample(1,random_state=i+10)\n",
    "    df_subset = df.query('{0}<=X<={1} and {2}<=Y<={3} and {4}<=Z<={5}'.format(\n",
    "        my_rand.X.values-buffer, my_rand.X.values+buffer, my_rand.Y.values-buffer, my_rand.Y.values+buffer, my_rand.Z.values-buffer, my_rand.Z.values+buffer))\n",
    "    x = df_subset.X\n",
    "    y = df_subset.Y\n",
    "    z = df_subset.Z\n",
    "    r = df_subset.R\n",
    "    phi = df_subset.Phi\n",
    "    bz = df_subset.Bz\n",
    "    bx = df_subset.Bx\n",
    "    by = df_subset.By\n",
    "    b_out_true = []\n",
    "    b_out_true.append(my_rand.Bx.values)\n",
    "    b_out_true.append(my_rand.By.values)\n",
    "    b_out_true.append(my_rand.Bz.values)\n",
    "    \n",
    "    b_out_rbf = []\n",
    "    rbf_bx = Rbf(x, y, z, bx, function='linear', )#epsilon=9)\n",
    "    rbf_by = Rbf(x, y, z, by, function='linear', )#epsilon=9)\n",
    "    rbf_bz = Rbf(x, y, z, bz, function='linear', )#epsilon=9)\n",
    "    b_out_rbf.append(rbf_bx(my_rand.X, my_rand.Y, my_rand.Z))\n",
    "    b_out_rbf.append(rbf_by(my_rand.X, my_rand.Y, my_rand.Z))\n",
    "    b_out_rbf.append(rbf_bz(my_rand.X, my_rand.Y, my_rand.Z))\n",
    "    \n",
    "    res_rbf = []\n",
    "    res_rbf.append(abs(b_out_rbf[0]-b_out_true[0])[0])\n",
    "    res_rbf.append(abs(b_out_rbf[1]-b_out_true[1])[0])\n",
    "    res_rbf.append(abs(b_out_rbf[2]-b_out_true[2])[0])\n",
    "    \n",
    "    _, b_out_lin = interp_phi(df_subset, my_rand.X.values, my_rand.Y.values, my_rand.Z.values, plot=False)\n",
    "    res_lin = []\n",
    "    res_lin.append(abs(b_out_lin[0]-b_out_true[0])[0])\n",
    "    res_lin.append(abs(b_out_lin[1]-b_out_true[1])[0])\n",
    "    res_lin.append(abs(b_out_lin[2]-b_out_true[2])[0])\n",
    "    \n",
    "    _, b_out_quad = interp_phi_quad(df_subset, my_rand.X.values, my_rand.Y.values, my_rand.Z.values, plot=False)\n",
    "    res_quad = []\n",
    "    res_quad.append(abs(b_out_quad[0]-b_out_true[0])[0])\n",
    "    res_quad.append(abs(b_out_quad[1]-b_out_true[1])[0])\n",
    "    res_quad.append(abs(b_out_quad[2]-b_out_true[2])[0])\n",
    "    \n",
    "    \n",
    "    #if (res_x>1e-4) or (res_y>1e-4) or (res_z>1e-4):\n",
    "    if (res_rbf[0]>1e-4 or res_rbf[1]>1e-4 or res_rbf[2]>1e-4):\n",
    "    #    print 'bad interp:'\n",
    "    #    print '\\ttrue:'\n",
    "    #    print '\\t\\t{0:.4e} {1:.4e} {2:.4e}'.format(my_rand.Bx.values[0], my_rand.By.values[0], my_rand.Bz.values[0])\n",
    "    #    print '\\tLaceyQuad:'\n",
    "    #    print '\\t\\t{0:.4e} {1:.4e} {2:.4e}'.format(b_out[0][0], b_out[1][0], b_out[2][0])\n",
    "    #    print '\\t\\t{0:.4e} {1:.4e} {2:.4e}'.format(res_lx[0], res_ly[0], res_lz[0])\n",
    "    #    print '\\tLacey:'\n",
    "    #    print '\\t\\t{0:.4e} {1:.4e} {2:.4e}'.format(b_outl[0][0], b_outl[1][0], b_outl[2][0])\n",
    "    #    print '\\t\\t{0:.4e} {1:.4e} {2:.4e}'.format(res_x[0], res_y[0], res_z[0])\n",
    "    #    print\n",
    "\n",
    "        counter +=1\n",
    "\n",
    "    if min(res_quad[0], res_lin[0], res_rbf[0]) == res_quad[0]:\n",
    "        px = '<b>{0:.2e}</b>'.format(res_quad[0]) + ' {0:.2e}'.format(res_lin[0]) + ' {0:.2e}'.format(res_rbf[0])\n",
    "        wins_bx[0]+=1\n",
    "    elif min(res_quad[0], res_lin[0], res_rbf[0]) == res_lin[0]:\n",
    "        px = '{0:.2e}'.format(res_quad[0]) + ' <b>{0:.2e}</b>'.format(res_lin[0]) + ' {0:.2e}'.format(res_rbf[0])\n",
    "        wins_bx[1]+=1\n",
    "    else:\n",
    "        px = '{0:.2e}'.format(res_quad[0]) + ' {0:.2e}'.format(res_lin[0]) + ' <b>{0:.2e}</b>'.format(res_rbf[0])\n",
    "        wins_bx[2]+=1\n",
    "        \n",
    "    if min(res_quad[1], res_lin[1], res_rbf[1]) == res_quad[1]:\n",
    "        py = '<b>{0:.2e}</b>'.format(res_quad[1]) + ' {0:.2e}'.format(res_lin[1]) + ' {0:.2e}'.format(res_rbf[1])\n",
    "        wins_by[0]+=1\n",
    "    elif min(res_quad[1], res_lin[1], res_rbf[1]) == res_lin[1]:\n",
    "        py = '{0:.2e}'.format(res_quad[1]) + ' <b>{0:.2e}</b>'.format(res_lin[1]) + ' {0:.2e}'.format(res_rbf[1])\n",
    "        wins_by[1]+=1\n",
    "    else:\n",
    "        py = '{0:.2e}'.format(res_quad[1]) + ' {0:.2e}'.format(res_lin[1]) + ' <b>{0:.2e}</b>'.format(res_rbf[1])\n",
    "        wins_by[2]+=1\n",
    "        \n",
    "    if min(res_quad[2], res_lin[2], res_rbf[2]) == res_quad[2]:\n",
    "        pz = '<b>{0:.2e}</b>'.format(res_quad[2]) + ' {0:.2e}'.format(res_lin[2]) + ' {0:.2e}'.format(res_rbf[2])\n",
    "        wins_bz[0]+=1\n",
    "    elif min(res_quad[2], res_lin[2], res_rbf[2]) == res_lin[2]:\n",
    "        pz = '{0:.2e}'.format(res_quad[2]) + ' <b>{0:.2e}</b>'.format(res_lin[2]) + ' {0:.2e}'.format(res_rbf[2])\n",
    "        wins_bz[1]+=1\n",
    "    else:\n",
    "        pz = '{0:.2e}'.format(res_quad[2]) + ' {0:.2e}'.format(res_lin[2]) + ' <b>{0:.2e}</b>'.format(res_rbf[2])\n",
    "        wins_bz[2]+=1\n",
    "        \n",
    "    out += '<p>'+px+'&emsp;&emsp;&emsp;&emsp;&emsp;&emsp;&emsp;&emsp;'+py+'&emsp;&emsp;&emsp;&emsp;&emsp;&emsp;&emsp;&emsp;'+pz+'</p>'\n",
    "wins_bx = [float(i)/samples for i in wins_bx]\n",
    "wins_by = [float(i)/samples for i in wins_by]\n",
    "wins_bz = [float(i)/samples for i in wins_bz]\n",
    "out += '<p></p>'\n",
    "out += '<p>{0:.2f}&emsp;{1:.2f}&emsp;{2:.2f}'.format(*wins_bx)\n",
    "out += spaces+'&emsp;&emsp;&emsp;&emsp;'\n",
    "out += '{0:.2f}&emsp;{1:.2f}&emsp;{2:.2f}'.format(*wins_by)\n",
    "out += spaces+'&emsp;&emsp;&emsp;&emsp;'\n",
    "out += '{0:.2f}&emsp;{1:.2f}&emsp;{2:.2f}</p>'.format(*wins_bz)\n",
    "\n",
    "print 'bads:', counter\n",
    "HTML(out)"
   ]
  },
  {
   "cell_type": "code",
   "execution_count": null,
   "metadata": {
    "collapsed": true
   },
   "outputs": [],
   "source": []
  },
  {
   "cell_type": "code",
   "execution_count": null,
   "metadata": {
    "collapsed": false
   },
   "outputs": [],
   "source": [
    "print np.asarray(res_lin)-np.asarray(res_quin)"
   ]
  },
  {
   "cell_type": "code",
   "execution_count": null,
   "metadata": {
    "collapsed": false
   },
   "outputs": [],
   "source": [
    "rbf_br = Rbf(r, phi, z, br,function='gaussian', norm=cylindrical_norm)\n",
    "i_br = rbf_br(df_rand_subset.R, df_rand_subset.Phi, df_rand_subset.Z)\n",
    "t_br = df_rand_subset.Br\n",
    "res =abs(i_br-t_br)\n",
    "max(res)"
   ]
  },
  {
   "cell_type": "code",
   "execution_count": null,
   "metadata": {
    "collapsed": false
   },
   "outputs": [],
   "source": [
    "rbf_bphi = Rbf(r, phi, z, bphi,function='quintic', norm=cylindrical_norm)\n",
    "i_bphi = rbf_bphi(df_rand_subset.R, df_rand_subset.Phi, df_rand_subset.Z)\n",
    "t_bphi = df_rand_subset.Bphi\n",
    "res =abs(i_bphi-t_bphi)\n",
    "max(res)"
   ]
  },
  {
   "cell_type": "code",
   "execution_count": 45,
   "metadata": {
    "collapsed": false
   },
   "outputs": [
    {
     "data": {
      "text/html": [
       "<b>1.18e-05</b> 1.91e-05"
      ],
      "text/plain": [
       "<IPython.core.display.HTML object>"
      ]
     },
     "execution_count": 45,
     "metadata": {},
     "output_type": "execute_result"
    }
   ],
   "source": [
    "px"
   ]
  },
  {
   "cell_type": "code",
   "execution_count": 17,
   "metadata": {
    "collapsed": false,
    "scrolled": false
   },
   "outputs": [
    {
     "name": "stdout",
     "output_type": "stream",
     "text": [
      "0.0 0.0 0.0\n"
     ]
    }
   ],
   "source": [
    "%run interp_studies.py\n",
    "#df_trimmed = interp_phi(df,25,25,9721)\n",
    "#df_trimmed = interp_phi(df, -59.6429, 46.756758, 10297.7840, df_alt=df_rand_subset)\n",
    "# df_trimmed, b_out = interp_phi(df, 50, 76, 10121)\n",
    "df_trimmed, bs = interp_phi_quad(df,25,25,9721, False)"
   ]
  },
  {
   "cell_type": "code",
   "execution_count": 18,
   "metadata": {
    "collapsed": false
   },
   "outputs": [
    {
     "name": "stdout",
     "output_type": "stream",
     "text": [
      "-0.0004044515 -0.000404458\n"
     ]
    }
   ],
   "source": [
    "print bs[0], df_trimmed.Bx[13]"
   ]
  },
  {
   "cell_type": "code",
   "execution_count": 19,
   "metadata": {
    "collapsed": false
   },
   "outputs": [
    {
     "data": {
      "text/plain": [
       "1.6070889931830089e-05"
      ]
     },
     "execution_count": 19,
     "metadata": {},
     "output_type": "execute_result"
    }
   ],
   "source": [
    "(df_trimmed.Bx[13]-bs[0])/df_trimmed.Bx[13]"
   ]
  },
  {
   "cell_type": "code",
   "execution_count": null,
   "metadata": {
    "collapsed": true
   },
   "outputs": [],
   "source": []
  }
 ],
 "metadata": {
  "kernelspec": {
   "display_name": "Python 2",
   "language": "python",
   "name": "python2"
  },
  "language_info": {
   "codemirror_mode": {
    "name": "ipython",
    "version": 2
   },
   "file_extension": ".py",
   "mimetype": "text/x-python",
   "name": "python",
   "nbconvert_exporter": "python",
   "pygments_lexer": "ipython2",
   "version": "2.7.12"
  }
 },
 "nbformat": 4,
 "nbformat_minor": 0
}
