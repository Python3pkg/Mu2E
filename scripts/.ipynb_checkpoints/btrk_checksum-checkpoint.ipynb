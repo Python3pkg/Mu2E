{
 "cells": [
  {
   "cell_type": "code",
   "execution_count": 6,
   "metadata": {
    "collapsed": true
   },
   "outputs": [],
   "source": [
    "from mu2e import mu2e_ext_path\n",
    "from mu2e.dataframeprod import g4root_to_df"
   ]
  },
  {
   "cell_type": "code",
   "execution_count": 7,
   "metadata": {
    "collapsed": false
   },
   "outputs": [],
   "source": [
    "_, df_nttvd_stbl, _ = g4root_to_df(mu2e_ext_path+'datafiles/BTrk/validation_vds_stable',trees=['tvd'])\n",
    "_, df_nttvd_test, _ = g4root_to_df(mu2e_ext_path+'datafiles/BTrk/validation_vds',trees=['tvd'])"
   ]
  },
  {
   "cell_type": "code",
   "execution_count": 15,
   "metadata": {
    "collapsed": false
   },
   "outputs": [
    {
     "data": {
      "text/plain": [
       "evt            True\n",
       "trk            True\n",
       "sid            True\n",
       "pdg            True\n",
       "time           True\n",
       "x              True\n",
       "y              True\n",
       "z              True\n",
       "px             True\n",
       "py             True\n",
       "pz             True\n",
       "gtime          True\n",
       "code           True\n",
       "g4bl_weight    True\n",
       "g4bl_time      True\n",
       "run            True\n",
       "ke             True\n",
       "subrun         True\n",
       "dtype: bool"
      ]
     },
     "execution_count": 15,
     "metadata": {},
     "output_type": "execute_result"
    }
   ],
   "source": [
    "(df_nttvd_stbl == df_nttvd_test).all()"
   ]
  },
  {
   "cell_type": "code",
   "execution_count": null,
   "metadata": {
    "collapsed": true
   },
   "outputs": [],
   "source": []
  }
 ],
 "metadata": {
  "kernelspec": {
   "display_name": "Python 2",
   "language": "python",
   "name": "python2"
  },
  "language_info": {
   "codemirror_mode": {
    "name": "ipython",
    "version": 2
   },
   "file_extension": ".py",
   "mimetype": "text/x-python",
   "name": "python",
   "nbconvert_exporter": "python",
   "pygments_lexer": "ipython2",
   "version": "2.7.13"
  }
 },
 "nbformat": 4,
 "nbformat_minor": 0
}
