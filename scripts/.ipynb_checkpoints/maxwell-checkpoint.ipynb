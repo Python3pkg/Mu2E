{
 "cells": [
  {
   "cell_type": "code",
   "execution_count": 2,
   "metadata": {
    "collapsed": true
   },
   "outputs": [],
   "source": [
    "from mu2e.datafileprod import DataFileMaker\n",
    "%matplotlib inline"
   ]
  },
  {
   "cell_type": "code",
   "execution_count": 3,
   "metadata": {
    "collapsed": true
   },
   "outputs": [],
   "source": [
    "df_GA05= DataFileMaker('../datafiles/FieldMapsGA05/DSMap',use_pickle = True).data_frame\n",
    "df_Mau10 = DataFileMaker('../datafiles/Mau10/Standard_Maps/Mu2e_DSMap',use_pickle = True).data_frame"
   ]
  },
  {
   "cell_type": "code",
   "execution_count": 5,
   "metadata": {
    "collapsed": false
   },
   "outputs": [],
   "source": [
    "df_Mau10_selection = df_Mau10.query('5000<Z<13000 and -800<X<800 and -800<Y<800')\n",
    "df_GA05_selection = df_GA05.query('5000<Z<13000 and -800<X<800 and -800<Y<800')"
   ]
  },
  {
   "cell_type": "markdown",
   "metadata": {
    "collapsed": true
   },
   "source": [
    "For our first pass, we are going to calculate the divergence of the magnetic field.  We are going to do so by using using the Divergence Theorem,\n",
    "$$\\iiint_V(\\nabla \\cdot F)\\ dV = \\bigcirc \\!\\!\\!\\!\\!\\!\\!\\!\\iint_S (F\\cdot \\mathbf{n})\\ dS,$$\n",
    "where we calculate the surface integral around some volume of the normal components of the magnetic field.  In our case, it makes logical sense to calculate the surface integral over a cubic surface.  Using the simulation grid, in which Bx,By,Bz triplets are given in 25mm spacings, we will create 3x3x3 cubes.  The central node on each face will represent the field vector for that face, and thus the total flux is the sum of all 6 faces (properly accounting for the direction of the normal).\n",
    "\n",
    "We can accomplish this by creating 3D numpy arrays, and using vectorization in an intelligent manner.  We will label each cube by its central node."
   ]
  },
  {
   "cell_type": "code",
   "execution_count": 66,
   "metadata": {
    "collapsed": false,
    "scrolled": true
   },
   "outputs": [
    {
     "name": "stdout",
     "output_type": "stream",
     "text": [
      "736.054925287\n"
     ]
    },
    {
     "name": "stderr",
     "output_type": "stream",
     "text": [
      "/usr/local/lib/python2.7/site-packages/ipykernel/__main__.py:1: UserWarning: Boolean Series key will be reindexed to match DataFrame index.\n",
      "  if __name__ == '__main__':\n",
      "/usr/local/lib/python2.7/site-packages/ipykernel/__main__.py:2: UserWarning: Boolean Series key will be reindexed to match DataFrame index.\n",
      "  from ipykernel import kernelapp as app\n"
     ]
    }
   ],
   "source": [
    "bz_total = df_Mau10_rect[df_Mau10_rect.Z==side1_val][df_Mau10_rect.X!=side3_val][df_Mau10_rect.X!=side4_val][df_Mau10_rect.Y!=side5_val][df_Mau10_rect.Y!=side6_val].Bz.sum()\n",
    "bz_total -= df_Mau10_rect[df_Mau10_rect.Z==side2_val][df_Mau10_rect.X!=side3_val][df_Mau10_rect.X!=side4_val][df_Mau10_rect.Y!=side5_val][df_Mau10_rect.Y!=side6_val].Bz.sum()\n",
    "print bz_total"
   ]
  },
  {
   "cell_type": "code",
   "execution_count": 67,
   "metadata": {
    "collapsed": false
   },
   "outputs": [
    {
     "name": "stdout",
     "output_type": "stream",
     "text": [
      "bz 741.468487978 752.29990774\n",
      "bx -381.494176275 -389.860582293\n",
      "by -382.811914576 -391.126514392\n",
      "-22.837602873\n",
      "-28.687188945\n"
     ]
    }
   ],
   "source": [
    "bz_total_m = df_Mau10_rect[df_Mau10_rect.Z==side1_val].Bz.sum()\n",
    "bz_total_m -= df_Mau10_rect[df_Mau10_rect.Z==side2_val].Bz.sum()\n",
    "bz_total_g = df_GA05_rect[df_GA05_rect.Z==side1_val].Bz.sum()\n",
    "bz_total_g -= df_GA05_rect[df_GA05_rect.Z==side2_val].Bz.sum()\n",
    "print 'bz', bz_total_m, bz_total_g\n",
    "\n",
    "bx_total_m = df_Mau10_rect[df_Mau10_rect.X==side3_val].Bx.sum()\n",
    "bx_total_m -= df_Mau10_rect[df_Mau10_rect.X==side4_val].Bx.sum()\n",
    "bx_total_g = df_GA05_rect[df_GA05_rect.X==side3_val].Bx.sum()\n",
    "bx_total_g -= df_GA05_rect[df_GA05_rect.X==side4_val].Bx.sum()\n",
    "print 'bx', bx_total_m, bx_total_g\n",
    "\n",
    "by_total_m = df_Mau10_rect[df_Mau10_rect.Y==side5_val].By.sum()\n",
    "by_total_m -= df_Mau10_rect[df_Mau10_rect.Y==side6_val].By.sum()\n",
    "by_total_g = df_GA05_rect[df_GA05_rect.Y==side5_val].By.sum()\n",
    "by_total_g -= df_GA05_rect[df_GA05_rect.Y==side6_val].By.sum()\n",
    "print 'by', by_total_m, by_total_g\n",
    "\n",
    "print bz_total_m+bx_total_m+by_total_m\n",
    "print bz_total_g+bx_total_g+by_total_g"
   ]
  },
  {
   "cell_type": "code",
   "execution_count": 27,
   "metadata": {
    "collapsed": false
   },
   "outputs": [
    {
     "name": "stdout",
     "output_type": "stream",
     "text": [
      "0.067528624 -0.032836137 -0.033409955\n"
     ]
    }
   ],
   "source": [
    "print bz_total, bx_total, by_total"
   ]
  },
  {
   "cell_type": "code",
   "execution_count": 50,
   "metadata": {
    "collapsed": false
   },
   "outputs": [
    {
     "data": {
      "text/plain": [
       "-1.0342876729999917"
      ]
     },
     "execution_count": 50,
     "metadata": {},
     "output_type": "execute_result"
    }
   ],
   "source": [
    "bz_total+bx_total+by_total"
   ]
  },
  {
   "cell_type": "code",
   "execution_count": 52,
   "metadata": {
    "collapsed": false
   },
   "outputs": [
    {
     "name": "stdout",
     "output_type": "stream",
     "text": [
      "0.042988981\n",
      "0.04394439\n"
     ]
    }
   ],
   "source": [
    "print bz_total_m+bx_total_m+by_total_m\n",
    "print bz_total_g+bx_total_g+by_total_g"
   ]
  },
  {
   "cell_type": "code",
   "execution_count": null,
   "metadata": {
    "collapsed": true
   },
   "outputs": [],
   "source": []
  }
 ],
 "metadata": {
  "kernelspec": {
   "display_name": "Python 2",
   "language": "python",
   "name": "python2"
  },
  "language_info": {
   "codemirror_mode": {
    "name": "ipython",
    "version": 2
   },
   "file_extension": ".py",
   "mimetype": "text/x-python",
   "name": "python",
   "nbconvert_exporter": "python",
   "pygments_lexer": "ipython2",
   "version": "2.7.11"
  }
 },
 "nbformat": 4,
 "nbformat_minor": 0
}
