{
 "cells": [
  {
   "cell_type": "markdown",
   "metadata": {},
   "source": [
    "# Validating Simulation Grids via Maxwell's Equations"
   ]
  },
  {
   "cell_type": "code",
   "execution_count": 59,
   "metadata": {
    "collapsed": true
   },
   "outputs": [],
   "source": [
    "from mu2e.datafileprod import DataFileMaker\n",
    "import pandas as pd\n",
    "import matplotlib.pyplot as plt\n",
    "%matplotlib inline\n",
    "plt.rcParams['figure.figsize'] = (12,8)"
   ]
  },
  {
   "cell_type": "code",
   "execution_count": 2,
   "metadata": {
    "collapsed": true
   },
   "outputs": [],
   "source": [
    "df_GA05= DataFileMaker('../datafiles/FieldMapsGA05/DSMap',use_pickle = True).data_frame\n",
    "df_Mau10 = DataFileMaker('../datafiles/Mau10/Standard_Maps/Mu2e_DSMap',use_pickle = True).data_frame"
   ]
  },
  {
   "cell_type": "code",
   "execution_count": 16,
   "metadata": {
    "collapsed": false
   },
   "outputs": [],
   "source": [
    "df_Mau10_selection = df_Mau10.query('5000<Z<13000 and -800<=X<=800 and -800<=Y<=800')[['X','Y','Z','Bx','By','Bz']]\n",
    "df_GA05_selection = df_GA05.query('5000<Z<13000 and -800<=X<=800 and -800<=Y<=800')[['X','Y','Z','Bx','By','Bz']]\n",
    "df_combo = pd.merge(df_Mau10_selection,df_GA05_selection,on=['X','Y','Z'],suffixes=('m','g'))\n",
    "df_combo.sort_values(['X','Y','Z'],inplace=True)"
   ]
  },
  {
   "cell_type": "markdown",
   "metadata": {
    "collapsed": true
   },
   "source": [
    "For our first pass, we are going to calculate the divergence of the magnetic field.  We are going to do so by using using the Divergence Theorem,\n",
    "$$\\iiint_V(\\nabla \\cdot F)\\ dV = \\bigcirc \\!\\!\\!\\!\\!\\!\\!\\!\\iint_S (F\\cdot \\mathbf{n})\\ dS,$$\n",
    "where we calculate the surface integral around some volume of the normal components of the magnetic field.  In our case, it makes logical sense to calculate the surface integral over a cubic surface.  Using the simulation grid, in which Bx,By,Bz triplets are given in 25mm spacings, we will create 3x3x3 cubes.  The central node on each face will represent the field vector for that face, and thus the total flux is the sum of all 6 faces (properly accounting for the direction of the normal).\n",
    "\n",
    "We can accomplish this by creating 3D numpy arrays, and using vectorization in an intelligent manner.  We will label each cube by its central node.  We can then compare the total flux for each cube in the two simulations (Mau10 and GA05) that we are considering.  In principle, the flux should be 0 for all cubes; there are no magnetic monopoles (as far as we know).  In practice, the total flux will be non-zero, due to numeric errors."
   ]
  },
  {
   "cell_type": "code",
   "execution_count": 21,
   "metadata": {
    "collapsed": false,
    "scrolled": true
   },
   "outputs": [],
   "source": [
    "xs = df_combo.X.unique()\n",
    "ys = df_combo.Y.unique()\n",
    "zs = df_combo.Z.unique()\n",
    "\n",
    "bxs_Mau10 = df_combo.Bxm.reshape(len(xs),len(ys),len(zs))\n",
    "bys_Mau10 = df_combo.Bym.reshape(len(xs),len(ys),len(zs))\n",
    "bzs_Mau10 = df_combo.Bzm.reshape(len(xs),len(ys),len(zs))\n",
    "\n",
    "bxs_GA05 = df_combo.Bxg.reshape(len(xs),len(ys),len(zs))\n",
    "bys_GA05 = df_combo.Byg.reshape(len(xs),len(ys),len(zs))\n",
    "bzs_GA05 = df_combo.Bzg.reshape(len(xs),len(ys),len(zs))"
   ]
  },
  {
   "cell_type": "code",
   "execution_count": 26,
   "metadata": {
    "collapsed": false
   },
   "outputs": [],
   "source": [
    "div_Mau10 = bxs_Mau10[:-2,1:-1,1:-1] - bxs_Mau10[2:,1:-1,1:-1]\\\n",
    "+ bys_Mau10[1:-1,:-2,1:-1] - bys_Mau10[1:-1,2:,1:-1]\\\n",
    "+ bzs_Mau10[1:-1,1:-1,:-2] - bzs_Mau10[1:-1,1:-1,2:]\n",
    "\n",
    "div_GA05 = bxs_GA05[:-2,1:-1,1:-1] - bxs_GA05[2:,1:-1,1:-1]\\\n",
    "+ bys_GA05[1:-1,:-2,1:-1] - bys_GA05[1:-1,2:,1:-1]\\\n",
    "+ bzs_GA05[1:-1,1:-1,:-2] - bzs_GA05[1:-1,1:-1,2:]"
   ]
  },
  {
   "cell_type": "code",
   "execution_count": 27,
   "metadata": {
    "collapsed": false
   },
   "outputs": [],
   "source": [
    "cube_centers = []\n",
    "for x in xs[1:-1]:\n",
    "    for y in ys[1:-1]:\n",
    "        for z in zs[1:-1]:\n",
    "            cube_centers.append('x{0}_y{1}_z{2}'.format(x,y,z))"
   ]
  },
  {
   "cell_type": "code",
   "execution_count": 30,
   "metadata": {
    "collapsed": false
   },
   "outputs": [
    {
     "data": {
      "text/html": [
       "<div>\n",
       "<table border=\"1\" class=\"dataframe\">\n",
       "  <thead>\n",
       "    <tr style=\"text-align: right;\">\n",
       "      <th></th>\n",
       "      <th>div_GA05</th>\n",
       "      <th>div_Mau10</th>\n",
       "    </tr>\n",
       "  </thead>\n",
       "  <tbody>\n",
       "    <tr>\n",
       "      <th>x-775.0_y-775.0_z5046.0</th>\n",
       "      <td>-0.015313</td>\n",
       "      <td>0.011888</td>\n",
       "    </tr>\n",
       "    <tr>\n",
       "      <th>x-775.0_y-775.0_z5071.0</th>\n",
       "      <td>0.175162</td>\n",
       "      <td>0.125476</td>\n",
       "    </tr>\n",
       "    <tr>\n",
       "      <th>x-775.0_y-775.0_z5096.0</th>\n",
       "      <td>-0.003900</td>\n",
       "      <td>0.022776</td>\n",
       "    </tr>\n",
       "    <tr>\n",
       "      <th>x-775.0_y-775.0_z5121.0</th>\n",
       "      <td>-0.009194</td>\n",
       "      <td>0.006493</td>\n",
       "    </tr>\n",
       "    <tr>\n",
       "      <th>x-775.0_y-775.0_z5146.0</th>\n",
       "      <td>-0.006052</td>\n",
       "      <td>0.002323</td>\n",
       "    </tr>\n",
       "  </tbody>\n",
       "</table>\n",
       "</div>"
      ],
      "text/plain": [
       "                         div_GA05  div_Mau10\n",
       "x-775.0_y-775.0_z5046.0 -0.015313   0.011888\n",
       "x-775.0_y-775.0_z5071.0  0.175162   0.125476\n",
       "x-775.0_y-775.0_z5096.0 -0.003900   0.022776\n",
       "x-775.0_y-775.0_z5121.0 -0.009194   0.006493\n",
       "x-775.0_y-775.0_z5146.0 -0.006052   0.002323"
      ]
     },
     "execution_count": 30,
     "metadata": {},
     "output_type": "execute_result"
    }
   ],
   "source": [
    "df_maxwell = pd.DataFrame({'div_Mau10':div_Mau10.flatten(),'div_GA05':div_GA05.flatten()}, index=cube_centers)\n",
    "df_maxwell.head()"
   ]
  },
  {
   "cell_type": "code",
   "execution_count": 31,
   "metadata": {
    "collapsed": false
   },
   "outputs": [],
   "source": [
    "df_maxwell['abs_resid'] = np.abs(df_maxwell.div_GA05)-np.abs(df_maxwell.div_Mau10)"
   ]
  },
  {
   "cell_type": "code",
   "execution_count": 39,
   "metadata": {
    "collapsed": false
   },
   "outputs": [
    {
     "data": {
      "text/html": [
       "<div>\n",
       "<table border=\"1\" class=\"dataframe\">\n",
       "  <thead>\n",
       "    <tr style=\"text-align: right;\">\n",
       "      <th></th>\n",
       "      <th>div_GA05</th>\n",
       "      <th>div_Mau10</th>\n",
       "      <th>abs_resid</th>\n",
       "    </tr>\n",
       "  </thead>\n",
       "  <tbody>\n",
       "    <tr>\n",
       "      <th>x-750.0_y-775.0_z6071.0</th>\n",
       "      <td>0.521625</td>\n",
       "      <td>0.019276</td>\n",
       "      <td>0.502348</td>\n",
       "    </tr>\n",
       "    <tr>\n",
       "      <th>x-750.0_y-750.0_z6746.0</th>\n",
       "      <td>0.556482</td>\n",
       "      <td>-0.047767</td>\n",
       "      <td>0.508715</td>\n",
       "    </tr>\n",
       "    <tr>\n",
       "      <th>x-725.0_y-775.0_z6746.0</th>\n",
       "      <td>0.605746</td>\n",
       "      <td>-0.059710</td>\n",
       "      <td>0.546037</td>\n",
       "    </tr>\n",
       "    <tr>\n",
       "      <th>x750.0_y-750.0_z5046.0</th>\n",
       "      <td>0.592871</td>\n",
       "      <td>0.086131</td>\n",
       "      <td>0.506739</td>\n",
       "    </tr>\n",
       "    <tr>\n",
       "      <th>x750.0_y750.0_z6396.0</th>\n",
       "      <td>0.549660</td>\n",
       "      <td>0.038235</td>\n",
       "      <td>0.511425</td>\n",
       "    </tr>\n",
       "  </tbody>\n",
       "</table>\n",
       "</div>"
      ],
      "text/plain": [
       "                         div_GA05  div_Mau10  abs_resid\n",
       "x-750.0_y-775.0_z6071.0  0.521625   0.019276   0.502348\n",
       "x-750.0_y-750.0_z6746.0  0.556482  -0.047767   0.508715\n",
       "x-725.0_y-775.0_z6746.0  0.605746  -0.059710   0.546037\n",
       "x750.0_y-750.0_z5046.0   0.592871   0.086131   0.506739\n",
       "x750.0_y750.0_z6396.0    0.549660   0.038235   0.511425"
      ]
     },
     "execution_count": 39,
     "metadata": {},
     "output_type": "execute_result"
    }
   ],
   "source": [
    "df_maxwell[df_maxwell.abs_resid>0.5]"
   ]
  },
  {
   "cell_type": "code",
   "execution_count": 42,
   "metadata": {
    "collapsed": false
   },
   "outputs": [
    {
     "data": {
      "text/html": [
       "<div>\n",
       "<table border=\"1\" class=\"dataframe\">\n",
       "  <thead>\n",
       "    <tr style=\"text-align: right;\">\n",
       "      <th></th>\n",
       "      <th>div_GA05</th>\n",
       "      <th>div_Mau10</th>\n",
       "      <th>abs_resid</th>\n",
       "    </tr>\n",
       "  </thead>\n",
       "  <tbody>\n",
       "    <tr>\n",
       "      <th>x-775.0_y-775.0_z6771.0</th>\n",
       "      <td>-0.052673</td>\n",
       "      <td>-0.269560</td>\n",
       "      <td>-0.216887</td>\n",
       "    </tr>\n",
       "    <tr>\n",
       "      <th>x-775.0_y-775.0_z7596.0</th>\n",
       "      <td>0.059875</td>\n",
       "      <td>-0.269102</td>\n",
       "      <td>-0.209227</td>\n",
       "    </tr>\n",
       "    <tr>\n",
       "      <th>x-775.0_y775.0_z7596.0</th>\n",
       "      <td>-0.034144</td>\n",
       "      <td>-0.269102</td>\n",
       "      <td>-0.234958</td>\n",
       "    </tr>\n",
       "    <tr>\n",
       "      <th>x700.0_y-775.0_z7596.0</th>\n",
       "      <td>0.035457</td>\n",
       "      <td>0.286212</td>\n",
       "      <td>-0.250755</td>\n",
       "    </tr>\n",
       "    <tr>\n",
       "      <th>x725.0_y-750.0_z7596.0</th>\n",
       "      <td>-0.038056</td>\n",
       "      <td>0.254187</td>\n",
       "      <td>-0.216131</td>\n",
       "    </tr>\n",
       "    <tr>\n",
       "      <th>x725.0_y750.0_z7596.0</th>\n",
       "      <td>0.002155</td>\n",
       "      <td>0.254187</td>\n",
       "      <td>-0.252032</td>\n",
       "    </tr>\n",
       "    <tr>\n",
       "      <th>x750.0_y-725.0_z7596.0</th>\n",
       "      <td>0.021341</td>\n",
       "      <td>0.260098</td>\n",
       "      <td>-0.238758</td>\n",
       "    </tr>\n",
       "    <tr>\n",
       "      <th>x750.0_y725.0_z7596.0</th>\n",
       "      <td>-0.022170</td>\n",
       "      <td>0.260098</td>\n",
       "      <td>-0.237928</td>\n",
       "    </tr>\n",
       "    <tr>\n",
       "      <th>x775.0_y700.0_z7596.0</th>\n",
       "      <td>0.082060</td>\n",
       "      <td>0.287337</td>\n",
       "      <td>-0.205277</td>\n",
       "    </tr>\n",
       "  </tbody>\n",
       "</table>\n",
       "</div>"
      ],
      "text/plain": [
       "                         div_GA05  div_Mau10  abs_resid\n",
       "x-775.0_y-775.0_z6771.0 -0.052673  -0.269560  -0.216887\n",
       "x-775.0_y-775.0_z7596.0  0.059875  -0.269102  -0.209227\n",
       "x-775.0_y775.0_z7596.0  -0.034144  -0.269102  -0.234958\n",
       "x700.0_y-775.0_z7596.0   0.035457   0.286212  -0.250755\n",
       "x725.0_y-750.0_z7596.0  -0.038056   0.254187  -0.216131\n",
       "x725.0_y750.0_z7596.0    0.002155   0.254187  -0.252032\n",
       "x750.0_y-725.0_z7596.0   0.021341   0.260098  -0.238758\n",
       "x750.0_y725.0_z7596.0   -0.022170   0.260098  -0.237928\n",
       "x775.0_y700.0_z7596.0    0.082060   0.287337  -0.205277"
      ]
     },
     "execution_count": 42,
     "metadata": {},
     "output_type": "execute_result"
    }
   ],
   "source": [
    "df_maxwell[df_maxwell.abs_resid<-0.2]"
   ]
  },
  {
   "cell_type": "code",
   "execution_count": 45,
   "metadata": {
    "collapsed": false
   },
   "outputs": [
    {
     "data": {
      "text/plain": [
       "array([  0.00000000e+00,   2.77555756e-17,   1.11022302e-16, ...,\n",
       "         2.87486305e-01,   2.87827237e-01,   2.88037285e-01])"
      ]
     },
     "execution_count": 45,
     "metadata": {},
     "output_type": "execute_result"
    }
   ],
   "source": [
    "sort(np.abs(df_maxwell.div_Mau10.unique()))"
   ]
  },
  {
   "cell_type": "code",
   "execution_count": 46,
   "metadata": {
    "collapsed": false
   },
   "outputs": [
    {
     "data": {
      "text/plain": [
       "array([  0.00000000e+00,   1.11022302e-16,   1.11022302e-16, ...,\n",
       "         5.69262628e-01,   5.92870890e-01,   6.05746240e-01])"
      ]
     },
     "execution_count": 46,
     "metadata": {},
     "output_type": "execute_result"
    }
   ],
   "source": [
    "sort(np.abs(df_maxwell.div_GA05.unique()))"
   ]
  },
  {
   "cell_type": "code",
   "execution_count": 60,
   "metadata": {
    "collapsed": false
   },
   "outputs": [
    {
     "data": {
      "text/plain": [
       "<matplotlib.axes._subplots.AxesSubplot at 0x13cbb5250>"
      ]
     },
     "execution_count": 60,
     "metadata": {},
     "output_type": "execute_result"
    },
    {
     "data": {
      "image/png": "[encoded data removed]",
      "text/plain": [
       "<matplotlib.figure.Figure at 0x13435d510>"
      ]
     },
     "metadata": {},
     "output_type": "display_data"
    }
   ],
   "source": [
    "df_maxwell[['div_Mau10','div_GA05']].plot.hist(alpha=0.5, bins=100, logy=True)"
   ]
  },
  {
   "cell_type": "markdown",
   "metadata": {},
   "source": [
    "The total calculated flux through our cubes is much greater on average for the GA05 than the Mau10 simulation.  However, we cannot yet infer whether or not this due to a failure to adhere to Maxwell's equations, or simply due to numerical inaccuracy stemming from larger gradients."
   ]
  },
  {
   "cell_type": "code",
   "execution_count": null,
   "metadata": {
    "collapsed": true
   },
   "outputs": [],
   "source": []
  }
 ],
 "metadata": {
  "kernelspec": {
   "display_name": "Python 2",
   "language": "python",
   "name": "python2"
  },
  "language_info": {
   "codemirror_mode": {
    "name": "ipython",
    "version": 2
   },
   "file_extension": ".py",
   "mimetype": "text/x-python",
   "name": "python",
   "nbconvert_exporter": "python",
   "pygments_lexer": "ipython2",
   "version": "2.7.11"
  }
 },
 "nbformat": 4,
 "nbformat_minor": 0
}
