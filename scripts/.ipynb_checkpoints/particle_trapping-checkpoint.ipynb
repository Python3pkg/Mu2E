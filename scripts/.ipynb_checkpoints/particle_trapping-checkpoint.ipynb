{
 "cells": [
  {
   "cell_type": "code",
   "execution_count": 1,
   "metadata": {
    "collapsed": false
   },
   "outputs": [
    {
     "name": "stderr",
     "output_type": "stream",
     "text": [
      "/usr/local/lib/python2.7/site-packages/IPython/html.py:14: ShimWarning:\n",
      "\n",
      "The `IPython.html` package has been deprecated. You should import from `notebook` instead. `IPython.html.widgets` has moved to `ipywidgets`.\n",
      "\n",
      "/usr/local/lib/python2.7/site-packages/IPython/utils/traitlets.py:5: UserWarning:\n",
      "\n",
      "IPython.utils.traitlets has moved to a top-level traitlets package.\n",
      "\n"
     ]
    },
    {
     "data": {
      "application/javascript": [
       "window.genUID = function() {\n",
       "    return 'xxxxxxxx-xxxx-4xxx-yxxx-xxxxxxxxxxxx'.replace(/[xy]/g, function(c) {\n",
       "        var r = Math.random()*16|0, v = c == 'x' ? r : (r&0x3|0x8);\n",
       "        return v.toString(16);\n",
       "    });\n",
       "};\n",
       "\n",
       "var IPYTHON_VERSION = '3';\n",
       "\n",
       "require([\"widgets/js/widget\", \"widgets/js/manager\"], function (widget, manager) {\n",
       "    if (!('DOMWidgetView' in widget)) {\n",
       "\n",
       "        // we're in IPython2, things moved a bit from 2 --> 3.\n",
       "        // construct the expected IPython3 widget API\n",
       "        IPYTHON_VERSION = '2';\n",
       "        manager = {WidgetManager: widget};\n",
       "        widget = {DOMWidgetView: IPython.DOMWidgetView};\n",
       "    }\n",
       "\n",
       "    var GraphView = widget.DOMWidgetView.extend({\n",
       "        render: function(){\n",
       "            var that = this;\n",
       "\n",
       "            var graphId = window.genUID();\n",
       "            var loadingId = 'loading-'+graphId;\n",
       "\n",
       "\n",
       "            var _graph_url = that.model.get('_graph_url');\n",
       "\n",
       "            // variable plotlyDomain in the case of enterprise\n",
       "            var url_parts = _graph_url.split('/');\n",
       "            var plotlyDomain = url_parts[0] + '//' + url_parts[2];\n",
       "\n",
       "            if(!('plotlyDomains' in window)){\n",
       "                window.plotlyDomains = {};\n",
       "            }\n",
       "            window.plotlyDomains[graphId] = plotlyDomain;\n",
       "\n",
       "            // Place IFrame in output cell div `$el`\n",
       "            that.$el.css('width', '100%');\n",
       "            that.$graph = $(['<iframe id=\"'+graphId+'\"',\n",
       "                             'src=\"'+_graph_url+'.embed\"',\n",
       "                             'seamless',\n",
       "                             'style=\"border: none;\"',\n",
       "                             'width=\"100%\"',\n",
       "                             'height=\"600\">',\n",
       "                             '</iframe>'].join(' '));\n",
       "            that.$graph.appendTo(that.$el);\n",
       "\n",
       "            that.$loading = $('<div id=\"'+loadingId+'\">Initializing...</div>')\n",
       "                            .appendTo(that.$el);\n",
       "\n",
       "            // for some reason the 'width' is being changed in IPython 3.0.0\n",
       "            // for the containing `div` element. There's a flicker here, but\n",
       "            // I was unable to fix it otherwise.\n",
       "            setTimeout(function ()  {\n",
       "                if (IPYTHON_VERSION === '3') {\n",
       "                    $('#' + graphId)[0].parentElement.style.width = '100%';\n",
       "                }\n",
       "            }, 500);\n",
       "\n",
       "            // initialize communication with the iframe\n",
       "            if(!('pingers' in window)){\n",
       "                window.pingers = {};\n",
       "            }\n",
       "\n",
       "            window.pingers[graphId] = setInterval(function() {\n",
       "                that.graphContentWindow = $('#'+graphId)[0].contentWindow;\n",
       "                that.graphContentWindow.postMessage({task: 'ping'}, plotlyDomain);\n",
       "            }, 200);\n",
       "\n",
       "            // Assign a message listener to the 'message' events\n",
       "            // from iframe's postMessage protocol.\n",
       "            // Filter the messages by iframe src so that the right message\n",
       "            // gets passed to the right widget\n",
       "            if(!('messageListeners' in window)){\n",
       "                 window.messageListeners = {};\n",
       "            }\n",
       "\n",
       "            window.messageListeners[graphId] = function(e) {\n",
       "                if(_graph_url.indexOf(e.origin)>-1) {\n",
       "                    var frame = document.getElementById(graphId);\n",
       "\n",
       "                    if(frame === null){\n",
       "                        // frame doesn't exist in the dom anymore, clean up it's old event listener\n",
       "                        window.removeEventListener('message', window.messageListeners[graphId]);\n",
       "                        clearInterval(window.pingers[graphId]);\n",
       "                    } else if(frame.contentWindow === e.source) {\n",
       "                        // TODO: Stop event propagation, so each frame doesn't listen and filter\n",
       "                        var frameContentWindow = $('#'+graphId)[0].contentWindow;\n",
       "                        var message = e.data;\n",
       "\n",
       "                        if('pong' in message && message.pong) {\n",
       "                            $('#loading-'+graphId).hide();\n",
       "                            clearInterval(window.pingers[graphId]);\n",
       "                            that.send({event: 'pong', graphId: graphId});\n",
       "                        } else if (message.type==='hover' ||\n",
       "                                   message.type==='zoom'  ||\n",
       "                                   message.type==='click' ||\n",
       "                                   message.type==='unhover') {\n",
       "\n",
       "                            // click and hover events contain all of the data in the traces,\n",
       "                            // which can be a very large object and may take a ton of time\n",
       "                            // to pass to the python backend. Strip out the data, and require\n",
       "                            // the user to call get_figure if they need trace information\n",
       "                            if(message.type !== 'zoom') {\n",
       "                                for(var i in message.points) {\n",
       "                                    delete message.points[i].data;\n",
       "                                    delete message.points[i].fullData;\n",
       "                                }\n",
       "                            }\n",
       "                            that.send({event: message.type, message: message, graphId: graphId});\n",
       "                        } else if (message.task === 'getAttributes') {\n",
       "                            that.send({event: 'getAttributes', response: message.response});\n",
       "                        }\n",
       "                    }\n",
       "                }\n",
       "            };\n",
       "\n",
       "            window.removeEventListener('message', window.messageListeners[graphId]);\n",
       "            window.addEventListener('message', window.messageListeners[graphId]);\n",
       "\n",
       "        },\n",
       "\n",
       "        update: function() {\n",
       "            // Listen for messages from the graph widget in python\n",
       "            var jmessage = this.model.get('_message');\n",
       "            var message = JSON.parse(jmessage);\n",
       "\n",
       "            // check for duplicate messages\n",
       "            if(!('messageIds' in window)){\n",
       "                window.messageIds = {};\n",
       "            }\n",
       "\n",
       "            if(!(message.uid in window.messageIds)){\n",
       "                // message hasn't been received yet, do stuff\n",
       "                window.messageIds[message.uid] = true;\n",
       "\n",
       "                if (message.fadeTo) {\n",
       "                    this.fadeTo(message);\n",
       "                } else {\n",
       "                    var plot = $('#' + message.graphId)[0].contentWindow;\n",
       "                    plot.postMessage(message, window.plotlyDomains[message.graphId]);\n",
       "                }\n",
       "            }\n",
       "\n",
       "            return GraphView.__super__.update.apply(this);\n",
       "        },\n",
       "\n",
       "        /**\n",
       "         * Wrapper for jquery's `fadeTo` function.\n",
       "         *\n",
       "         * @param message Contains the id we need to find the element.\n",
       "         */\n",
       "        fadeTo: function (message) {\n",
       "            var plot = $('#' + message.graphId);\n",
       "            plot.fadeTo(message.duration, message.opacity);\n",
       "        }\n",
       "    });\n",
       "\n",
       "    // Register the GraphView with the widget manager.\n",
       "    manager.WidgetManager.register_widget_view('GraphView', GraphView);\n",
       "\n",
       "});\n",
       "\n",
       "//@ sourceURL=graphWidget.js\n"
      ],
      "text/plain": [
       "<IPython.core.display.Javascript object>"
      ]
     },
     "metadata": {},
     "output_type": "display_data"
    }
   ],
   "source": [
    "from mu2e import mu2e_ext_path\n",
    "import pandas as pd\n",
    "from mu2e.mu2eplots import mu2e_plot3d_ptrap\n",
    "import cPickle as pkl"
   ]
  },
  {
   "cell_type": "code",
   "execution_count": 2,
   "metadata": {
    "collapsed": false
   },
   "outputs": [
    {
     "name": "stderr",
     "output_type": "stream",
     "text": [
      "/usr/local/lib/python2.7/site-packages/ipykernel/__main__.py:3: FutureWarning:\n",
      "\n",
      "eval expressions containing an assignment currentlydefault to operating inplace.\n",
      "This will change in a future version of pandas, use inplace=True to avoid this warning.\n",
      "\n",
      "/usr/local/lib/python2.7/site-packages/ipykernel/__main__.py:4: FutureWarning:\n",
      "\n",
      "eval expressions containing an assignment currentlydefault to operating inplace.\n",
      "This will change in a future version of pandas, use inplace=True to avoid this warning.\n",
      "\n",
      "/usr/local/lib/python2.7/site-packages/ipykernel/__main__.py:6: FutureWarning:\n",
      "\n",
      "eval expressions containing an assignment currentlydefault to operating inplace.\n",
      "This will change in a future version of pandas, use inplace=True to avoid this warning.\n",
      "\n"
     ]
    }
   ],
   "source": [
    "df_nttvd, df_ntpart = pkl.load(open(mu2e_ext_path+'datafiles/G4ParticleSim/z13k_ft_muons_GA05.p','rb'))\n",
    "_, df_xray = pkl.load(open(mu2e_ext_path+'datafiles/G4ParticleSim/low_e_ele.p','rb'))\n",
    "df_ntpart.eval('xstop=xstop+3904')\n",
    "df_ntpart.eval('x=x+3904')\n",
    "\n",
    "df_xray.eval('xstop=xstop+3904')"
   ]
  },
  {
   "cell_type": "code",
   "execution_count": null,
   "metadata": {
    "collapsed": false
   },
   "outputs": [],
   "source": [
    "mu2e_plot3d_ptrap(df_ntpart.query('xstop<1000 and tstop>7000 and sqrt(xstop*xstop+ystop*ystop)<900 and pstop<70').ix[0:80000],'zstop','xstop','ystop',xray=df_xray)\n"
   ]
  },
  {
   "cell_type": "code",
   "execution_count": 6,
   "metadata": {
    "collapsed": false
   },
   "outputs": [
    {
     "data": {
      "text/plain": [
       "0           0.058.0\n",
       "1           0.058.0\n",
       "2           0.058.0\n",
       "3           0.058.0\n",
       "4           0.058.0\n",
       "5           0.058.0\n",
       "6           0.058.0\n",
       "7           0.058.0\n",
       "8           0.058.0\n",
       "9           0.058.0\n",
       "10          0.058.0\n",
       "11          0.058.0\n",
       "12          0.058.0\n",
       "13          0.058.0\n",
       "14          0.058.0\n",
       "15          0.058.0\n",
       "16          0.058.0\n",
       "17          0.058.0\n",
       "18          0.058.0\n",
       "19          0.058.0\n",
       "20          0.058.0\n",
       "21          0.058.0\n",
       "22          0.058.0\n",
       "23          0.058.0\n",
       "24          0.058.0\n",
       "25          0.058.0\n",
       "26          0.058.0\n",
       "27          0.058.0\n",
       "28          0.058.0\n",
       "29          0.058.0\n",
       "            ...    \n",
       "988191    999.058.0\n",
       "988192    999.058.0\n",
       "988193    999.058.0\n",
       "988194    999.058.0\n",
       "988195    999.058.0\n",
       "988196    999.058.0\n",
       "988197    999.058.0\n",
       "988198    999.058.0\n",
       "988199    999.058.0\n",
       "988200    999.058.0\n",
       "988201    999.058.0\n",
       "988202    999.058.0\n",
       "988203    999.058.0\n",
       "988204    999.058.0\n",
       "988205    999.058.0\n",
       "988206    999.058.0\n",
       "988207    999.058.0\n",
       "988208    999.058.0\n",
       "988209    999.058.0\n",
       "988210    999.058.0\n",
       "988211    999.058.0\n",
       "988212    999.058.0\n",
       "988213    999.058.0\n",
       "988214    999.058.0\n",
       "988215    999.058.0\n",
       "988216    999.058.0\n",
       "988217    999.058.0\n",
       "988218    999.058.0\n",
       "988219    999.058.0\n",
       "988220    999.058.0\n",
       "Name: subrun, dtype: object"
      ]
     },
     "execution_count": 6,
     "metadata": {},
     "output_type": "execute_result"
    }
   ],
   "source": [
    "df_nttvd.subrun.astype(str)+df_nttvd.evt.astype(str)"
   ]
  },
  {
   "cell_type": "code",
   "execution_count": 7,
   "metadata": {
    "collapsed": false
   },
   "outputs": [],
   "source": [
    "df_nttvd['runevt']=df_nttvd.subrun.astype(str)+df_nttvd.evt.astype(str)"
   ]
  },
  {
   "cell_type": "code",
   "execution_count": 8,
   "metadata": {
    "collapsed": false
   },
   "outputs": [
    {
     "data": {
      "text/plain": [
       "0             0.058.0\n",
       "1             0.096.0\n",
       "2             0.096.0\n",
       "3             0.096.0\n",
       "4             0.096.0\n",
       "5             0.096.0\n",
       "6             0.096.0\n",
       "7             0.096.0\n",
       "8             0.096.0\n",
       "9             0.096.0\n",
       "10            0.096.0\n",
       "11            0.096.0\n",
       "12            0.096.0\n",
       "13           0.0575.0\n",
       "14           0.0575.0\n",
       "15           0.0575.0\n",
       "16           0.0575.0\n",
       "17           0.0575.0\n",
       "18           0.0575.0\n",
       "19           0.0575.0\n",
       "20           0.0634.0\n",
       "21           0.0634.0\n",
       "22           0.0634.0\n",
       "23           0.0634.0\n",
       "24           0.0634.0\n",
       "25           0.0634.0\n",
       "26           0.0634.0\n",
       "27           0.0634.0\n",
       "28           0.0950.0\n",
       "29           0.0950.0\n",
       "             ...     \n",
       "988191    999.09749.0\n",
       "988192    999.09749.0\n",
       "988193    999.09771.0\n",
       "988194    999.09771.0\n",
       "988195    999.09771.0\n",
       "988196    999.09771.0\n",
       "988197    999.09771.0\n",
       "988198    999.09771.0\n",
       "988199    999.09771.0\n",
       "988200    999.09771.0\n",
       "988201    999.09794.0\n",
       "988202    999.09794.0\n",
       "988203    999.09794.0\n",
       "988204    999.09794.0\n",
       "988205    999.09794.0\n",
       "988206    999.09794.0\n",
       "988207    999.09794.0\n",
       "988208    999.09794.0\n",
       "988209    999.09794.0\n",
       "988210    999.09794.0\n",
       "988211    999.09794.0\n",
       "988212    999.09880.0\n",
       "988213    999.09880.0\n",
       "988214    999.09880.0\n",
       "988215    999.09880.0\n",
       "988216    999.09880.0\n",
       "988217    999.09880.0\n",
       "988218    999.09880.0\n",
       "988219    999.09880.0\n",
       "988220    999.09880.0\n",
       "Name: runevt, dtype: object"
      ]
     },
     "execution_count": 8,
     "metadata": {},
     "output_type": "execute_result"
    }
   ],
   "source": [
    "df_nttvd.runevt"
   ]
  },
  {
   "cell_type": "code",
   "execution_count": 9,
   "metadata": {
    "collapsed": false
   },
   "outputs": [],
   "source": [
    "df_nttvd_oldest = df_nttvd[df_nttvd.runevt.isin(df_nttvd[df_nttvd.sid==990.0].runevt)]"
   ]
  },
  {
   "cell_type": "code",
   "execution_count": 13,
   "metadata": {
    "collapsed": false
   },
   "outputs": [
    {
     "data": {
      "text/plain": [
       "array([92])"
      ]
     },
     "execution_count": 13,
     "metadata": {},
     "output_type": "execute_result"
    }
   ],
   "source": [
    "df_nttvd_oldest.groupby('sid').evt.count().unique()"
   ]
  },
  {
   "cell_type": "code",
   "execution_count": null,
   "metadata": {
    "collapsed": true
   },
   "outputs": [],
   "source": []
  }
 ],
 "metadata": {
  "kernelspec": {
   "display_name": "Python 2",
   "language": "python",
   "name": "python2"
  },
  "language_info": {
   "codemirror_mode": {
    "name": "ipython",
    "version": 2
   },
   "file_extension": ".py",
   "mimetype": "text/x-python",
   "name": "python",
   "nbconvert_exporter": "python",
   "pygments_lexer": "ipython2",
   "version": "2.7.11"
  }
 },
 "nbformat": 4,
 "nbformat_minor": 0
}
