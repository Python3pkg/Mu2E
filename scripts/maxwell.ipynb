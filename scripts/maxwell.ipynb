{
 "cells": [
  {
   "cell_type": "code",
   "execution_count": 8,
   "metadata": {
    "collapsed": true
   },
   "outputs": [],
   "source": [
    "from mu2e.datafileprod import DataFileMaker\n",
    "%matplotlib inline"
   ]
  },
  {
   "cell_type": "code",
   "execution_count": 9,
   "metadata": {
    "collapsed": true
   },
   "outputs": [],
   "source": [
    "df_GA05= DataFileMaker('../datafiles/FieldMapsGA05/DSMap',use_pickle = True).data_frame\n",
    "df_Mau10 = DataFileMaker('../datafiles/Mau10/Standard_Maps/Mu2e_DSMap',use_pickle = True).data_frame"
   ]
  },
  {
   "cell_type": "code",
   "execution_count": 64,
   "metadata": {
    "collapsed": true
   },
   "outputs": [],
   "source": [
    "df_Mau10_rect = df_Mau10.query('5000<Z<6000 and -800<X<800 and -800<Y<800')\n",
    "df_GA05_rect = df_GA05.query('5000<Z<6000 and -800<X<800 and -800<Y<800')"
   ]
  },
  {
   "cell_type": "code",
   "execution_count": 65,
   "metadata": {
    "collapsed": true
   },
   "outputs": [],
   "source": [
    "side1_val = df_Mau10_rect.Z.min()\n",
    "side2_val = df_Mau10_rect.Z.max()\n",
    "side3_val = df_Mau10_rect.X.min()\n",
    "side4_val = df_Mau10_rect.X.max()\n",
    "side5_val = df_Mau10_rect.Y.min()\n",
    "side6_val = df_Mau10_rect.Y.max()\n",
    " \n",
    "bz_total = df_Mau10_rect[df_Mau10_rect.Z==side1_val].Bz.sum()-df_Mau10_rect[df_Mau10_rect.Z==side2_val].Bz.sum()\n",
    "bx_total = df_Mau10_rect[df_Mau10_rect.X==side3_val].Bx.sum()-df_Mau10_rect[df_Mau10_rect.X==side4_val].Bx.sum()\n",
    "by_total = df_Mau10_rect[df_Mau10_rect.Y==side5_val].By.sum()-df_Mau10_rect[df_Mau10_rect.Y==side6_val].By.sum()"
   ]
  },
  {
   "cell_type": "code",
   "execution_count": 66,
   "metadata": {
    "collapsed": false,
    "scrolled": true
   },
   "outputs": [
    {
     "name": "stdout",
     "output_type": "stream",
     "text": [
      "736.054925287\n"
     ]
    },
    {
     "name": "stderr",
     "output_type": "stream",
     "text": [
      "/usr/local/lib/python2.7/site-packages/ipykernel/__main__.py:1: UserWarning: Boolean Series key will be reindexed to match DataFrame index.\n",
      "  if __name__ == '__main__':\n",
      "/usr/local/lib/python2.7/site-packages/ipykernel/__main__.py:2: UserWarning: Boolean Series key will be reindexed to match DataFrame index.\n",
      "  from ipykernel import kernelapp as app\n"
     ]
    }
   ],
   "source": [
    "bz_total = df_Mau10_rect[df_Mau10_rect.Z==side1_val][df_Mau10_rect.X!=side3_val][df_Mau10_rect.X!=side4_val][df_Mau10_rect.Y!=side5_val][df_Mau10_rect.Y!=side6_val].Bz.sum()\n",
    "bz_total -= df_Mau10_rect[df_Mau10_rect.Z==side2_val][df_Mau10_rect.X!=side3_val][df_Mau10_rect.X!=side4_val][df_Mau10_rect.Y!=side5_val][df_Mau10_rect.Y!=side6_val].Bz.sum()\n",
    "print bz_total"
   ]
  },
  {
   "cell_type": "code",
   "execution_count": 67,
   "metadata": {
    "collapsed": false
   },
   "outputs": [
    {
     "name": "stdout",
     "output_type": "stream",
     "text": [
      "bz 741.468487978 752.29990774\n",
      "bx -381.494176275 -389.860582293\n",
      "by -382.811914576 -391.126514392\n",
      "-22.837602873\n",
      "-28.687188945\n"
     ]
    }
   ],
   "source": [
    "bz_total_m = df_Mau10_rect[df_Mau10_rect.Z==side1_val].Bz.sum()\n",
    "bz_total_m -= df_Mau10_rect[df_Mau10_rect.Z==side2_val].Bz.sum()\n",
    "bz_total_g = df_GA05_rect[df_GA05_rect.Z==side1_val].Bz.sum()\n",
    "bz_total_g -= df_GA05_rect[df_GA05_rect.Z==side2_val].Bz.sum()\n",
    "print 'bz', bz_total_m, bz_total_g\n",
    "\n",
    "bx_total_m = df_Mau10_rect[df_Mau10_rect.X==side3_val].Bx.sum()\n",
    "bx_total_m -= df_Mau10_rect[df_Mau10_rect.X==side4_val].Bx.sum()\n",
    "bx_total_g = df_GA05_rect[df_GA05_rect.X==side3_val].Bx.sum()\n",
    "bx_total_g -= df_GA05_rect[df_GA05_rect.X==side4_val].Bx.sum()\n",
    "print 'bx', bx_total_m, bx_total_g\n",
    "\n",
    "by_total_m = df_Mau10_rect[df_Mau10_rect.Y==side5_val].By.sum()\n",
    "by_total_m -= df_Mau10_rect[df_Mau10_rect.Y==side6_val].By.sum()\n",
    "by_total_g = df_GA05_rect[df_GA05_rect.Y==side5_val].By.sum()\n",
    "by_total_g -= df_GA05_rect[df_GA05_rect.Y==side6_val].By.sum()\n",
    "print 'by', by_total_m, by_total_g\n",
    "\n",
    "print bz_total_m+bx_total_m+by_total_m\n",
    "print bz_total_g+bx_total_g+by_total_g"
   ]
  },
  {
   "cell_type": "code",
   "execution_count": 27,
   "metadata": {
    "collapsed": false
   },
   "outputs": [
    {
     "name": "stdout",
     "output_type": "stream",
     "text": [
      "0.067528624 -0.032836137 -0.033409955\n"
     ]
    }
   ],
   "source": [
    "print bz_total, bx_total, by_total"
   ]
  },
  {
   "cell_type": "code",
   "execution_count": 50,
   "metadata": {
    "collapsed": false
   },
   "outputs": [
    {
     "data": {
      "text/plain": [
       "-1.0342876729999917"
      ]
     },
     "execution_count": 50,
     "metadata": {},
     "output_type": "execute_result"
    }
   ],
   "source": [
    "bz_total+bx_total+by_total"
   ]
  },
  {
   "cell_type": "code",
   "execution_count": 52,
   "metadata": {
    "collapsed": false
   },
   "outputs": [
    {
     "name": "stdout",
     "output_type": "stream",
     "text": [
      "0.042988981\n",
      "0.04394439\n"
     ]
    }
   ],
   "source": [
    "print bz_total_m+bx_total_m+by_total_m\n",
    "print bz_total_g+bx_total_g+by_total_g"
   ]
  },
  {
   "cell_type": "code",
   "execution_count": null,
   "metadata": {
    "collapsed": true
   },
   "outputs": [],
   "source": []
  }
 ],
 "metadata": {
  "kernelspec": {
   "display_name": "Python 2",
   "language": "python",
   "name": "python2"
  },
  "language_info": {
   "codemirror_mode": {
    "name": "ipython",
    "version": 2
   },
   "file_extension": ".py",
   "mimetype": "text/x-python",
   "name": "python",
   "nbconvert_exporter": "python",
   "pygments_lexer": "ipython2",
   "version": "2.7.11"
  }
 },
 "nbformat": 4,
 "nbformat_minor": 0
}
