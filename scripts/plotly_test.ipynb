{
 "cells": [
  {
   "cell_type": "code",
   "execution_count": null,
   "metadata": {
    "collapsed": false
   },
   "outputs": [],
   "source": [
    "run plotly_test_offline.py"
   ]
  },
  {
   "cell_type": "code",
   "execution_count": null,
   "metadata": {
    "collapsed": false
   },
   "outputs": [],
   "source": [
    "import os\n",
    "import mu2e\n",
    "from mu2e.datafileprod import DataFileMaker\n",
    "from mu2e.mu2eplots import mu2e_plot, mu2e_plot3d\n",
    "%matplotlib inline\n",
    "plt.rcParams['figure.figsize'] = (12,8)"
   ]
  },
  {
   "cell_type": "code",
   "execution_count": null,
   "metadata": {
    "collapsed": true
   },
   "outputs": [],
   "source": [
    "df = DataFileMaker(mu2e.mu2e_ext_path+'datafiles/Mau10/Standard_Maps/Mu2e_DSMap',use_pickle = True).data_frame"
   ]
  },
  {
   "cell_type": "code",
   "execution_count": null,
   "metadata": {
    "collapsed": false
   },
   "outputs": [],
   "source": [
    "mu2e_plot(df, 'Z', 'Bz', 'Y==0 and X==0', mode='plotly_nb')"
   ]
  },
  {
   "cell_type": "code",
   "execution_count": null,
   "metadata": {
    "collapsed": false
   },
   "outputs": [],
   "source": [
    "save_dir = os.path.abspath(os.path.dirname(mu2e.__file__))+'/../source/_plotly'"
   ]
  },
  {
   "cell_type": "code",
   "execution_count": null,
   "metadata": {
    "collapsed": false
   },
   "outputs": [],
   "source": [
    "mu2e_plot3d(df, 'R', 'Z', 'Bz', 'R<=1000 and Phi==0 and 3200<Z<14000', df_fit=False, mode='plotly_html', save_dir=save_dir)"
   ]
  },
  {
   "cell_type": "code",
   "execution_count": null,
   "metadata": {
    "collapsed": false
   },
   "outputs": [],
   "source": [
    "import mu2e\n",
    "import pandas as pd\n",
    "from mu2e.mu2eplots import mu2e_plot3d_ptrap\n",
    "import cPickle as pkl"
   ]
  },
  {
   "cell_type": "code",
   "execution_count": null,
   "metadata": {
    "collapsed": false
   },
   "outputs": [],
   "source": [
    "df_nttvd, df_ntpart = pkl.load(open(mu2e.mu2e_ext_path+'datafiles/G4ParticleSim/z13k_muons_GA05.p','rb'))\n",
    "_, df_xray = pkl.load(open(mu2e.mu2e_ext_path+'datafiles/G4ParticleSim/low_e_ele.p','rb'))\n",
    "df_ntpart.eval('xstop=xstop+3904')\n",
    "df_ntpart.eval('x=x+3904')\n",
    "\n",
    "df_xray.eval('xstop=xstop+3904')"
   ]
  },
  {
   "cell_type": "code",
   "execution_count": null,
   "metadata": {
    "collapsed": false,
    "scrolled": true
   },
   "outputs": [],
   "source": [
    "mu2e_plot3d_ptrap(df_ntpart.query('xstop<1000 and tstop>7000 and sqrt(xstop*xstop+ystop*ystop)<900 and pstop<70').ix[0:80000],'zstop','xstop','ystop',xray=df_xray)\n",
    "#mu2e_plot3d_ptrap(df_ntpart.ix[0:10000],'z','x','y',xray=df_xray)"
   ]
  },
  {
   "cell_type": "code",
   "execution_count": null,
   "metadata": {
    "collapsed": false
   },
   "outputs": [],
   "source": [
    "isinstance(df_xray, pd.DataFrame)"
   ]
  },
  {
   "cell_type": "code",
   "execution_count": null,
   "metadata": {
    "collapsed": false
   },
   "outputs": [],
   "source": [
    "df_xray.query('xstop<1000 and tstop>1000 and sqrt(xstop*xstop+ystop*ystop)<900')"
   ]
  },
  {
   "cell_type": "code",
   "execution_count": null,
   "metadata": {
    "collapsed": false,
    "scrolled": false
   },
   "outputs": [],
   "source": [
    "df_tmp = df_ntpart.query('xstop<1000 and tstop>7000 and sqrt(xstop*xstop+ystop*ystop)<900 and pstop>70')"
   ]
  },
  {
   "cell_type": "code",
   "execution_count": null,
   "metadata": {
    "collapsed": false
   },
   "outputs": [],
   "source": [
    "df_tmp.pzstop.hist()"
   ]
  },
  {
   "cell_type": "code",
   "execution_count": null,
   "metadata": {
    "collapsed": true
   },
   "outputs": [],
   "source": []
  },
  {
   "cell_type": "code",
   "execution_count": 2,
   "metadata": {
    "collapsed": false
   },
   "outputs": [],
   "source": [
    "import plotly.plotly as py\n",
    "from plotly.graph_objs import *\n",
    "from plotly.widgets import GraphWidget\n",
    "from IPython.display import display, HTML, Image\n",
    "import numpy as np\n",
    "import math\n",
    "from IPython.html import widgets\n"
   ]
  },
  {
   "cell_type": "code",
   "execution_count": 3,
   "metadata": {
    "collapsed": true
   },
   "outputs": [],
   "source": [
    "z = np.arange(1,20,0.1)\n",
    "x = np.cos(4*z)*( np.power(z+1,3) )\n",
    "y = np.sin(4*z)*( np.power(z+1,3) )"
   ]
  },
  {
   "cell_type": "code",
   "execution_count": 5,
   "metadata": {
    "collapsed": false
   },
   "outputs": [],
   "source": [
    "class shifter:\n",
    "    def __init__(self):\n",
    "        self.x = np.cos(4*z)*( np.power(z+1,3) )\n",
    "        self.y = np.sin(4*z)*( np.power(z+1,3) )\n",
    "        \n",
    "    \n",
    "    def on_phase_change(self, name, old_value, new_value):\n",
    "        self.x = np.cos(4*z+new_value)*( np.power(z+1,3) )\n",
    "        self.y = np.sin(4*z+new_value)*( np.power(z+1,3) )\n",
    "        self.replot()\n",
    "        \n",
    "    def replot(self):\n",
    "        g.restyle({ 'x': [self.x], 'y': [self.y] })\n",
    "\n",
    "p_slider = widgets.FloatSlider(min=0,max=10,value=1,step=0.05)\n",
    "p_slider.description = 'Phase shift'\n",
    "p_slider.value = 1\n",
    "\n",
    "p_state = shifter()\n",
    "p_slider.on_trait_change(p_state.on_phase_change, 'value')"
   ]
  },
  {
   "cell_type": "code",
   "execution_count": 6,
   "metadata": {
    "collapsed": true
   },
   "outputs": [],
   "source": [
    "g = GraphWidget()\n",
    "g.restyle( { 'x':[x],\n",
    "            'y':[y],\n",
    "            'z':[z], \n",
    "            'marker':{'size':np.power(z,1.2),'opacity':0.9,'color':'blue'},             \n",
    "            'type':'scatter3d' } )"
   ]
  },
  {
   "cell_type": "code",
   "execution_count": 7,
   "metadata": {
    "collapsed": true
   },
   "outputs": [],
   "source": [
    "display(p_slider)\n",
    "display(g)"
   ]
  },
  {
   "cell_type": "code",
   "execution_count": null,
   "metadata": {
    "collapsed": true
   },
   "outputs": [],
   "source": []
  }
 ],
 "metadata": {
  "kernelspec": {
   "display_name": "Python 2",
   "language": "python",
   "name": "python2"
  },
  "language_info": {
   "codemirror_mode": {
    "name": "ipython",
    "version": 2
   },
   "file_extension": ".py",
   "mimetype": "text/x-python",
   "name": "python",
   "nbconvert_exporter": "python",
   "pygments_lexer": "ipython2",
   "version": "2.7.11"
  }
 },
 "nbformat": 4,
 "nbformat_minor": 0
}
