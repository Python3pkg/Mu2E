{
 "cells": [
  {
   "cell_type": "markdown",
   "metadata": {},
   "source": [
    "# 3D Interpolation with Scipy"
   ]
  },
  {
   "cell_type": "markdown",
   "metadata": {},
   "source": [
    "The hall probe measurement simulation software is hamstrung by the sparseness of the available field grid data.  The Mau10 and GA05 field grids are given in Cartesian coordinates, with 25 mm spacing on the X, Y, and Z axes.  The hall probe measurement device will work most naturally in cylindrical coordinates.  In order to sample regular cylindrically symmetric data from the field grids, one must either cherry pick values that coincide with the 25x25x25 mm spacing, or generate data through interpolation.\n",
    "\n",
    "The current interpolation method employed in the Mu2E organization for doing this is a linear 3D method.  This leads to can lead to fairly large errors in regions of large magnetic gradient, which would be unsuitable for further analysis.  We will attempt to use a more robust interpolate method and compare those results with random field data (provided in a separate file for validation purposes)."
   ]
  },
  {
   "cell_type": "code",
   "execution_count": 1,
   "metadata": {
    "collapsed": false
   },
   "outputs": [],
   "source": [
    "from mu2e.dataframeprod import DataFrameMaker\n",
    "from mu2e import mu2e_ext_path\n",
    "import numpy as np\n",
    "from scipy.interpolate import Rbf\n",
    "from IPython.display import HTML\n"
   ]
  },
  {
   "cell_type": "code",
   "execution_count": 2,
   "metadata": {
    "collapsed": true
   },
   "outputs": [],
   "source": [
    "df = DataFrameMaker(mu2e_ext_path+'datafiles/Mau10/Standard_Maps/Mu2e_DSMap',use_pickle = True).data_frame"
   ]
  },
  {
   "cell_type": "code",
   "execution_count": 3,
   "metadata": {
    "collapsed": true
   },
   "outputs": [],
   "source": [
    "df_rand = DataFrameMaker(mu2e_ext_path+'datafiles/Mau10/Standard_Maps/Mu2e_DSMap_rand1mil',use_pickle = True).data_frame"
   ]
  },
  {
   "cell_type": "code",
   "execution_count": 8,
   "metadata": {
    "collapsed": true
   },
   "outputs": [],
   "source": [
    "#df_rand_subset = df_rand.query('-800<=X<=800 and -800<=Y<=800 and 4200<=Z<=13000')\n",
    "df_rand_subset = df_rand.query('-10<=X<=10 and -10<=Y<=10 and 8200<=Z<=11000')"
   ]
  },
  {
   "cell_type": "markdown",
   "metadata": {},
   "source": [
    "We have our dataframes queued up.  We will attempt to interpolate a regular grid from `df`, and test values from `df_rand` to determine our accuracy.  Let's try to use scipy.interpolate.Rbf in a simple case, first:"
   ]
  },
  {
   "cell_type": "code",
   "execution_count": 7,
   "metadata": {
    "collapsed": false
   },
   "outputs": [],
   "source": [
    "def cylindrical_norm(x1,x2):\n",
    "    return np.sqrt(\n",
    "        (x1[0,:]*np.cos(x1[1,:])-x2[0,:]*np.cos(x2[1,:]))**2 +\n",
    "        (x1[0,:]*np.sin(x1[1,:])-x2[0,:]*np.sin(x2[1,:]))**2 +\n",
    "        (x1[2,:]-x2[2,:])**2)"
   ]
  },
  {
   "cell_type": "code",
   "execution_count": 9,
   "metadata": {
    "collapsed": false,
    "scrolled": false
   },
   "outputs": [
    {
     "name": "stdout",
     "output_type": "stream",
     "text": [
      "\tBx\t\t\tBy\t\t\tBz\n",
      "bads: 0\n"
     ]
    },
    {
     "data": {
      "text/html": [
       "<p>Quad&emsp;&emsp;&emsp;Lin&emsp;&emsp;&emsp;RBF&emsp;&emsp;&emsp;&emsp;&emsp;&emsp;&emsp;&emsp;&emsp;&emsp;Quad&emsp;&emsp;&emsp;Lin&emsp;&emsp;&emsp;RBF&emsp;&emsp;&emsp;&emsp;&emsp;&emsp;&emsp;&emsp;&emsp;&emsp;Quad&emsp;&emsp;&emsp;Lin&emsp;&emsp;&emsp;RBF</p><p>2.58e-07 2.59e-07 <b>2.57e-07</b>&emsp;&emsp;&emsp;&emsp;&emsp;&emsp;&emsp;&emsp;7.51e-08 7.60e-08 <b>7.50e-08</b>&emsp;&emsp;&emsp;&emsp;&emsp;&emsp;&emsp;&emsp;2.86e-05 2.86e-05 <b>2.75e-05</b></p><p>3.97e-08 <b>3.71e-08</b> 3.79e-08&emsp;&emsp;&emsp;&emsp;&emsp;&emsp;&emsp;&emsp;<b>1.28e-07</b> 1.32e-07 1.30e-07&emsp;&emsp;&emsp;&emsp;&emsp;&emsp;&emsp;&emsp;<b>3.44e-05</b> 3.44e-05 3.50e-05</p><p>1.12e-07 1.10e-07 <b>1.04e-07</b>&emsp;&emsp;&emsp;&emsp;&emsp;&emsp;&emsp;&emsp;<b>1.67e-07</b> 1.68e-07 1.73e-07&emsp;&emsp;&emsp;&emsp;&emsp;&emsp;&emsp;&emsp;3.30e-05 3.30e-05 <b>3.09e-05</b></p><p>4.62e-08 4.59e-08 <b>4.08e-08</b>&emsp;&emsp;&emsp;&emsp;&emsp;&emsp;&emsp;&emsp;3.81e-08 3.93e-08 <b>3.73e-08</b>&emsp;&emsp;&emsp;&emsp;&emsp;&emsp;&emsp;&emsp;4.01e-05 4.02e-05 <b>3.87e-05</b></p><p><b>5.70e-09</b> 1.13e-08 1.36e-08&emsp;&emsp;&emsp;&emsp;&emsp;&emsp;&emsp;&emsp;<b>9.87e-08</b> 9.95e-08 1.06e-07&emsp;&emsp;&emsp;&emsp;&emsp;&emsp;&emsp;&emsp;3.56e-05 3.56e-05 <b>3.48e-05</b></p><p>3.06e-08 <b>3.04e-08</b> 3.74e-08&emsp;&emsp;&emsp;&emsp;&emsp;&emsp;&emsp;&emsp;2.15e-08 2.17e-08 <b>2.08e-08</b>&emsp;&emsp;&emsp;&emsp;&emsp;&emsp;&emsp;&emsp;4.02e-05 4.02e-05 <b>3.78e-05</b></p><p>2.01e-07 <b>9.98e-08</b> 1.78e-07&emsp;&emsp;&emsp;&emsp;&emsp;&emsp;&emsp;&emsp;2.27e-07 <b>1.22e-07</b> 1.24e-07&emsp;&emsp;&emsp;&emsp;&emsp;&emsp;&emsp;&emsp;8.07e-06 <b>4.58e-06</b> 8.94e-06</p><p>2.11e-07 5.72e-08 <b>3.09e-08</b>&emsp;&emsp;&emsp;&emsp;&emsp;&emsp;&emsp;&emsp;2.02e-07 1.25e-07 <b>9.35e-08</b>&emsp;&emsp;&emsp;&emsp;&emsp;&emsp;&emsp;&emsp;1.36e-05 1.31e-05 <b>1.26e-05</b></p><p>2.11e-07 5.72e-08 <b>3.09e-08</b>&emsp;&emsp;&emsp;&emsp;&emsp;&emsp;&emsp;&emsp;2.02e-07 1.25e-07 <b>9.35e-08</b>&emsp;&emsp;&emsp;&emsp;&emsp;&emsp;&emsp;&emsp;1.36e-05 1.31e-05 <b>1.26e-05</b></p><p>5.70e-08 5.69e-08 <b>5.69e-08</b>&emsp;&emsp;&emsp;&emsp;&emsp;&emsp;&emsp;&emsp;2.66e-09 2.67e-09 <b>1.22e-10</b>&emsp;&emsp;&emsp;&emsp;&emsp;&emsp;&emsp;&emsp;4.00e-05 4.00e-05 <b>3.88e-05</b></p><p>9.96e-08 1.01e-07 <b>9.84e-08</b>&emsp;&emsp;&emsp;&emsp;&emsp;&emsp;&emsp;&emsp;1.49e-08 1.54e-08 <b>1.13e-08</b>&emsp;&emsp;&emsp;&emsp;&emsp;&emsp;&emsp;&emsp;3.88e-05 3.89e-05 <b>3.70e-05</b></p><p>2.76e-07 2.76e-07 <b>2.70e-07</b>&emsp;&emsp;&emsp;&emsp;&emsp;&emsp;&emsp;&emsp;<b>2.78e-07</b> 2.80e-07 2.79e-07&emsp;&emsp;&emsp;&emsp;&emsp;&emsp;&emsp;&emsp;8.53e-06 8.46e-06 <b>7.41e-06</b></p><p>3.97e-08 <b>3.71e-08</b> 3.79e-08&emsp;&emsp;&emsp;&emsp;&emsp;&emsp;&emsp;&emsp;<b>1.28e-07</b> 1.32e-07 1.30e-07&emsp;&emsp;&emsp;&emsp;&emsp;&emsp;&emsp;&emsp;<b>3.44e-05</b> 3.44e-05 3.50e-05</p><p>2.66e-08 2.61e-08 <b>2.18e-08</b>&emsp;&emsp;&emsp;&emsp;&emsp;&emsp;&emsp;&emsp;2.10e-08 2.09e-08 <b>1.99e-08</b>&emsp;&emsp;&emsp;&emsp;&emsp;&emsp;&emsp;&emsp;4.04e-05 4.04e-05 <b>3.91e-05</b></p><p>2.76e-07 2.76e-07 <b>2.70e-07</b>&emsp;&emsp;&emsp;&emsp;&emsp;&emsp;&emsp;&emsp;<b>2.78e-07</b> 2.80e-07 2.79e-07&emsp;&emsp;&emsp;&emsp;&emsp;&emsp;&emsp;&emsp;8.53e-06 8.46e-06 <b>7.41e-06</b></p><p>2.11e-07 5.72e-08 <b>3.09e-08</b>&emsp;&emsp;&emsp;&emsp;&emsp;&emsp;&emsp;&emsp;2.02e-07 1.25e-07 <b>9.35e-08</b>&emsp;&emsp;&emsp;&emsp;&emsp;&emsp;&emsp;&emsp;1.36e-05 1.31e-05 <b>1.26e-05</b></p><p>1.32e-07 <b>1.32e-07</b> 1.37e-07&emsp;&emsp;&emsp;&emsp;&emsp;&emsp;&emsp;&emsp;<b>1.71e-07</b> 1.73e-07 1.76e-07&emsp;&emsp;&emsp;&emsp;&emsp;&emsp;&emsp;&emsp;3.38e-05 3.38e-05 <b>3.16e-05</b></p><p>3.20e-07 3.25e-07 <b>3.11e-07</b>&emsp;&emsp;&emsp;&emsp;&emsp;&emsp;&emsp;&emsp;1.01e-07 1.01e-07 <b>9.61e-08</b>&emsp;&emsp;&emsp;&emsp;&emsp;&emsp;&emsp;&emsp;1.19e-05 1.19e-05 <b>1.01e-05</b></p><p>4.62e-08 4.59e-08 <b>4.08e-08</b>&emsp;&emsp;&emsp;&emsp;&emsp;&emsp;&emsp;&emsp;3.81e-08 3.93e-08 <b>3.73e-08</b>&emsp;&emsp;&emsp;&emsp;&emsp;&emsp;&emsp;&emsp;4.01e-05 4.02e-05 <b>3.87e-05</b></p><p>5.70e-08 5.69e-08 <b>5.69e-08</b>&emsp;&emsp;&emsp;&emsp;&emsp;&emsp;&emsp;&emsp;2.66e-09 2.67e-09 <b>1.22e-10</b>&emsp;&emsp;&emsp;&emsp;&emsp;&emsp;&emsp;&emsp;4.00e-05 4.00e-05 <b>3.88e-05</b></p><p>2.58e-07 2.59e-07 <b>2.57e-07</b>&emsp;&emsp;&emsp;&emsp;&emsp;&emsp;&emsp;&emsp;7.51e-08 7.60e-08 <b>7.50e-08</b>&emsp;&emsp;&emsp;&emsp;&emsp;&emsp;&emsp;&emsp;2.86e-05 2.86e-05 <b>2.75e-05</b></p><p>1.32e-07 <b>1.32e-07</b> 1.37e-07&emsp;&emsp;&emsp;&emsp;&emsp;&emsp;&emsp;&emsp;<b>1.71e-07</b> 1.73e-07 1.76e-07&emsp;&emsp;&emsp;&emsp;&emsp;&emsp;&emsp;&emsp;3.38e-05 3.38e-05 <b>3.16e-05</b></p><p>2.58e-07 2.59e-07 <b>2.57e-07</b>&emsp;&emsp;&emsp;&emsp;&emsp;&emsp;&emsp;&emsp;7.51e-08 7.60e-08 <b>7.50e-08</b>&emsp;&emsp;&emsp;&emsp;&emsp;&emsp;&emsp;&emsp;2.86e-05 2.86e-05 <b>2.75e-05</b></p><p>9.96e-08 1.01e-07 <b>9.84e-08</b>&emsp;&emsp;&emsp;&emsp;&emsp;&emsp;&emsp;&emsp;1.49e-08 1.54e-08 <b>1.13e-08</b>&emsp;&emsp;&emsp;&emsp;&emsp;&emsp;&emsp;&emsp;3.88e-05 3.89e-05 <b>3.70e-05</b></p><p>9.96e-08 1.01e-07 <b>9.84e-08</b>&emsp;&emsp;&emsp;&emsp;&emsp;&emsp;&emsp;&emsp;1.49e-08 1.54e-08 <b>1.13e-08</b>&emsp;&emsp;&emsp;&emsp;&emsp;&emsp;&emsp;&emsp;3.88e-05 3.89e-05 <b>3.70e-05</b></p><p>1.82e-08 1.21e-08 <b>1.07e-08</b>&emsp;&emsp;&emsp;&emsp;&emsp;&emsp;&emsp;&emsp;1.05e-07 <b>1.02e-07</b> 1.03e-07&emsp;&emsp;&emsp;&emsp;&emsp;&emsp;&emsp;&emsp;1.39e-05 1.39e-05 <b>1.37e-05</b></p><p>5.70e-08 5.69e-08 <b>5.69e-08</b>&emsp;&emsp;&emsp;&emsp;&emsp;&emsp;&emsp;&emsp;2.66e-09 2.67e-09 <b>1.22e-10</b>&emsp;&emsp;&emsp;&emsp;&emsp;&emsp;&emsp;&emsp;4.00e-05 4.00e-05 <b>3.88e-05</b></p><p><b>1.96e-07</b> 1.96e-07 2.03e-07&emsp;&emsp;&emsp;&emsp;&emsp;&emsp;&emsp;&emsp;<b>2.30e-07</b> 2.30e-07 2.32e-07&emsp;&emsp;&emsp;&emsp;&emsp;&emsp;&emsp;&emsp;1.38e-05 1.39e-05 <b>9.85e-06</b></p><p>1.32e-07 <b>1.32e-07</b> 1.37e-07&emsp;&emsp;&emsp;&emsp;&emsp;&emsp;&emsp;&emsp;<b>1.71e-07</b> 1.73e-07 1.76e-07&emsp;&emsp;&emsp;&emsp;&emsp;&emsp;&emsp;&emsp;3.38e-05 3.38e-05 <b>3.16e-05</b></p><p>2.66e-08 2.61e-08 <b>2.18e-08</b>&emsp;&emsp;&emsp;&emsp;&emsp;&emsp;&emsp;&emsp;2.10e-08 2.09e-08 <b>1.99e-08</b>&emsp;&emsp;&emsp;&emsp;&emsp;&emsp;&emsp;&emsp;4.04e-05 4.04e-05 <b>3.91e-05</b></p><p>2.66e-08 2.61e-08 <b>2.18e-08</b>&emsp;&emsp;&emsp;&emsp;&emsp;&emsp;&emsp;&emsp;2.10e-08 2.09e-08 <b>1.99e-08</b>&emsp;&emsp;&emsp;&emsp;&emsp;&emsp;&emsp;&emsp;4.04e-05 4.04e-05 <b>3.91e-05</b></p><p>4.15e-07 4.13e-07 <b>4.12e-07</b>&emsp;&emsp;&emsp;&emsp;&emsp;&emsp;&emsp;&emsp;6.16e-08 6.13e-08 <b>5.49e-08</b>&emsp;&emsp;&emsp;&emsp;&emsp;&emsp;&emsp;&emsp;<b>1.06e-05</b> 1.07e-05 1.17e-05</p><p>2.11e-07 5.72e-08 <b>3.09e-08</b>&emsp;&emsp;&emsp;&emsp;&emsp;&emsp;&emsp;&emsp;2.02e-07 1.25e-07 <b>9.35e-08</b>&emsp;&emsp;&emsp;&emsp;&emsp;&emsp;&emsp;&emsp;1.36e-05 1.31e-05 <b>1.26e-05</b></p><p>5.05e-07 <b>5.03e-07</b> 5.10e-07&emsp;&emsp;&emsp;&emsp;&emsp;&emsp;&emsp;&emsp;1.41e-07 1.41e-07 <b>1.41e-07</b>&emsp;&emsp;&emsp;&emsp;&emsp;&emsp;&emsp;&emsp;1.93e-05 1.95e-05 <b>1.70e-05</b></p><p>2.66e-08 2.61e-08 <b>2.18e-08</b>&emsp;&emsp;&emsp;&emsp;&emsp;&emsp;&emsp;&emsp;2.10e-08 2.09e-08 <b>1.99e-08</b>&emsp;&emsp;&emsp;&emsp;&emsp;&emsp;&emsp;&emsp;4.04e-05 4.04e-05 <b>3.91e-05</b></p><p>2.01e-07 <b>9.98e-08</b> 1.78e-07&emsp;&emsp;&emsp;&emsp;&emsp;&emsp;&emsp;&emsp;2.27e-07 <b>1.22e-07</b> 1.24e-07&emsp;&emsp;&emsp;&emsp;&emsp;&emsp;&emsp;&emsp;8.07e-06 <b>4.58e-06</b> 8.94e-06</p><p><b>5.70e-09</b> 1.13e-08 1.36e-08&emsp;&emsp;&emsp;&emsp;&emsp;&emsp;&emsp;&emsp;<b>9.87e-08</b> 9.95e-08 1.06e-07&emsp;&emsp;&emsp;&emsp;&emsp;&emsp;&emsp;&emsp;3.56e-05 3.56e-05 <b>3.48e-05</b></p><p><b>4.50e-08</b> 4.93e-08 4.93e-08&emsp;&emsp;&emsp;&emsp;&emsp;&emsp;&emsp;&emsp;1.65e-07 1.65e-07 <b>1.57e-07</b>&emsp;&emsp;&emsp;&emsp;&emsp;&emsp;&emsp;&emsp;1.31e-05 1.32e-05 <b>1.13e-05</b></p><p><b>5.70e-09</b> 1.13e-08 1.36e-08&emsp;&emsp;&emsp;&emsp;&emsp;&emsp;&emsp;&emsp;<b>9.87e-08</b> 9.95e-08 1.06e-07&emsp;&emsp;&emsp;&emsp;&emsp;&emsp;&emsp;&emsp;3.56e-05 3.56e-05 <b>3.48e-05</b></p><p>5.70e-08 5.69e-08 <b>5.69e-08</b>&emsp;&emsp;&emsp;&emsp;&emsp;&emsp;&emsp;&emsp;2.66e-09 2.67e-09 <b>1.22e-10</b>&emsp;&emsp;&emsp;&emsp;&emsp;&emsp;&emsp;&emsp;4.00e-05 4.00e-05 <b>3.88e-05</b></p><p>9.96e-08 1.01e-07 <b>9.84e-08</b>&emsp;&emsp;&emsp;&emsp;&emsp;&emsp;&emsp;&emsp;1.49e-08 1.54e-08 <b>1.13e-08</b>&emsp;&emsp;&emsp;&emsp;&emsp;&emsp;&emsp;&emsp;3.88e-05 3.89e-05 <b>3.70e-05</b></p><p><b>1.92e-07</b> 1.92e-07 2.00e-07&emsp;&emsp;&emsp;&emsp;&emsp;&emsp;&emsp;&emsp;<b>1.04e-07</b> 1.06e-07 1.11e-07&emsp;&emsp;&emsp;&emsp;&emsp;&emsp;&emsp;&emsp;3.84e-05 <b>3.84e-05</b> 3.85e-05</p><p>1.17e-07 <b>1.17e-07</b> 1.20e-07&emsp;&emsp;&emsp;&emsp;&emsp;&emsp;&emsp;&emsp;<b>2.58e-07</b> 2.61e-07 2.60e-07&emsp;&emsp;&emsp;&emsp;&emsp;&emsp;&emsp;&emsp;1.58e-05 <b>1.57e-05</b> 1.59e-05</p><p>2.11e-07 5.72e-08 <b>3.09e-08</b>&emsp;&emsp;&emsp;&emsp;&emsp;&emsp;&emsp;&emsp;2.02e-07 1.25e-07 <b>9.35e-08</b>&emsp;&emsp;&emsp;&emsp;&emsp;&emsp;&emsp;&emsp;1.36e-05 1.31e-05 <b>1.26e-05</b></p><p>2.76e-07 2.76e-07 <b>2.70e-07</b>&emsp;&emsp;&emsp;&emsp;&emsp;&emsp;&emsp;&emsp;<b>2.78e-07</b> 2.80e-07 2.79e-07&emsp;&emsp;&emsp;&emsp;&emsp;&emsp;&emsp;&emsp;8.53e-06 8.46e-06 <b>7.41e-06</b></p><p>5.70e-08 5.69e-08 <b>5.69e-08</b>&emsp;&emsp;&emsp;&emsp;&emsp;&emsp;&emsp;&emsp;2.66e-09 2.67e-09 <b>1.22e-10</b>&emsp;&emsp;&emsp;&emsp;&emsp;&emsp;&emsp;&emsp;4.00e-05 4.00e-05 <b>3.88e-05</b></p><p>5.80e-08 5.57e-08 <b>5.04e-08</b>&emsp;&emsp;&emsp;&emsp;&emsp;&emsp;&emsp;&emsp;<b>1.43e-07</b> 1.47e-07 1.51e-07&emsp;&emsp;&emsp;&emsp;&emsp;&emsp;&emsp;&emsp;3.59e-05 3.59e-05 <b>3.53e-05</b></p><p>2.66e-08 2.61e-08 <b>2.18e-08</b>&emsp;&emsp;&emsp;&emsp;&emsp;&emsp;&emsp;&emsp;2.10e-08 2.09e-08 <b>1.99e-08</b>&emsp;&emsp;&emsp;&emsp;&emsp;&emsp;&emsp;&emsp;4.04e-05 4.04e-05 <b>3.91e-05</b></p><p>1.12e-07 1.10e-07 <b>1.04e-07</b>&emsp;&emsp;&emsp;&emsp;&emsp;&emsp;&emsp;&emsp;<b>1.67e-07</b> 1.68e-07 1.73e-07&emsp;&emsp;&emsp;&emsp;&emsp;&emsp;&emsp;&emsp;3.30e-05 3.30e-05 <b>3.09e-05</b></p><p>3.20e-07 3.25e-07 <b>3.11e-07</b>&emsp;&emsp;&emsp;&emsp;&emsp;&emsp;&emsp;&emsp;1.01e-07 1.01e-07 <b>9.61e-08</b>&emsp;&emsp;&emsp;&emsp;&emsp;&emsp;&emsp;&emsp;1.19e-05 1.19e-05 <b>1.01e-05</b></p><p>2.58e-07 2.59e-07 <b>2.57e-07</b>&emsp;&emsp;&emsp;&emsp;&emsp;&emsp;&emsp;&emsp;7.51e-08 7.60e-08 <b>7.50e-08</b>&emsp;&emsp;&emsp;&emsp;&emsp;&emsp;&emsp;&emsp;2.86e-05 2.86e-05 <b>2.75e-05</b></p><p>9.96e-08 1.01e-07 <b>9.84e-08</b>&emsp;&emsp;&emsp;&emsp;&emsp;&emsp;&emsp;&emsp;1.49e-08 1.54e-08 <b>1.13e-08</b>&emsp;&emsp;&emsp;&emsp;&emsp;&emsp;&emsp;&emsp;3.88e-05 3.89e-05 <b>3.70e-05</b></p><p>2.66e-08 2.61e-08 <b>2.18e-08</b>&emsp;&emsp;&emsp;&emsp;&emsp;&emsp;&emsp;&emsp;2.10e-08 2.09e-08 <b>1.99e-08</b>&emsp;&emsp;&emsp;&emsp;&emsp;&emsp;&emsp;&emsp;4.04e-05 4.04e-05 <b>3.91e-05</b></p><p>5.70e-08 5.69e-08 <b>5.69e-08</b>&emsp;&emsp;&emsp;&emsp;&emsp;&emsp;&emsp;&emsp;2.66e-09 2.67e-09 <b>1.22e-10</b>&emsp;&emsp;&emsp;&emsp;&emsp;&emsp;&emsp;&emsp;4.00e-05 4.00e-05 <b>3.88e-05</b></p><p>3.20e-07 3.25e-07 <b>3.11e-07</b>&emsp;&emsp;&emsp;&emsp;&emsp;&emsp;&emsp;&emsp;1.01e-07 1.01e-07 <b>9.61e-08</b>&emsp;&emsp;&emsp;&emsp;&emsp;&emsp;&emsp;&emsp;1.19e-05 1.19e-05 <b>1.01e-05</b></p><p>3.06e-08 <b>3.04e-08</b> 3.74e-08&emsp;&emsp;&emsp;&emsp;&emsp;&emsp;&emsp;&emsp;2.15e-08 2.17e-08 <b>2.08e-08</b>&emsp;&emsp;&emsp;&emsp;&emsp;&emsp;&emsp;&emsp;4.02e-05 4.02e-05 <b>3.78e-05</b></p><p><b>5.70e-09</b> 1.13e-08 1.36e-08&emsp;&emsp;&emsp;&emsp;&emsp;&emsp;&emsp;&emsp;<b>9.87e-08</b> 9.95e-08 1.06e-07&emsp;&emsp;&emsp;&emsp;&emsp;&emsp;&emsp;&emsp;3.56e-05 3.56e-05 <b>3.48e-05</b></p><p>2.58e-07 2.59e-07 <b>2.57e-07</b>&emsp;&emsp;&emsp;&emsp;&emsp;&emsp;&emsp;&emsp;7.51e-08 7.60e-08 <b>7.50e-08</b>&emsp;&emsp;&emsp;&emsp;&emsp;&emsp;&emsp;&emsp;2.86e-05 2.86e-05 <b>2.75e-05</b></p><p>4.62e-08 4.59e-08 <b>4.08e-08</b>&emsp;&emsp;&emsp;&emsp;&emsp;&emsp;&emsp;&emsp;3.81e-08 3.93e-08 <b>3.73e-08</b>&emsp;&emsp;&emsp;&emsp;&emsp;&emsp;&emsp;&emsp;4.01e-05 4.02e-05 <b>3.87e-05</b></p><p>2.66e-08 2.61e-08 <b>2.18e-08</b>&emsp;&emsp;&emsp;&emsp;&emsp;&emsp;&emsp;&emsp;2.10e-08 2.09e-08 <b>1.99e-08</b>&emsp;&emsp;&emsp;&emsp;&emsp;&emsp;&emsp;&emsp;4.04e-05 4.04e-05 <b>3.91e-05</b></p><p>3.97e-08 <b>3.71e-08</b> 3.79e-08&emsp;&emsp;&emsp;&emsp;&emsp;&emsp;&emsp;&emsp;<b>1.28e-07</b> 1.32e-07 1.30e-07&emsp;&emsp;&emsp;&emsp;&emsp;&emsp;&emsp;&emsp;<b>3.44e-05</b> 3.44e-05 3.50e-05</p><p>1.82e-08 1.21e-08 <b>1.07e-08</b>&emsp;&emsp;&emsp;&emsp;&emsp;&emsp;&emsp;&emsp;1.05e-07 <b>1.02e-07</b> 1.03e-07&emsp;&emsp;&emsp;&emsp;&emsp;&emsp;&emsp;&emsp;1.39e-05 1.39e-05 <b>1.37e-05</b></p><p><b>1.92e-07</b> 1.92e-07 2.00e-07&emsp;&emsp;&emsp;&emsp;&emsp;&emsp;&emsp;&emsp;<b>1.04e-07</b> 1.06e-07 1.11e-07&emsp;&emsp;&emsp;&emsp;&emsp;&emsp;&emsp;&emsp;3.84e-05 <b>3.84e-05</b> 3.85e-05</p><p>2.11e-07 5.72e-08 <b>3.09e-08</b>&emsp;&emsp;&emsp;&emsp;&emsp;&emsp;&emsp;&emsp;2.02e-07 1.25e-07 <b>9.35e-08</b>&emsp;&emsp;&emsp;&emsp;&emsp;&emsp;&emsp;&emsp;1.36e-05 1.31e-05 <b>1.26e-05</b></p><p>2.11e-07 5.72e-08 <b>3.09e-08</b>&emsp;&emsp;&emsp;&emsp;&emsp;&emsp;&emsp;&emsp;2.02e-07 1.25e-07 <b>9.35e-08</b>&emsp;&emsp;&emsp;&emsp;&emsp;&emsp;&emsp;&emsp;1.36e-05 1.31e-05 <b>1.26e-05</b></p><p>2.58e-07 2.59e-07 <b>2.57e-07</b>&emsp;&emsp;&emsp;&emsp;&emsp;&emsp;&emsp;&emsp;7.51e-08 7.60e-08 <b>7.50e-08</b>&emsp;&emsp;&emsp;&emsp;&emsp;&emsp;&emsp;&emsp;2.86e-05 2.86e-05 <b>2.75e-05</b></p><p>4.62e-08 4.59e-08 <b>4.08e-08</b>&emsp;&emsp;&emsp;&emsp;&emsp;&emsp;&emsp;&emsp;3.81e-08 3.93e-08 <b>3.73e-08</b>&emsp;&emsp;&emsp;&emsp;&emsp;&emsp;&emsp;&emsp;4.01e-05 4.02e-05 <b>3.87e-05</b></p><p>2.58e-07 2.59e-07 <b>2.57e-07</b>&emsp;&emsp;&emsp;&emsp;&emsp;&emsp;&emsp;&emsp;7.51e-08 7.60e-08 <b>7.50e-08</b>&emsp;&emsp;&emsp;&emsp;&emsp;&emsp;&emsp;&emsp;2.86e-05 2.86e-05 <b>2.75e-05</b></p><p>5.05e-07 <b>5.03e-07</b> 5.10e-07&emsp;&emsp;&emsp;&emsp;&emsp;&emsp;&emsp;&emsp;1.41e-07 1.41e-07 <b>1.41e-07</b>&emsp;&emsp;&emsp;&emsp;&emsp;&emsp;&emsp;&emsp;1.93e-05 1.95e-05 <b>1.70e-05</b></p><p>2.11e-07 5.72e-08 <b>3.09e-08</b>&emsp;&emsp;&emsp;&emsp;&emsp;&emsp;&emsp;&emsp;2.02e-07 1.25e-07 <b>9.35e-08</b>&emsp;&emsp;&emsp;&emsp;&emsp;&emsp;&emsp;&emsp;1.36e-05 1.31e-05 <b>1.26e-05</b></p><p>1.12e-07 1.10e-07 <b>1.04e-07</b>&emsp;&emsp;&emsp;&emsp;&emsp;&emsp;&emsp;&emsp;<b>1.67e-07</b> 1.68e-07 1.73e-07&emsp;&emsp;&emsp;&emsp;&emsp;&emsp;&emsp;&emsp;3.30e-05 3.30e-05 <b>3.09e-05</b></p><p>1.12e-07 1.10e-07 <b>1.04e-07</b>&emsp;&emsp;&emsp;&emsp;&emsp;&emsp;&emsp;&emsp;<b>1.67e-07</b> 1.68e-07 1.73e-07&emsp;&emsp;&emsp;&emsp;&emsp;&emsp;&emsp;&emsp;3.30e-05 3.30e-05 <b>3.09e-05</b></p><p>1.32e-07 <b>1.32e-07</b> 1.37e-07&emsp;&emsp;&emsp;&emsp;&emsp;&emsp;&emsp;&emsp;<b>1.71e-07</b> 1.73e-07 1.76e-07&emsp;&emsp;&emsp;&emsp;&emsp;&emsp;&emsp;&emsp;3.38e-05 3.38e-05 <b>3.16e-05</b></p><p>4.15e-07 4.13e-07 <b>4.12e-07</b>&emsp;&emsp;&emsp;&emsp;&emsp;&emsp;&emsp;&emsp;6.16e-08 6.13e-08 <b>5.49e-08</b>&emsp;&emsp;&emsp;&emsp;&emsp;&emsp;&emsp;&emsp;<b>1.06e-05</b> 1.07e-05 1.17e-05</p><p>3.97e-08 <b>3.71e-08</b> 3.79e-08&emsp;&emsp;&emsp;&emsp;&emsp;&emsp;&emsp;&emsp;<b>1.28e-07</b> 1.32e-07 1.30e-07&emsp;&emsp;&emsp;&emsp;&emsp;&emsp;&emsp;&emsp;<b>3.44e-05</b> 3.44e-05 3.50e-05</p><p>1.82e-08 1.21e-08 <b>1.07e-08</b>&emsp;&emsp;&emsp;&emsp;&emsp;&emsp;&emsp;&emsp;1.05e-07 <b>1.02e-07</b> 1.03e-07&emsp;&emsp;&emsp;&emsp;&emsp;&emsp;&emsp;&emsp;1.39e-05 1.39e-05 <b>1.37e-05</b></p><p>2.76e-07 2.76e-07 <b>2.70e-07</b>&emsp;&emsp;&emsp;&emsp;&emsp;&emsp;&emsp;&emsp;<b>2.78e-07</b> 2.80e-07 2.79e-07&emsp;&emsp;&emsp;&emsp;&emsp;&emsp;&emsp;&emsp;8.53e-06 8.46e-06 <b>7.41e-06</b></p><p>9.96e-08 1.01e-07 <b>9.84e-08</b>&emsp;&emsp;&emsp;&emsp;&emsp;&emsp;&emsp;&emsp;1.49e-08 1.54e-08 <b>1.13e-08</b>&emsp;&emsp;&emsp;&emsp;&emsp;&emsp;&emsp;&emsp;3.88e-05 3.89e-05 <b>3.70e-05</b></p><p>4.62e-08 4.59e-08 <b>4.08e-08</b>&emsp;&emsp;&emsp;&emsp;&emsp;&emsp;&emsp;&emsp;3.81e-08 3.93e-08 <b>3.73e-08</b>&emsp;&emsp;&emsp;&emsp;&emsp;&emsp;&emsp;&emsp;4.01e-05 4.02e-05 <b>3.87e-05</b></p><p>3.97e-08 <b>3.71e-08</b> 3.79e-08&emsp;&emsp;&emsp;&emsp;&emsp;&emsp;&emsp;&emsp;<b>1.28e-07</b> 1.32e-07 1.30e-07&emsp;&emsp;&emsp;&emsp;&emsp;&emsp;&emsp;&emsp;<b>3.44e-05</b> 3.44e-05 3.50e-05</p><p><b>5.70e-09</b> 1.13e-08 1.36e-08&emsp;&emsp;&emsp;&emsp;&emsp;&emsp;&emsp;&emsp;<b>9.87e-08</b> 9.95e-08 1.06e-07&emsp;&emsp;&emsp;&emsp;&emsp;&emsp;&emsp;&emsp;3.56e-05 3.56e-05 <b>3.48e-05</b></p><p>3.97e-08 <b>3.71e-08</b> 3.79e-08&emsp;&emsp;&emsp;&emsp;&emsp;&emsp;&emsp;&emsp;<b>1.28e-07</b> 1.32e-07 1.30e-07&emsp;&emsp;&emsp;&emsp;&emsp;&emsp;&emsp;&emsp;<b>3.44e-05</b> 3.44e-05 3.50e-05</p><p>5.80e-08 5.57e-08 <b>5.04e-08</b>&emsp;&emsp;&emsp;&emsp;&emsp;&emsp;&emsp;&emsp;<b>1.43e-07</b> 1.47e-07 1.51e-07&emsp;&emsp;&emsp;&emsp;&emsp;&emsp;&emsp;&emsp;3.59e-05 3.59e-05 <b>3.53e-05</b></p><p>3.06e-08 <b>3.04e-08</b> 3.74e-08&emsp;&emsp;&emsp;&emsp;&emsp;&emsp;&emsp;&emsp;2.15e-08 2.17e-08 <b>2.08e-08</b>&emsp;&emsp;&emsp;&emsp;&emsp;&emsp;&emsp;&emsp;4.02e-05 4.02e-05 <b>3.78e-05</b></p><p>4.62e-08 4.59e-08 <b>4.08e-08</b>&emsp;&emsp;&emsp;&emsp;&emsp;&emsp;&emsp;&emsp;3.81e-08 3.93e-08 <b>3.73e-08</b>&emsp;&emsp;&emsp;&emsp;&emsp;&emsp;&emsp;&emsp;4.01e-05 4.02e-05 <b>3.87e-05</b></p><p>4.62e-08 4.59e-08 <b>4.08e-08</b>&emsp;&emsp;&emsp;&emsp;&emsp;&emsp;&emsp;&emsp;3.81e-08 3.93e-08 <b>3.73e-08</b>&emsp;&emsp;&emsp;&emsp;&emsp;&emsp;&emsp;&emsp;4.01e-05 4.02e-05 <b>3.87e-05</b></p><p>2.11e-07 5.72e-08 <b>3.09e-08</b>&emsp;&emsp;&emsp;&emsp;&emsp;&emsp;&emsp;&emsp;2.02e-07 1.25e-07 <b>9.35e-08</b>&emsp;&emsp;&emsp;&emsp;&emsp;&emsp;&emsp;&emsp;1.36e-05 1.31e-05 <b>1.26e-05</b></p><p><b>5.70e-09</b> 1.13e-08 1.36e-08&emsp;&emsp;&emsp;&emsp;&emsp;&emsp;&emsp;&emsp;<b>9.87e-08</b> 9.95e-08 1.06e-07&emsp;&emsp;&emsp;&emsp;&emsp;&emsp;&emsp;&emsp;3.56e-05 3.56e-05 <b>3.48e-05</b></p><p>2.66e-08 2.61e-08 <b>2.18e-08</b>&emsp;&emsp;&emsp;&emsp;&emsp;&emsp;&emsp;&emsp;2.10e-08 2.09e-08 <b>1.99e-08</b>&emsp;&emsp;&emsp;&emsp;&emsp;&emsp;&emsp;&emsp;4.04e-05 4.04e-05 <b>3.91e-05</b></p><p>9.96e-08 1.01e-07 <b>9.84e-08</b>&emsp;&emsp;&emsp;&emsp;&emsp;&emsp;&emsp;&emsp;1.49e-08 1.54e-08 <b>1.13e-08</b>&emsp;&emsp;&emsp;&emsp;&emsp;&emsp;&emsp;&emsp;3.88e-05 3.89e-05 <b>3.70e-05</b></p><p>5.05e-07 <b>5.03e-07</b> 5.10e-07&emsp;&emsp;&emsp;&emsp;&emsp;&emsp;&emsp;&emsp;1.41e-07 1.41e-07 <b>1.41e-07</b>&emsp;&emsp;&emsp;&emsp;&emsp;&emsp;&emsp;&emsp;1.93e-05 1.95e-05 <b>1.70e-05</b></p><p><b>1.92e-07</b> 1.92e-07 2.00e-07&emsp;&emsp;&emsp;&emsp;&emsp;&emsp;&emsp;&emsp;<b>1.04e-07</b> 1.06e-07 1.11e-07&emsp;&emsp;&emsp;&emsp;&emsp;&emsp;&emsp;&emsp;3.84e-05 <b>3.84e-05</b> 3.85e-05</p><p><b>5.70e-09</b> 1.13e-08 1.36e-08&emsp;&emsp;&emsp;&emsp;&emsp;&emsp;&emsp;&emsp;<b>9.87e-08</b> 9.95e-08 1.06e-07&emsp;&emsp;&emsp;&emsp;&emsp;&emsp;&emsp;&emsp;3.56e-05 3.56e-05 <b>3.48e-05</b></p><p><b>1.92e-07</b> 1.92e-07 2.00e-07&emsp;&emsp;&emsp;&emsp;&emsp;&emsp;&emsp;&emsp;<b>1.04e-07</b> 1.06e-07 1.11e-07&emsp;&emsp;&emsp;&emsp;&emsp;&emsp;&emsp;&emsp;3.84e-05 <b>3.84e-05</b> 3.85e-05</p><p>4.62e-08 4.59e-08 <b>4.08e-08</b>&emsp;&emsp;&emsp;&emsp;&emsp;&emsp;&emsp;&emsp;3.81e-08 3.93e-08 <b>3.73e-08</b>&emsp;&emsp;&emsp;&emsp;&emsp;&emsp;&emsp;&emsp;4.01e-05 4.02e-05 <b>3.87e-05</b></p><p>1.82e-08 1.21e-08 <b>1.07e-08</b>&emsp;&emsp;&emsp;&emsp;&emsp;&emsp;&emsp;&emsp;1.05e-07 <b>1.02e-07</b> 1.03e-07&emsp;&emsp;&emsp;&emsp;&emsp;&emsp;&emsp;&emsp;1.39e-05 1.39e-05 <b>1.37e-05</b></p><p>1.32e-07 <b>1.32e-07</b> 1.37e-07&emsp;&emsp;&emsp;&emsp;&emsp;&emsp;&emsp;&emsp;<b>1.71e-07</b> 1.73e-07 1.76e-07&emsp;&emsp;&emsp;&emsp;&emsp;&emsp;&emsp;&emsp;3.38e-05 3.38e-05 <b>3.16e-05</b></p><p>5.70e-08 5.69e-08 <b>5.69e-08</b>&emsp;&emsp;&emsp;&emsp;&emsp;&emsp;&emsp;&emsp;2.66e-09 2.67e-09 <b>1.22e-10</b>&emsp;&emsp;&emsp;&emsp;&emsp;&emsp;&emsp;&emsp;4.00e-05 4.00e-05 <b>3.88e-05</b></p><p>3.06e-08 <b>3.04e-08</b> 3.74e-08&emsp;&emsp;&emsp;&emsp;&emsp;&emsp;&emsp;&emsp;2.15e-08 2.17e-08 <b>2.08e-08</b>&emsp;&emsp;&emsp;&emsp;&emsp;&emsp;&emsp;&emsp;4.02e-05 4.02e-05 <b>3.78e-05</b></p><p>2.01e-07 <b>9.98e-08</b> 1.78e-07&emsp;&emsp;&emsp;&emsp;&emsp;&emsp;&emsp;&emsp;2.27e-07 <b>1.22e-07</b> 1.24e-07&emsp;&emsp;&emsp;&emsp;&emsp;&emsp;&emsp;&emsp;8.07e-06 <b>4.58e-06</b> 8.94e-06</p><p></p><p>0.13&emsp;0.22&emsp;0.65&emsp;&emsp;&emsp;&emsp;&emsp;&emsp;&emsp;&emsp;&emsp;&emsp;&emsp;&emsp;&emsp;&emsp;0.34&emsp;0.07&emsp;0.59&emsp;&emsp;&emsp;&emsp;&emsp;&emsp;&emsp;&emsp;&emsp;&emsp;&emsp;&emsp;&emsp;&emsp;0.08&emsp;0.08&emsp;0.84</p>"
      ],
      "text/plain": [
       "<IPython.core.display.HTML object>"
      ]
     },
     "execution_count": 9,
     "metadata": {},
     "output_type": "execute_result"
    }
   ],
   "source": [
    "%run interp_studies.py\n",
    "header = 'Quad&emsp;&emsp;&emsp;Lin&emsp;&emsp;&emsp;RBF'\n",
    "spaces = '&emsp;&emsp;&emsp;&emsp;&emsp;&emsp;&emsp;&emsp;&emsp;&emsp;'\n",
    "out='<p>'+header+spaces+header+spaces+header+'</p>'\n",
    "buffer = 100\n",
    "counter = 0\n",
    "print '\\tBx\\t\\t\\tBy\\t\\t\\tBz'\n",
    "samples = 100\n",
    "wins_bx = [0,0,0]\n",
    "wins_by = [0,0,0]\n",
    "wins_bz = [0,0,0]\n",
    "for i in xrange(samples):\n",
    "#for i in xrange(13,14):\n",
    "    my_rand = df_rand_subset.sample(1,random_state=i+10)\n",
    "    df_subset = df.query('{0}<=X<={1} and {2}<=Y<={3} and {4}<=Z<={5}'.format(\n",
    "        my_rand.X.values-buffer, my_rand.X.values+buffer, my_rand.Y.values-buffer, my_rand.Y.values+buffer, my_rand.Z.values-buffer, my_rand.Z.values+buffer))\n",
    "    x = df_subset.X\n",
    "    y = df_subset.Y\n",
    "    z = df_subset.Z\n",
    "    r = df_subset.R\n",
    "    phi = df_subset.Phi\n",
    "    bz = df_subset.Bz\n",
    "    bx = df_subset.Bx\n",
    "    by = df_subset.By\n",
    "    b_out_true = []\n",
    "    b_out_true.append(my_rand.Bx.values)\n",
    "    b_out_true.append(my_rand.By.values)\n",
    "    b_out_true.append(my_rand.Bz.values)\n",
    "    \n",
    "    b_out_rbf = []\n",
    "    rbf_bx = Rbf(x, y, z, bx, function='linear', )#epsilon=9)\n",
    "    rbf_by = Rbf(x, y, z, by, function='linear', )#epsilon=9)\n",
    "    rbf_bz = Rbf(x, y, z, bz, function='linear', )#epsilon=9)\n",
    "    b_out_rbf.append(rbf_bx(my_rand.X, my_rand.Y, my_rand.Z))\n",
    "    b_out_rbf.append(rbf_by(my_rand.X, my_rand.Y, my_rand.Z))\n",
    "    b_out_rbf.append(rbf_bz(my_rand.X, my_rand.Y, my_rand.Z))\n",
    "    \n",
    "    res_rbf = []\n",
    "    res_rbf.append(abs(b_out_rbf[0]-b_out_true[0])[0])\n",
    "    res_rbf.append(abs(b_out_rbf[1]-b_out_true[1])[0])\n",
    "    res_rbf.append(abs(b_out_rbf[2]-b_out_true[2])[0])\n",
    "    \n",
    "    _, b_out_lin = interp_phi(df_subset, my_rand.X.values, my_rand.Y.values, my_rand.Z.values, plot=False)\n",
    "    res_lin = []\n",
    "    res_lin.append(abs(b_out_lin[0]-b_out_true[0])[0])\n",
    "    res_lin.append(abs(b_out_lin[1]-b_out_true[1])[0])\n",
    "    res_lin.append(abs(b_out_lin[2]-b_out_true[2])[0])\n",
    "    \n",
    "    _, b_out_quad = interp_phi_quad(df_subset, my_rand.X.values, my_rand.Y.values, my_rand.Z.values, plot=False)\n",
    "    res_quad = []\n",
    "    res_quad.append(abs(b_out_quad[0]-b_out_true[0])[0])\n",
    "    res_quad.append(abs(b_out_quad[1]-b_out_true[1])[0])\n",
    "    res_quad.append(abs(b_out_quad[2]-b_out_true[2])[0])\n",
    "    \n",
    "    \n",
    "    #if (res_x>1e-4) or (res_y>1e-4) or (res_z>1e-4):\n",
    "    if (res_quad[0]>1e-4 or res_quad[1]>1e-4 or res_quad[2]>1e-4):\n",
    "    #    print 'bad interp:'\n",
    "    #    print '\\ttrue:'\n",
    "    #    print '\\t\\t{0:.4e} {1:.4e} {2:.4e}'.format(my_rand.Bx.values[0], my_rand.By.values[0], my_rand.Bz.values[0])\n",
    "    #    print '\\tLaceyQuad:'\n",
    "    #    print '\\t\\t{0:.4e} {1:.4e} {2:.4e}'.format(b_out[0][0], b_out[1][0], b_out[2][0])\n",
    "    #    print '\\t\\t{0:.4e} {1:.4e} {2:.4e}'.format(res_lx[0], res_ly[0], res_lz[0])\n",
    "    #    print '\\tLacey:'\n",
    "    #    print '\\t\\t{0:.4e} {1:.4e} {2:.4e}'.format(b_outl[0][0], b_outl[1][0], b_outl[2][0])\n",
    "    #    print '\\t\\t{0:.4e} {1:.4e} {2:.4e}'.format(res_x[0], res_y[0], res_z[0])\n",
    "    #    print\n",
    "\n",
    "        counter +=1\n",
    "\n",
    "    if min(res_quad[0], res_lin[0], res_rbf[0]) == res_quad[0]:\n",
    "        px = '<b>{0:.2e}</b>'.format(res_quad[0]) + ' {0:.2e}'.format(res_lin[0]) + ' {0:.2e}'.format(res_rbf[0])\n",
    "        wins_bx[0]+=1\n",
    "    elif min(res_quad[0], res_lin[0], res_rbf[0]) == res_lin[0]:\n",
    "        px = '{0:.2e}'.format(res_quad[0]) + ' <b>{0:.2e}</b>'.format(res_lin[0]) + ' {0:.2e}'.format(res_rbf[0])\n",
    "        wins_bx[1]+=1\n",
    "    else:\n",
    "        px = '{0:.2e}'.format(res_quad[0]) + ' {0:.2e}'.format(res_lin[0]) + ' <b>{0:.2e}</b>'.format(res_rbf[0])\n",
    "        wins_bx[2]+=1\n",
    "        \n",
    "    if min(res_quad[1], res_lin[1], res_rbf[1]) == res_quad[1]:\n",
    "        py = '<b>{0:.2e}</b>'.format(res_quad[1]) + ' {0:.2e}'.format(res_lin[1]) + ' {0:.2e}'.format(res_rbf[1])\n",
    "        wins_by[0]+=1\n",
    "    elif min(res_quad[1], res_lin[1], res_rbf[1]) == res_lin[1]:\n",
    "        py = '{0:.2e}'.format(res_quad[1]) + ' <b>{0:.2e}</b>'.format(res_lin[1]) + ' {0:.2e}'.format(res_rbf[1])\n",
    "        wins_by[1]+=1\n",
    "    else:\n",
    "        py = '{0:.2e}'.format(res_quad[1]) + ' {0:.2e}'.format(res_lin[1]) + ' <b>{0:.2e}</b>'.format(res_rbf[1])\n",
    "        wins_by[2]+=1\n",
    "        \n",
    "    if min(res_quad[2], res_lin[2], res_rbf[2]) == res_quad[2]:\n",
    "        pz = '<b>{0:.2e}</b>'.format(res_quad[2]) + ' {0:.2e}'.format(res_lin[2]) + ' {0:.2e}'.format(res_rbf[2])\n",
    "        wins_bz[0]+=1\n",
    "    elif min(res_quad[2], res_lin[2], res_rbf[2]) == res_lin[2]:\n",
    "        pz = '{0:.2e}'.format(res_quad[2]) + ' <b>{0:.2e}</b>'.format(res_lin[2]) + ' {0:.2e}'.format(res_rbf[2])\n",
    "        wins_bz[1]+=1\n",
    "    else:\n",
    "        pz = '{0:.2e}'.format(res_quad[2]) + ' {0:.2e}'.format(res_lin[2]) + ' <b>{0:.2e}</b>'.format(res_rbf[2])\n",
    "        wins_bz[2]+=1\n",
    "        \n",
    "    out += '<p>'+px+'&emsp;&emsp;&emsp;&emsp;&emsp;&emsp;&emsp;&emsp;'+py+'&emsp;&emsp;&emsp;&emsp;&emsp;&emsp;&emsp;&emsp;'+pz+'</p>'\n",
    "wins_bx = [float(i)/samples for i in wins_bx]\n",
    "wins_by = [float(i)/samples for i in wins_by]\n",
    "wins_bz = [float(i)/samples for i in wins_bz]\n",
    "out += '<p></p>'\n",
    "out += '<p>{0:.2f}&emsp;{1:.2f}&emsp;{2:.2f}'.format(*wins_bx)\n",
    "out += spaces+'&emsp;&emsp;&emsp;&emsp;'\n",
    "out += '{0:.2f}&emsp;{1:.2f}&emsp;{2:.2f}'.format(*wins_by)\n",
    "out += spaces+'&emsp;&emsp;&emsp;&emsp;'\n",
    "out += '{0:.2f}&emsp;{1:.2f}&emsp;{2:.2f}</p>'.format(*wins_bz)\n",
    "\n",
    "print 'bads:', counter\n",
    "HTML(out)"
   ]
  },
  {
   "cell_type": "code",
   "execution_count": null,
   "metadata": {
    "collapsed": true
   },
   "outputs": [],
   "source": []
  },
  {
   "cell_type": "code",
   "execution_count": null,
   "metadata": {
    "collapsed": false
   },
   "outputs": [],
   "source": [
    "print np.asarray(res_lin)-np.asarray(res_quin)"
   ]
  },
  {
   "cell_type": "code",
   "execution_count": null,
   "metadata": {
    "collapsed": false
   },
   "outputs": [],
   "source": [
    "rbf_br = Rbf(r, phi, z, br,function='gaussian', norm=cylindrical_norm)\n",
    "i_br = rbf_br(df_rand_subset.R, df_rand_subset.Phi, df_rand_subset.Z)\n",
    "t_br = df_rand_subset.Br\n",
    "res =abs(i_br-t_br)\n",
    "max(res)"
   ]
  },
  {
   "cell_type": "code",
   "execution_count": null,
   "metadata": {
    "collapsed": false
   },
   "outputs": [],
   "source": [
    "rbf_bphi = Rbf(r, phi, z, bphi,function='quintic', norm=cylindrical_norm)\n",
    "i_bphi = rbf_bphi(df_rand_subset.R, df_rand_subset.Phi, df_rand_subset.Z)\n",
    "t_bphi = df_rand_subset.Bphi\n",
    "res =abs(i_bphi-t_bphi)\n",
    "max(res)"
   ]
  },
  {
   "cell_type": "code",
   "execution_count": 45,
   "metadata": {
    "collapsed": false
   },
   "outputs": [
    {
     "data": {
      "text/html": [
       "<b>1.18e-05</b> 1.91e-05"
      ],
      "text/plain": [
       "<IPython.core.display.HTML object>"
      ]
     },
     "execution_count": 45,
     "metadata": {},
     "output_type": "execute_result"
    }
   ],
   "source": [
    "px"
   ]
  },
  {
   "cell_type": "code",
   "execution_count": 17,
   "metadata": {
    "collapsed": false,
    "scrolled": false
   },
   "outputs": [
    {
     "name": "stdout",
     "output_type": "stream",
     "text": [
      "0.0 0.0 0.0\n"
     ]
    }
   ],
   "source": [
    "%run interp_studies.py\n",
    "#df_trimmed = interp_phi(df,25,25,9721)\n",
    "#df_trimmed = interp_phi(df, -59.6429, 46.756758, 10297.7840, df_alt=df_rand_subset)\n",
    "# df_trimmed, b_out = interp_phi(df, 50, 76, 10121)\n",
    "df_trimmed, bs = interp_phi_quad(df,25,25,9721, False)"
   ]
  },
  {
   "cell_type": "code",
   "execution_count": 18,
   "metadata": {
    "collapsed": false
   },
   "outputs": [
    {
     "name": "stdout",
     "output_type": "stream",
     "text": [
      "-0.0004044515 -0.000404458\n"
     ]
    }
   ],
   "source": [
    "print bs[0], df_trimmed.Bx[13]"
   ]
  },
  {
   "cell_type": "code",
   "execution_count": 19,
   "metadata": {
    "collapsed": false
   },
   "outputs": [
    {
     "data": {
      "text/plain": [
       "1.6070889931830089e-05"
      ]
     },
     "execution_count": 19,
     "metadata": {},
     "output_type": "execute_result"
    }
   ],
   "source": [
    "(df_trimmed.Bx[13]-bs[0])/df_trimmed.Bx[13]"
   ]
  },
  {
   "cell_type": "code",
   "execution_count": null,
   "metadata": {
    "collapsed": true
   },
   "outputs": [],
   "source": []
  }
 ],
 "metadata": {
  "kernelspec": {
   "display_name": "Python 2",
   "language": "python",
   "name": "python2"
  },
  "language_info": {
   "codemirror_mode": {
    "name": "ipython",
    "version": 2
   },
   "file_extension": ".py",
   "mimetype": "text/x-python",
   "name": "python",
   "nbconvert_exporter": "python",
   "pygments_lexer": "ipython2",
   "version": "2.7.12"
  }
 },
 "nbformat": 4,
 "nbformat_minor": 0
}
