{
 "cells": [
  {
   "cell_type": "markdown",
   "metadata": {},
   "source": [
    "# 3D Interpolation with Scipy"
   ]
  },
  {
   "cell_type": "markdown",
   "metadata": {},
   "source": [
    "The hall probe measurement simulation software is hamstrung by the sparseness of the available field grid data.  The Mau10 and GA05 field grids are given in Cartesian coordinates, with 25 mm spacing on the X, Y, and Z axes.  The hall probe measurement device will work most naturally in cylindrical coordinates.  In order to sample regular cylindrically symmetric data from the field grids, one must either cherry pick values that coincide with the 25x25x25 mm spacing, or generate data through interpolation.\n",
    "\n",
    "The current interpolation method employed in the Mu2E organization for doing this is a linear 3D method.  This leads to can lead to fairly large errors in regions of large magnetic gradient, which would be unsuitable for further analysis.  We will attempt to use a more robust interpolate method and compare those results with random field data (provided in a separate file for validation purposes)."
   ]
  },
  {
   "cell_type": "code",
   "execution_count": 2,
   "metadata": {
    "collapsed": false
   },
   "outputs": [
    {
     "data": {
      "application/javascript": [
       "require(['codemirror/mode/clike/clike'], function(Clike) { console.log('ROOTaaS - C++ CodeMirror module loaded'); });"
      ]
     },
     "metadata": {},
     "output_type": "display_data"
    },
    {
     "data": {
      "application/javascript": [
       "IPython.CodeCell.config_defaults.highlight_modes['magic_text/x-c++src'] = {'reg':[/^%%cpp/]};"
      ]
     },
     "metadata": {},
     "output_type": "display_data"
    },
    {
     "name": "stdout",
     "output_type": "stream",
     "text": [
      "Welcome to ROOTaaS 6.06/06\n"
     ]
    }
   ],
   "source": [
    "from mu2e.dataframeprod import DataFrameMaker\n",
    "from mu2e import mu2e_ext_path\n",
    "import numpy as np"
   ]
  },
  {
   "cell_type": "code",
   "execution_count": 3,
   "metadata": {
    "collapsed": true
   },
   "outputs": [],
   "source": [
    "df = DataFrameMaker(mu2e_ext_path+'datafiles/Mau10/Standard_Maps/Mu2e_DSMap',use_pickle = True).data_frame"
   ]
  },
  {
   "cell_type": "code",
   "execution_count": 4,
   "metadata": {
    "collapsed": false
   },
   "outputs": [
    {
     "data": {
      "text/html": [
       "<div>\n",
       "<table border=\"1\" class=\"dataframe\">\n",
       "  <thead>\n",
       "    <tr style=\"text-align: right;\">\n",
       "      <th></th>\n",
       "      <th>X</th>\n",
       "      <th>Y</th>\n",
       "      <th>Z</th>\n",
       "      <th>Bx</th>\n",
       "      <th>By</th>\n",
       "      <th>Bz</th>\n",
       "      <th>R</th>\n",
       "      <th>Phi</th>\n",
       "      <th>Bphi</th>\n",
       "      <th>Br</th>\n",
       "    </tr>\n",
       "  </thead>\n",
       "  <tbody>\n",
       "    <tr>\n",
       "      <th>0</th>\n",
       "      <td>-1200.0</td>\n",
       "      <td>-1200.0</td>\n",
       "      <td>3071.0</td>\n",
       "      <td>0.129282</td>\n",
       "      <td>0.132041</td>\n",
       "      <td>0.044331</td>\n",
       "      <td>1697.056275</td>\n",
       "      <td>-2.356194</td>\n",
       "      <td>-0.001951</td>\n",
       "      <td>-0.184783</td>\n",
       "    </tr>\n",
       "    <tr>\n",
       "      <th>1</th>\n",
       "      <td>-1200.0</td>\n",
       "      <td>-1200.0</td>\n",
       "      <td>3096.0</td>\n",
       "      <td>0.132108</td>\n",
       "      <td>0.134881</td>\n",
       "      <td>0.041163</td>\n",
       "      <td>1697.056275</td>\n",
       "      <td>-2.356194</td>\n",
       "      <td>-0.001960</td>\n",
       "      <td>-0.188790</td>\n",
       "    </tr>\n",
       "    <tr>\n",
       "      <th>2</th>\n",
       "      <td>-1200.0</td>\n",
       "      <td>-1200.0</td>\n",
       "      <td>3121.0</td>\n",
       "      <td>0.134887</td>\n",
       "      <td>0.137672</td>\n",
       "      <td>0.037731</td>\n",
       "      <td>1697.056275</td>\n",
       "      <td>-2.356194</td>\n",
       "      <td>-0.001969</td>\n",
       "      <td>-0.192728</td>\n",
       "    </tr>\n",
       "    <tr>\n",
       "      <th>3</th>\n",
       "      <td>-1200.0</td>\n",
       "      <td>-1200.0</td>\n",
       "      <td>3146.0</td>\n",
       "      <td>0.137602</td>\n",
       "      <td>0.140399</td>\n",
       "      <td>0.034029</td>\n",
       "      <td>1697.056275</td>\n",
       "      <td>-2.356194</td>\n",
       "      <td>-0.001977</td>\n",
       "      <td>-0.196576</td>\n",
       "    </tr>\n",
       "    <tr>\n",
       "      <th>4</th>\n",
       "      <td>-1200.0</td>\n",
       "      <td>-1200.0</td>\n",
       "      <td>3171.0</td>\n",
       "      <td>0.140237</td>\n",
       "      <td>0.143045</td>\n",
       "      <td>0.030050</td>\n",
       "      <td>1697.056275</td>\n",
       "      <td>-2.356194</td>\n",
       "      <td>-0.001985</td>\n",
       "      <td>-0.200311</td>\n",
       "    </tr>\n",
       "  </tbody>\n",
       "</table>\n",
       "</div>"
      ],
      "text/plain": [
       "        X       Y       Z        Bx        By        Bz            R  \\\n",
       "0 -1200.0 -1200.0  3071.0  0.129282  0.132041  0.044331  1697.056275   \n",
       "1 -1200.0 -1200.0  3096.0  0.132108  0.134881  0.041163  1697.056275   \n",
       "2 -1200.0 -1200.0  3121.0  0.134887  0.137672  0.037731  1697.056275   \n",
       "3 -1200.0 -1200.0  3146.0  0.137602  0.140399  0.034029  1697.056275   \n",
       "4 -1200.0 -1200.0  3171.0  0.140237  0.143045  0.030050  1697.056275   \n",
       "\n",
       "        Phi      Bphi        Br  \n",
       "0 -2.356194 -0.001951 -0.184783  \n",
       "1 -2.356194 -0.001960 -0.188790  \n",
       "2 -2.356194 -0.001969 -0.192728  \n",
       "3 -2.356194 -0.001977 -0.196576  \n",
       "4 -2.356194 -0.001985 -0.200311  "
      ]
     },
     "execution_count": 4,
     "metadata": {},
     "output_type": "execute_result"
    }
   ],
   "source": [
    "df.head()"
   ]
  },
  {
   "cell_type": "code",
   "execution_count": 5,
   "metadata": {
    "collapsed": true
   },
   "outputs": [],
   "source": [
    "df_rand = DataFrameMaker(mu2e_ext_path+'datafiles/Mau10/Standard_Maps/Mu2e_DSMap_rand1mil',use_pickle = True).data_frame"
   ]
  },
  {
   "cell_type": "code",
   "execution_count": 6,
   "metadata": {
    "collapsed": false
   },
   "outputs": [
    {
     "data": {
      "text/html": [
       "<div>\n",
       "<table border=\"1\" class=\"dataframe\">\n",
       "  <thead>\n",
       "    <tr style=\"text-align: right;\">\n",
       "      <th></th>\n",
       "      <th>X</th>\n",
       "      <th>Y</th>\n",
       "      <th>Z</th>\n",
       "      <th>Bx</th>\n",
       "      <th>By</th>\n",
       "      <th>Bz</th>\n",
       "      <th>R</th>\n",
       "      <th>Phi</th>\n",
       "      <th>Bphi</th>\n",
       "      <th>Br</th>\n",
       "    </tr>\n",
       "  </thead>\n",
       "  <tbody>\n",
       "    <tr>\n",
       "      <th>0</th>\n",
       "      <td>-1007.9996</td>\n",
       "      <td>-0.708404</td>\n",
       "      <td>12190.6920</td>\n",
       "      <td>-0.005847</td>\n",
       "      <td>-0.000004</td>\n",
       "      <td>0.993192</td>\n",
       "      <td>1007.999849</td>\n",
       "      <td>-3.140890</td>\n",
       "      <td>-1.790000e-07</td>\n",
       "      <td>0.005847</td>\n",
       "    </tr>\n",
       "    <tr>\n",
       "      <th>1</th>\n",
       "      <td>-1007.9966</td>\n",
       "      <td>-1.116473</td>\n",
       "      <td>7536.1132</td>\n",
       "      <td>-0.564179</td>\n",
       "      <td>-0.000629</td>\n",
       "      <td>1.455297</td>\n",
       "      <td>1007.997218</td>\n",
       "      <td>-3.140485</td>\n",
       "      <td>4.159000e-06</td>\n",
       "      <td>0.564180</td>\n",
       "    </tr>\n",
       "    <tr>\n",
       "      <th>2</th>\n",
       "      <td>-1007.9943</td>\n",
       "      <td>-1.397842</td>\n",
       "      <td>5638.5763</td>\n",
       "      <td>0.147173</td>\n",
       "      <td>0.000207</td>\n",
       "      <td>1.172049</td>\n",
       "      <td>1007.995269</td>\n",
       "      <td>-3.140206</td>\n",
       "      <td>-3.246000e-06</td>\n",
       "      <td>-0.147173</td>\n",
       "    </tr>\n",
       "    <tr>\n",
       "      <th>3</th>\n",
       "      <td>-1007.9935</td>\n",
       "      <td>-1.022141</td>\n",
       "      <td>7750.8171</td>\n",
       "      <td>-0.221387</td>\n",
       "      <td>-0.000226</td>\n",
       "      <td>0.703601</td>\n",
       "      <td>1007.994018</td>\n",
       "      <td>-3.140579</td>\n",
       "      <td>1.061000e-06</td>\n",
       "      <td>0.221387</td>\n",
       "    </tr>\n",
       "    <tr>\n",
       "      <th>4</th>\n",
       "      <td>-1007.9879</td>\n",
       "      <td>-1.502013</td>\n",
       "      <td>8048.6632</td>\n",
       "      <td>0.059701</td>\n",
       "      <td>0.000091</td>\n",
       "      <td>1.010066</td>\n",
       "      <td>1007.989019</td>\n",
       "      <td>-3.140103</td>\n",
       "      <td>-1.725000e-06</td>\n",
       "      <td>-0.059701</td>\n",
       "    </tr>\n",
       "  </tbody>\n",
       "</table>\n",
       "</div>"
      ],
      "text/plain": [
       "           X         Y           Z        Bx        By        Bz            R  \\\n",
       "0 -1007.9996 -0.708404  12190.6920 -0.005847 -0.000004  0.993192  1007.999849   \n",
       "1 -1007.9966 -1.116473   7536.1132 -0.564179 -0.000629  1.455297  1007.997218   \n",
       "2 -1007.9943 -1.397842   5638.5763  0.147173  0.000207  1.172049  1007.995269   \n",
       "3 -1007.9935 -1.022141   7750.8171 -0.221387 -0.000226  0.703601  1007.994018   \n",
       "4 -1007.9879 -1.502013   8048.6632  0.059701  0.000091  1.010066  1007.989019   \n",
       "\n",
       "        Phi          Bphi        Br  \n",
       "0 -3.140890 -1.790000e-07  0.005847  \n",
       "1 -3.140485  4.159000e-06  0.564180  \n",
       "2 -3.140206 -3.246000e-06 -0.147173  \n",
       "3 -3.140579  1.061000e-06  0.221387  \n",
       "4 -3.140103 -1.725000e-06 -0.059701  "
      ]
     },
     "execution_count": 6,
     "metadata": {},
     "output_type": "execute_result"
    }
   ],
   "source": [
    "df_rand.head()"
   ]
  },
  {
   "cell_type": "code",
   "execution_count": 7,
   "metadata": {
    "collapsed": false
   },
   "outputs": [
    {
     "data": {
      "text/plain": [
       "999.95324000000005"
      ]
     },
     "execution_count": 7,
     "metadata": {},
     "output_type": "execute_result"
    }
   ],
   "source": [
    "df_rand.Y.max()"
   ]
  },
  {
   "cell_type": "code",
   "execution_count": 8,
   "metadata": {
    "collapsed": true
   },
   "outputs": [],
   "source": [
    "df_rand_subset = df_rand.query('-800<=X<=800 and -800<=Y<=800 and 4200<=Z<=13000')"
   ]
  },
  {
   "cell_type": "markdown",
   "metadata": {},
   "source": [
    "We have our dataframes queued up.  We will attempt to interpolate a regular grid from `df`, and test values from `df_rand` to determine our accuracy.  Let's try to use scipy.interpolate.Rbf in a simple case, first:"
   ]
  },
  {
   "cell_type": "code",
   "execution_count": 9,
   "metadata": {
    "collapsed": true
   },
   "outputs": [],
   "source": [
    "from scipy.interpolate import Rbf"
   ]
  },
  {
   "cell_type": "code",
   "execution_count": 10,
   "metadata": {
    "collapsed": true
   },
   "outputs": [],
   "source": [
    "x, y, z, d = np.random.rand(4, 50)\n",
    "rbfi = Rbf(x, y, z, d)\n",
    "xi = yi = zi = np.linspace(0, 1, 20)\n",
    "di = rbfi(xi, yi, zi)"
   ]
  },
  {
   "cell_type": "code",
   "execution_count": 11,
   "metadata": {
    "collapsed": false
   },
   "outputs": [
    {
     "name": "stdout",
     "output_type": "stream",
     "text": [
      "[ 1.75961646  1.65626307  1.46292376  1.13557176  0.68567939  0.27926388\n",
      "  0.13847302  0.23791467  0.41512708  0.61945596  0.84103861  1.00447306\n",
      "  1.03132202  0.9299935   0.7087673   0.38808491  0.28518946  0.80136863\n",
      "  1.64291676  2.26531071]\n"
     ]
    }
   ],
   "source": [
    "print di"
   ]
  },
  {
   "cell_type": "code",
   "execution_count": 12,
   "metadata": {
    "collapsed": false
   },
   "outputs": [],
   "source": [
    "def cylindrical_norm(x1,x2):\n",
    "    return np.sqrt(\n",
    "        (x1[0,:]*np.cos(x1[1,:])-x2[0,:]*np.cos(x2[1,:]))**2 +\n",
    "        (x1[0,:]*np.sin(x1[1,:])-x2[0,:]*np.sin(x2[1,:]))**2 +\n",
    "        (x1[2,:]-x2[2,:])**2)"
   ]
  },
  {
   "cell_type": "code",
   "execution_count": 13,
   "metadata": {
    "collapsed": false
   },
   "outputs": [],
   "source": [
    "my_rand = df_rand_subset.sample(1)"
   ]
  },
  {
   "cell_type": "code",
   "execution_count": 14,
   "metadata": {
    "collapsed": false
   },
   "outputs": [
    {
     "data": {
      "text/plain": [
       "array([ 782.8331])"
      ]
     },
     "execution_count": 14,
     "metadata": {},
     "output_type": "execute_result"
    }
   ],
   "source": [
    "my_rand.X.values"
   ]
  },
  {
   "cell_type": "code",
   "execution_count": 15,
   "metadata": {
    "collapsed": false
   },
   "outputs": [],
   "source": [
    "df_subset = df.query('{0}<=X<={1} and {2}<=Y<={3} and {4}<=Z<={5}'.format(\n",
    "    my_rand.X.values-100, my_rand.X.values+100, my_rand.Y.values-100, my_rand.Y.values+100, my_rand.Z.values-100, my_rand.Z.values+100))"
   ]
  },
  {
   "cell_type": "code",
   "execution_count": 16,
   "metadata": {
    "collapsed": true
   },
   "outputs": [],
   "source": [
    "x = df_subset.X\n",
    "y = df_subset.Y\n",
    "z = df_subset.Z\n",
    "r = df_subset.R\n",
    "phi = df_subset.Phi\n",
    "bz = df_subset.Bz\n",
    "br = df_subset.Br\n",
    "bphi = df_subset.Bphi\n",
    "\n"
   ]
  },
  {
   "cell_type": "code",
   "execution_count": 17,
   "metadata": {
    "collapsed": false
   },
   "outputs": [],
   "source": [
    "rbf_bz = Rbf(r, phi, z, bz,function='quintic', norm=cylindrical_norm)"
   ]
  },
  {
   "cell_type": "code",
   "execution_count": 18,
   "metadata": {
    "collapsed": false
   },
   "outputs": [],
   "source": [
    "i_bz = rbf_bz(my_rand.R, my_rand.Phi, my_rand.Z)\n",
    "t_bz = my_rand.Bz"
   ]
  },
  {
   "cell_type": "code",
   "execution_count": 19,
   "metadata": {
    "collapsed": false
   },
   "outputs": [],
   "source": [
    "res =abs(i_bz-t_bz)"
   ]
  },
  {
   "cell_type": "code",
   "execution_count": 20,
   "metadata": {
    "collapsed": false
   },
   "outputs": [
    {
     "data": {
      "text/plain": [
       "0.0084320293313207006"
      ]
     },
     "execution_count": 20,
     "metadata": {},
     "output_type": "execute_result"
    }
   ],
   "source": [
    "max(res)"
   ]
  },
  {
   "cell_type": "code",
   "execution_count": 22,
   "metadata": {
    "collapsed": false,
    "scrolled": false
   },
   "outputs": [
    {
     "name": "stdout",
     "output_type": "stream",
     "text": [
      "[  1.10988553e-06]\n",
      "[  5.60962154e-05]\n",
      "[  6.94887655e-05]\n",
      "[  1.39103058e-05]\n",
      "[  4.26645034e-06]\n",
      "[  5.87751465e-05]\n",
      "[  5.53414065e-05]\n",
      "[  1.64264764e-05]\n",
      "[  7.48601628e-06]\n",
      "[  2.01227523e-05]\n",
      "[  1.31997806e-05]\n",
      "[  5.15293142e-05]\n",
      "[  1.72742195e-05]\n",
      "0.000149896517974 13\n",
      "               X          Y          Z        Bx        By        Bz  \\\n",
      "123356 -761.6438 -601.08817  10006.513 -0.001967 -0.001196  1.016388   \n",
      "\n",
      "                 R       Phi     Bphi        Br  \n",
      "123356  970.261958 -2.473473 -0.00028  0.002285  \n",
      " 1.01653829652\n",
      "[  2.59941223e-05]\n",
      "[  2.19014490e-05]\n",
      "[  8.79060490e-06]\n",
      "[  1.62926409e-05]\n",
      "[  2.85912646e-05]\n",
      "[  1.75149845e-05]\n",
      "[  4.46748938e-05]\n",
      "[  9.72655726e-05]\n",
      "[  5.71681950e-06]\n",
      "[  1.90014767e-05]\n",
      "[  4.95713563e-05]\n",
      "[  3.49609486e-05]\n",
      "[  2.26307451e-08]\n",
      "[  7.31242115e-05]\n",
      "[  4.04508927e-05]\n",
      "[  2.23699307e-05]\n",
      "[  2.65305293e-05]\n",
      "[  5.16079357e-05]\n",
      "[  6.58921782e-05]\n",
      "[  4.16980607e-05]\n",
      "[  1.26093018e-06]\n",
      "[  3.85469950e-05]\n",
      "[  4.46247482e-05]\n",
      "0.000878018328665 37\n",
      "               X          Y          Z        Bx        By        Bz  \\\n",
      "108280 -791.5224  596.89745  8331.4896  0.006519 -0.005467  1.032335   \n",
      "\n",
      "                 R       Phi      Bphi        Br  \n",
      "108280  991.359811  2.495464  0.000439 -0.008496  \n",
      " 1.03145708167\n",
      "0.000302019644037 38\n",
      "               X          Y          Z        Bx        By        Bz  \\\n",
      "779961  551.8159 -799.20619  4654.7498  0.186782 -0.269708  2.002137   \n",
      "\n",
      "                 R       Phi      Bphi        Br  \n",
      "779961  971.200969 -0.966505  0.000462  0.328069  \n",
      " 2.00183458036\n",
      "[  8.24234959e-05]\n",
      "[  4.33278643e-05]\n",
      "[  6.93503823e-05]\n",
      "[  3.31186305e-05]\n",
      "[  3.85036817e-05]\n",
      "[  3.62195587e-06]\n",
      "[  2.63189572e-05]\n",
      "[  1.24485334e-05]\n",
      "[  2.12760840e-06]\n",
      "[  2.27056868e-05]\n",
      "[  8.44726346e-06]\n",
      "[  4.33390443e-05]\n",
      "[  5.73544154e-05]\n",
      "[  4.32937509e-05]\n",
      "[  4.51086244e-05]\n",
      "[  6.64772984e-06]\n",
      "[  1.70216016e-05]\n",
      "[  2.10005560e-05]\n",
      "[  7.75548267e-05]\n",
      "[  4.01107264e-05]\n",
      "[  1.13390142e-05]\n",
      "[  7.94191872e-06]\n",
      "[  4.10731969e-05]\n",
      "[  6.26598211e-05]\n",
      "[  5.18728279e-06]\n",
      "[  3.28419137e-05]\n",
      "[  3.31713536e-05]\n",
      "[  2.21200207e-05]\n",
      "[  3.24010944e-05]\n",
      "[  1.01453528e-05]\n",
      "[  4.57427535e-05]\n",
      "[  2.02274585e-05]\n",
      "[  2.92798786e-05]\n",
      "[  1.21925446e-05]\n",
      "[  2.06862372e-05]\n",
      "[  6.10177294e-05]\n",
      "[  7.55556602e-06]\n",
      "[  3.92130851e-05]\n",
      "[  3.94799185e-07]\n",
      "[  6.48906746e-05]\n",
      "[  3.40603805e-06]\n",
      "[  6.61358407e-05]\n",
      "[  6.25058160e-05]\n",
      "[  4.91622730e-05]\n",
      "[  5.26308917e-05]\n",
      "[  4.50346034e-05]\n",
      "[  3.09005483e-06]\n",
      "[  2.12216087e-05]\n",
      "[  2.72412335e-05]\n",
      "[  7.23081909e-05]\n",
      "[  6.46987690e-06]\n",
      "[  1.87409195e-05]\n",
      "[  3.72717521e-05]\n",
      "0.00114483835167 92\n",
      "               X          Y          Z        Bx        By        Bz  \\\n",
      "188434 -630.9275  761.09892  12900.232  0.002791 -0.003743  0.983012   \n",
      "\n",
      "                 R       Phi     Bphi        Br  \n",
      "188434  988.605622  2.262953  0.00024 -0.004663  \n",
      " 0.981866731648\n",
      "[  7.04747263e-05]\n",
      "[  5.23294471e-05]\n",
      "[  6.31974123e-05]\n",
      "[  3.65617741e-05]\n",
      "[  3.01462401e-06]\n",
      "[  1.04477402e-05]\n",
      "[  1.28889697e-05]\n",
      "bads: 4\n"
     ]
    }
   ],
   "source": [
    "buffer = 100\n",
    "counter = 0\n",
    "for i in xrange(100):\n",
    "#for i in xrange(13,14):\n",
    "    my_rand = df_rand_subset.sample(1,random_state=i+10)\n",
    "    df_subset = df.query('{0}<=X<={1} and {2}<=Y<={3} and {4}<=Z<={5}'.format(\n",
    "        my_rand.X.values-buffer, my_rand.X.values+buffer, my_rand.Y.values-buffer, my_rand.Y.values+buffer, my_rand.Z.values-buffer, my_rand.Z.values+buffer))\n",
    "    x = df_subset.X\n",
    "    y = df_subset.Y\n",
    "    z = df_subset.Z\n",
    "    r = df_subset.R\n",
    "    phi = df_subset.Phi\n",
    "    bz = df_subset.Bz\n",
    "    br = df_subset.Br\n",
    "    bphi = df_subset.Bphi\n",
    "    rbf_bz = Rbf(r, phi, z, bz,function='linear', norm=cylindrical_norm, epsilon=20)\n",
    "    i_bz = rbf_bz(my_rand.R, my_rand.Phi, my_rand.Z)\n",
    "    t_bz = my_rand.Bz\n",
    "    res = abs(i_bz-t_bz).values\n",
    "    if res>1e-4:\n",
    "        print res[0], i\n",
    "        print my_rand\n",
    "        print '',i_bz[0]\n",
    "        counter +=1\n",
    "    else: print res\n",
    "print 'bads:', counter"
   ]
  },
  {
   "cell_type": "code",
   "execution_count": null,
   "metadata": {
    "collapsed": false
   },
   "outputs": [],
   "source": [
    "print np.asarray(res_lin)-np.asarray(res_quin)"
   ]
  },
  {
   "cell_type": "code",
   "execution_count": null,
   "metadata": {
    "collapsed": false
   },
   "outputs": [],
   "source": [
    "rbf_br = Rbf(r, phi, z, br,function='gaussian', norm=cylindrical_norm)\n",
    "i_br = rbf_br(df_rand_subset.R, df_rand_subset.Phi, df_rand_subset.Z)\n",
    "t_br = df_rand_subset.Br\n",
    "res =abs(i_br-t_br)\n",
    "max(res)"
   ]
  },
  {
   "cell_type": "code",
   "execution_count": null,
   "metadata": {
    "collapsed": false
   },
   "outputs": [],
   "source": [
    "rbf_bphi = Rbf(r, phi, z, bphi,function='quintic', norm=cylindrical_norm)\n",
    "i_bphi = rbf_bphi(df_rand_subset.R, df_rand_subset.Phi, df_rand_subset.Z)\n",
    "t_bphi = df_rand_subset.Bphi\n",
    "res =abs(i_bphi-t_bphi)\n",
    "max(res)"
   ]
  },
  {
   "cell_type": "code",
   "execution_count": null,
   "metadata": {
    "collapsed": true
   },
   "outputs": [],
   "source": []
  }
 ],
 "metadata": {
  "kernelspec": {
   "display_name": "Python 2",
   "language": "python",
   "name": "python2"
  },
  "language_info": {
   "codemirror_mode": {
    "name": "ipython",
    "version": 2
   },
   "file_extension": ".py",
   "mimetype": "text/x-python",
   "name": "python",
   "nbconvert_exporter": "python",
   "pygments_lexer": "ipython2",
   "version": "2.7.12"
  }
 },
 "nbformat": 4,
 "nbformat_minor": 0
}
