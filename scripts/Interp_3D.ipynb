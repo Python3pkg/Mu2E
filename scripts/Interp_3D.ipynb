{
 "cells": [
  {
   "cell_type": "markdown",
   "metadata": {},
   "source": [
    "# 3D Interpolation with Scipy"
   ]
  },
  {
   "cell_type": "markdown",
   "metadata": {},
   "source": [
    "The hall probe measurement simulation software is hamstrung by the sparseness of the available field grid data.  The Mau10 and GA05 field grids are given in Cartesian coordinates, with 25 mm spacing on the X, Y, and Z axes.  The hall probe measurement device will work most naturally in cylindrical coordinates.  In order to sample regular cylindrically symmetric data from the field grids, one must either cherry pick values that coincide with the 25x25x25 mm spacing, or generate data through interpolation.\n",
    "\n",
    "The current interpolation method employed in the Mu2E organization for doing this is a linear 3D method.  This leads to can lead to fairly large errors in regions of large magnetic gradient, which would be unsuitable for further analysis.  We will attempt to use a more robust interpolate method and compare those results with random field data (provided in a separate file for validation purposes)."
   ]
  },
  {
   "cell_type": "code",
   "execution_count": 212,
   "metadata": {
    "collapsed": true
   },
   "outputs": [],
   "source": [
    "from mu2e.datafileprod import DataFileMaker\n",
    "import numpy as np"
   ]
  },
  {
   "cell_type": "code",
   "execution_count": 2,
   "metadata": {
    "collapsed": true
   },
   "outputs": [],
   "source": [
    "df = DataFileMaker('../datafiles/Mau10/Standard_Maps/Mu2e_DSMap',use_pickle = True).data_frame"
   ]
  },
  {
   "cell_type": "code",
   "execution_count": 3,
   "metadata": {
    "collapsed": false
   },
   "outputs": [
    {
     "data": {
      "text/html": [
       "<div>\n",
       "<table border=\"1\" class=\"dataframe\">\n",
       "  <thead>\n",
       "    <tr style=\"text-align: right;\">\n",
       "      <th></th>\n",
       "      <th>X</th>\n",
       "      <th>Y</th>\n",
       "      <th>Z</th>\n",
       "      <th>Bx</th>\n",
       "      <th>By</th>\n",
       "      <th>Bz</th>\n",
       "      <th>R</th>\n",
       "      <th>Phi</th>\n",
       "      <th>Bphi</th>\n",
       "      <th>Br</th>\n",
       "    </tr>\n",
       "  </thead>\n",
       "  <tbody>\n",
       "    <tr>\n",
       "      <th>0</th>\n",
       "      <td>-1200.0</td>\n",
       "      <td>-1200.0</td>\n",
       "      <td>3071.0</td>\n",
       "      <td>0.129282</td>\n",
       "      <td>0.132041</td>\n",
       "      <td>0.044331</td>\n",
       "      <td>1697.056275</td>\n",
       "      <td>-2.356194</td>\n",
       "      <td>-0.001951</td>\n",
       "      <td>-0.184783</td>\n",
       "    </tr>\n",
       "    <tr>\n",
       "      <th>1</th>\n",
       "      <td>-1200.0</td>\n",
       "      <td>-1200.0</td>\n",
       "      <td>3096.0</td>\n",
       "      <td>0.132108</td>\n",
       "      <td>0.134881</td>\n",
       "      <td>0.041163</td>\n",
       "      <td>1697.056275</td>\n",
       "      <td>-2.356194</td>\n",
       "      <td>-0.001960</td>\n",
       "      <td>-0.188790</td>\n",
       "    </tr>\n",
       "    <tr>\n",
       "      <th>2</th>\n",
       "      <td>-1200.0</td>\n",
       "      <td>-1200.0</td>\n",
       "      <td>3121.0</td>\n",
       "      <td>0.134887</td>\n",
       "      <td>0.137672</td>\n",
       "      <td>0.037731</td>\n",
       "      <td>1697.056275</td>\n",
       "      <td>-2.356194</td>\n",
       "      <td>-0.001969</td>\n",
       "      <td>-0.192728</td>\n",
       "    </tr>\n",
       "    <tr>\n",
       "      <th>3</th>\n",
       "      <td>-1200.0</td>\n",
       "      <td>-1200.0</td>\n",
       "      <td>3146.0</td>\n",
       "      <td>0.137602</td>\n",
       "      <td>0.140399</td>\n",
       "      <td>0.034029</td>\n",
       "      <td>1697.056275</td>\n",
       "      <td>-2.356194</td>\n",
       "      <td>-0.001977</td>\n",
       "      <td>-0.196576</td>\n",
       "    </tr>\n",
       "    <tr>\n",
       "      <th>4</th>\n",
       "      <td>-1200.0</td>\n",
       "      <td>-1200.0</td>\n",
       "      <td>3171.0</td>\n",
       "      <td>0.140237</td>\n",
       "      <td>0.143045</td>\n",
       "      <td>0.030050</td>\n",
       "      <td>1697.056275</td>\n",
       "      <td>-2.356194</td>\n",
       "      <td>-0.001985</td>\n",
       "      <td>-0.200311</td>\n",
       "    </tr>\n",
       "  </tbody>\n",
       "</table>\n",
       "</div>"
      ],
      "text/plain": [
       "        X       Y       Z        Bx        By        Bz            R  \\\n",
       "0 -1200.0 -1200.0  3071.0  0.129282  0.132041  0.044331  1697.056275   \n",
       "1 -1200.0 -1200.0  3096.0  0.132108  0.134881  0.041163  1697.056275   \n",
       "2 -1200.0 -1200.0  3121.0  0.134887  0.137672  0.037731  1697.056275   \n",
       "3 -1200.0 -1200.0  3146.0  0.137602  0.140399  0.034029  1697.056275   \n",
       "4 -1200.0 -1200.0  3171.0  0.140237  0.143045  0.030050  1697.056275   \n",
       "\n",
       "        Phi      Bphi        Br  \n",
       "0 -2.356194 -0.001951 -0.184783  \n",
       "1 -2.356194 -0.001960 -0.188790  \n",
       "2 -2.356194 -0.001969 -0.192728  \n",
       "3 -2.356194 -0.001977 -0.196576  \n",
       "4 -2.356194 -0.001985 -0.200311  "
      ]
     },
     "execution_count": 3,
     "metadata": {},
     "output_type": "execute_result"
    }
   ],
   "source": [
    "df.head()"
   ]
  },
  {
   "cell_type": "code",
   "execution_count": 68,
   "metadata": {
    "collapsed": true
   },
   "outputs": [],
   "source": [
    "df_rand = DataFileMaker('../datafiles/Mau10/Standard_Maps/Mu2e_DSMap_rand1mil',use_pickle = True).data_frame"
   ]
  },
  {
   "cell_type": "code",
   "execution_count": 69,
   "metadata": {
    "collapsed": false
   },
   "outputs": [
    {
     "data": {
      "text/html": [
       "<div>\n",
       "<table border=\"1\" class=\"dataframe\">\n",
       "  <thead>\n",
       "    <tr style=\"text-align: right;\">\n",
       "      <th></th>\n",
       "      <th>X</th>\n",
       "      <th>Y</th>\n",
       "      <th>Z</th>\n",
       "      <th>Bx</th>\n",
       "      <th>By</th>\n",
       "      <th>Bz</th>\n",
       "      <th>R</th>\n",
       "      <th>Phi</th>\n",
       "      <th>Bphi</th>\n",
       "      <th>Br</th>\n",
       "    </tr>\n",
       "  </thead>\n",
       "  <tbody>\n",
       "    <tr>\n",
       "      <th>0</th>\n",
       "      <td>-1007.9996</td>\n",
       "      <td>-0.708404</td>\n",
       "      <td>12190.6920</td>\n",
       "      <td>-0.005847</td>\n",
       "      <td>-0.000004</td>\n",
       "      <td>0.993192</td>\n",
       "      <td>1007.999849</td>\n",
       "      <td>-3.140890</td>\n",
       "      <td>-1.790000e-07</td>\n",
       "      <td>0.005847</td>\n",
       "    </tr>\n",
       "    <tr>\n",
       "      <th>1</th>\n",
       "      <td>-1007.9966</td>\n",
       "      <td>-1.116473</td>\n",
       "      <td>7536.1132</td>\n",
       "      <td>-0.564179</td>\n",
       "      <td>-0.000629</td>\n",
       "      <td>1.455297</td>\n",
       "      <td>1007.997218</td>\n",
       "      <td>-3.140485</td>\n",
       "      <td>4.159000e-06</td>\n",
       "      <td>0.564180</td>\n",
       "    </tr>\n",
       "    <tr>\n",
       "      <th>2</th>\n",
       "      <td>-1007.9943</td>\n",
       "      <td>-1.397842</td>\n",
       "      <td>5638.5763</td>\n",
       "      <td>0.147173</td>\n",
       "      <td>0.000207</td>\n",
       "      <td>1.172049</td>\n",
       "      <td>1007.995269</td>\n",
       "      <td>-3.140206</td>\n",
       "      <td>-3.246000e-06</td>\n",
       "      <td>-0.147173</td>\n",
       "    </tr>\n",
       "    <tr>\n",
       "      <th>3</th>\n",
       "      <td>-1007.9935</td>\n",
       "      <td>-1.022141</td>\n",
       "      <td>7750.8171</td>\n",
       "      <td>-0.221387</td>\n",
       "      <td>-0.000226</td>\n",
       "      <td>0.703601</td>\n",
       "      <td>1007.994018</td>\n",
       "      <td>-3.140579</td>\n",
       "      <td>1.061000e-06</td>\n",
       "      <td>0.221387</td>\n",
       "    </tr>\n",
       "    <tr>\n",
       "      <th>4</th>\n",
       "      <td>-1007.9879</td>\n",
       "      <td>-1.502013</td>\n",
       "      <td>8048.6632</td>\n",
       "      <td>0.059701</td>\n",
       "      <td>0.000091</td>\n",
       "      <td>1.010066</td>\n",
       "      <td>1007.989019</td>\n",
       "      <td>-3.140103</td>\n",
       "      <td>-1.725000e-06</td>\n",
       "      <td>-0.059701</td>\n",
       "    </tr>\n",
       "  </tbody>\n",
       "</table>\n",
       "</div>"
      ],
      "text/plain": [
       "           X         Y           Z        Bx        By        Bz            R  \\\n",
       "0 -1007.9996 -0.708404  12190.6920 -0.005847 -0.000004  0.993192  1007.999849   \n",
       "1 -1007.9966 -1.116473   7536.1132 -0.564179 -0.000629  1.455297  1007.997218   \n",
       "2 -1007.9943 -1.397842   5638.5763  0.147173  0.000207  1.172049  1007.995269   \n",
       "3 -1007.9935 -1.022141   7750.8171 -0.221387 -0.000226  0.703601  1007.994018   \n",
       "4 -1007.9879 -1.502013   8048.6632  0.059701  0.000091  1.010066  1007.989019   \n",
       "\n",
       "        Phi          Bphi        Br  \n",
       "0 -3.140890 -1.790000e-07  0.005847  \n",
       "1 -3.140485  4.159000e-06  0.564180  \n",
       "2 -3.140206 -3.246000e-06 -0.147173  \n",
       "3 -3.140579  1.061000e-06  0.221387  \n",
       "4 -3.140103 -1.725000e-06 -0.059701  "
      ]
     },
     "execution_count": 69,
     "metadata": {},
     "output_type": "execute_result"
    }
   ],
   "source": [
    "df_rand.head()"
   ]
  },
  {
   "cell_type": "code",
   "execution_count": 72,
   "metadata": {
    "collapsed": false
   },
   "outputs": [
    {
     "data": {
      "text/plain": [
       "999.95324000000005"
      ]
     },
     "execution_count": 72,
     "metadata": {},
     "output_type": "execute_result"
    }
   ],
   "source": [
    "df_rand.Y.max()"
   ]
  },
  {
   "cell_type": "markdown",
   "metadata": {},
   "source": [
    "We have our dataframes queued up.  We will attempt to interpolate a regular grid from `df`, and test values from `df_rand` to determine our accuracy.  Let's try to use scipy.interpolate.Rbf in a simple case, first:"
   ]
  },
  {
   "cell_type": "code",
   "execution_count": 6,
   "metadata": {
    "collapsed": true
   },
   "outputs": [],
   "source": [
    "from scipy.interpolate import Rbf"
   ]
  },
  {
   "cell_type": "code",
   "execution_count": 7,
   "metadata": {
    "collapsed": true
   },
   "outputs": [],
   "source": [
    "x, y, z, d = np.random.rand(4, 50)\n",
    "rbfi = Rbf(x, y, z, d)\n",
    "xi = yi = zi = np.linspace(0, 1, 20)\n",
    "di = rbfi(xi, yi, zi)"
   ]
  },
  {
   "cell_type": "code",
   "execution_count": 8,
   "metadata": {
    "collapsed": false
   },
   "outputs": [
    {
     "name": "stdout",
     "output_type": "stream",
     "text": [
      "[ 0.38180703  0.27407509  0.18086105  0.12909194  0.16130581  0.30530448\n",
      "  0.52734052  0.73946123  0.85943045  0.85721002  0.76313443  0.63024096\n",
      "  0.48864523  0.34932557  0.22487432  0.1269399   0.05889031  0.01766057\n",
      " -0.00201629 -0.0051106 ]\n"
     ]
    }
   ],
   "source": [
    "print di"
   ]
  },
  {
   "cell_type": "code",
   "execution_count": 91,
   "metadata": {
    "collapsed": true
   },
   "outputs": [],
   "source": [
    "df_subset = df.query('-200<=X<=200 and -200<=Y<=200 and 8000<Z<8200')"
   ]
  },
  {
   "cell_type": "code",
   "execution_count": 92,
   "metadata": {
    "collapsed": false
   },
   "outputs": [
    {
     "data": {
      "text/html": [
       "<div>\n",
       "<table border=\"1\" class=\"dataframe\">\n",
       "  <thead>\n",
       "    <tr style=\"text-align: right;\">\n",
       "      <th></th>\n",
       "      <th>X</th>\n",
       "      <th>Y</th>\n",
       "      <th>Z</th>\n",
       "      <th>Bx</th>\n",
       "      <th>By</th>\n",
       "      <th>Bz</th>\n",
       "      <th>R</th>\n",
       "      <th>Phi</th>\n",
       "      <th>Bphi</th>\n",
       "      <th>Br</th>\n",
       "    </tr>\n",
       "  </thead>\n",
       "  <tbody>\n",
       "    <tr>\n",
       "      <th>2042518</th>\n",
       "      <td>-200.0</td>\n",
       "      <td>-200.0</td>\n",
       "      <td>8021.0</td>\n",
       "      <td>-0.010097</td>\n",
       "      <td>-0.009709</td>\n",
       "      <td>1.046913</td>\n",
       "      <td>282.842712</td>\n",
       "      <td>-2.356194</td>\n",
       "      <td>-0.000274</td>\n",
       "      <td>0.014005</td>\n",
       "    </tr>\n",
       "    <tr>\n",
       "      <th>2042519</th>\n",
       "      <td>-200.0</td>\n",
       "      <td>-200.0</td>\n",
       "      <td>8046.0</td>\n",
       "      <td>-0.009340</td>\n",
       "      <td>-0.008925</td>\n",
       "      <td>1.044676</td>\n",
       "      <td>282.842712</td>\n",
       "      <td>-2.356194</td>\n",
       "      <td>-0.000293</td>\n",
       "      <td>0.012915</td>\n",
       "    </tr>\n",
       "    <tr>\n",
       "      <th>2042520</th>\n",
       "      <td>-200.0</td>\n",
       "      <td>-200.0</td>\n",
       "      <td>8071.0</td>\n",
       "      <td>-0.008612</td>\n",
       "      <td>-0.008171</td>\n",
       "      <td>1.042650</td>\n",
       "      <td>282.842712</td>\n",
       "      <td>-2.356194</td>\n",
       "      <td>-0.000312</td>\n",
       "      <td>0.011868</td>\n",
       "    </tr>\n",
       "    <tr>\n",
       "      <th>2042521</th>\n",
       "      <td>-200.0</td>\n",
       "      <td>-200.0</td>\n",
       "      <td>8096.0</td>\n",
       "      <td>-0.007917</td>\n",
       "      <td>-0.007452</td>\n",
       "      <td>1.040825</td>\n",
       "      <td>282.842712</td>\n",
       "      <td>-2.356194</td>\n",
       "      <td>-0.000329</td>\n",
       "      <td>0.010868</td>\n",
       "    </tr>\n",
       "    <tr>\n",
       "      <th>2042522</th>\n",
       "      <td>-200.0</td>\n",
       "      <td>-200.0</td>\n",
       "      <td>8121.0</td>\n",
       "      <td>-0.007260</td>\n",
       "      <td>-0.006772</td>\n",
       "      <td>1.039187</td>\n",
       "      <td>282.842712</td>\n",
       "      <td>-2.356194</td>\n",
       "      <td>-0.000345</td>\n",
       "      <td>0.009922</td>\n",
       "    </tr>\n",
       "  </tbody>\n",
       "</table>\n",
       "</div>"
      ],
      "text/plain": [
       "             X      Y       Z        Bx        By        Bz           R  \\\n",
       "2042518 -200.0 -200.0  8021.0 -0.010097 -0.009709  1.046913  282.842712   \n",
       "2042519 -200.0 -200.0  8046.0 -0.009340 -0.008925  1.044676  282.842712   \n",
       "2042520 -200.0 -200.0  8071.0 -0.008612 -0.008171  1.042650  282.842712   \n",
       "2042521 -200.0 -200.0  8096.0 -0.007917 -0.007452  1.040825  282.842712   \n",
       "2042522 -200.0 -200.0  8121.0 -0.007260 -0.006772  1.039187  282.842712   \n",
       "\n",
       "              Phi      Bphi        Br  \n",
       "2042518 -2.356194 -0.000274  0.014005  \n",
       "2042519 -2.356194 -0.000293  0.012915  \n",
       "2042520 -2.356194 -0.000312  0.011868  \n",
       "2042521 -2.356194 -0.000329  0.010868  \n",
       "2042522 -2.356194 -0.000345  0.009922  "
      ]
     },
     "execution_count": 92,
     "metadata": {},
     "output_type": "execute_result"
    }
   ],
   "source": [
    "df_subset.head()"
   ]
  },
  {
   "cell_type": "code",
   "execution_count": 205,
   "metadata": {
    "collapsed": true
   },
   "outputs": [],
   "source": [
    "x = df_subset.X\n",
    "y = df_subset.Y\n",
    "z = df_subset.Z\n",
    "r = df_subset.R\n",
    "phi = df_subset.Phi\n",
    "bz = df_subset.Bz\n",
    "br = df_subset.Br\n",
    "bphi = df_subset.Bphi\n",
    "\n"
   ]
  },
  {
   "cell_type": "code",
   "execution_count": 224,
   "metadata": {
    "collapsed": false
   },
   "outputs": [],
   "source": [
    "def cylindrical_norm(x1,x2):\n",
    "    return np.sqrt(\n",
    "        (x1[0,:]*np.cos(x1[1,:])-x2[0,:]*np.cos(x2[1,:]))**2 +\n",
    "        (x1[0,:]*np.sin(x1[1,:])-x2[0,:]*np.sin(x2[1,:]))**2 +\n",
    "        (x1[2,:]-x2[2,:])**2)"
   ]
  },
  {
   "cell_type": "code",
   "execution_count": 405,
   "metadata": {
    "collapsed": true
   },
   "outputs": [],
   "source": [
    "df_rand_subset = df_rand.query('-150<=X<=150 and -150<=Y<=150 and 8050<Z<8150')"
   ]
  },
  {
   "cell_type": "code",
   "execution_count": 406,
   "metadata": {
    "collapsed": false
   },
   "outputs": [],
   "source": [
    "rbf_bz = Rbf(r, phi, z, bz,function='quintic', norm=cylindrical_norm)"
   ]
  },
  {
   "cell_type": "code",
   "execution_count": 407,
   "metadata": {
    "collapsed": false
   },
   "outputs": [],
   "source": [
    "i_bz = rbf_bz(df_rand_subset.R, df_rand_subset.Phi, df_rand_subset.Z)\n",
    "t_bz = df_rand_subset.Bz"
   ]
  },
  {
   "cell_type": "code",
   "execution_count": 408,
   "metadata": {
    "collapsed": false
   },
   "outputs": [],
   "source": [
    "res =abs(i_bz-t_bz)"
   ]
  },
  {
   "cell_type": "code",
   "execution_count": 409,
   "metadata": {
    "collapsed": false
   },
   "outputs": [
    {
     "data": {
      "text/plain": [
       "2.0260039196973167e-05"
      ]
     },
     "execution_count": 409,
     "metadata": {},
     "output_type": "execute_result"
    }
   ],
   "source": [
    "max(res)"
   ]
  },
  {
   "cell_type": "code",
   "execution_count": 416,
   "metadata": {
    "collapsed": false
   },
   "outputs": [
    {
     "data": {
      "text/plain": [
       "0.008951273414076439"
      ]
     },
     "execution_count": 416,
     "metadata": {},
     "output_type": "execute_result"
    }
   ],
   "source": [
    "rbf_br = Rbf(r, phi, z, br,function='gaussian', norm=cylindrical_norm)\n",
    "i_br = rbf_br(df_rand_subset.R, df_rand_subset.Phi, df_rand_subset.Z)\n",
    "t_br = df_rand_subset.Br\n",
    "res =abs(i_br-t_br)\n",
    "max(res)"
   ]
  },
  {
   "cell_type": "code",
   "execution_count": 411,
   "metadata": {
    "collapsed": false
   },
   "outputs": [
    {
     "data": {
      "text/plain": [
       "4.1370253890748261e-05"
      ]
     },
     "execution_count": 411,
     "metadata": {},
     "output_type": "execute_result"
    }
   ],
   "source": [
    "rbf_bphi = Rbf(r, phi, z, bphi,function='quintic', norm=cylindrical_norm)\n",
    "i_bphi = rbf_bphi(df_rand_subset.R, df_rand_subset.Phi, df_rand_subset.Z)\n",
    "t_bphi = df_rand_subset.Bphi\n",
    "res =abs(i_bphi-t_bphi)\n",
    "max(res)"
   ]
  },
  {
   "cell_type": "code",
   "execution_count": null,
   "metadata": {
    "collapsed": true
   },
   "outputs": [],
   "source": []
  }
 ],
 "metadata": {
  "kernelspec": {
   "display_name": "Python 2",
   "language": "python",
   "name": "python2"
  },
  "language_info": {
   "codemirror_mode": {
    "name": "ipython",
    "version": 2
   },
   "file_extension": ".py",
   "mimetype": "text/x-python",
   "name": "python",
   "nbconvert_exporter": "python",
   "pygments_lexer": "ipython2",
   "version": "2.7.11"
  }
 },
 "nbformat": 4,
 "nbformat_minor": 0
}
